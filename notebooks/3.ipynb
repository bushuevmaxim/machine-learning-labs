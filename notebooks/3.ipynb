{
 "cells": [
  {
   "cell_type": "code",
   "execution_count": 34,
   "metadata": {},
   "outputs": [],
   "source": [
    "import pandas as pd\n",
    "from sklearn.model_selection import train_test_split\n",
    "from sklearn.tree import DecisionTreeRegressor \n",
    "from sklearn.tree import DecisionTreeClassifier \n",
    "from math import sqrt\n",
    "import numpy as np\n",
    "from sklearn.metrics import mean_squared_error, mean_absolute_error, mean_absolute_percentage_error, r2_score\n",
    "from sklearn.metrics import accuracy_score, confusion_matrix, precision_score, recall_score, f1_score\n",
    "from sklearn.model_selection import GridSearchCV, RandomizedSearchCV\n",
    "import warnings\n",
    "from sklearn.ensemble import RandomForestClassifier\n",
    "from sklearn.svm import LinearSVC\n",
    "from sklearn.linear_model import LogisticRegression\n",
    "from sklearn.preprocessing import StandardScaler\n",
    "from sklearn.linear_model import RidgeCV\n",
    "from sklearn.svm import LinearSVR\n",
    "from sklearn.ensemble import RandomForestRegressor\n",
    "from sklearn.ensemble import StackingRegressor\n",
    "from sklearn.pipeline import make_pipeline\n",
    "from sklearn.naive_bayes import GaussianNB\n",
    "from sklearn.linear_model import Ridge\n",
    "from sklearn.neighbors import KNeighborsClassifier\n",
    "from sklearn.ensemble import StackingClassifier\n",
    "from imblearn.over_sampling import RandomOverSampler\n",
    "from sklearn.ensemble import BaggingClassifier, BaggingRegressor, GradientBoostingClassifier, GradientBoostingRegressor, StackingClassifier\n",
    "warnings.filterwarnings('ignore')\n",
    "from catboost import CatBoostRegressor, CatBoostClassifier"
   ]
  },
  {
   "cell_type": "code",
   "execution_count": 2,
   "metadata": {},
   "outputs": [
    {
     "data": {
      "text/html": [
       "<div>\n",
       "<style scoped>\n",
       "    .dataframe tbody tr th:only-of-type {\n",
       "        vertical-align: middle;\n",
       "    }\n",
       "\n",
       "    .dataframe tbody tr th {\n",
       "        vertical-align: top;\n",
       "    }\n",
       "\n",
       "    .dataframe thead th {\n",
       "        text-align: right;\n",
       "    }\n",
       "</style>\n",
       "<table border=\"1\" class=\"dataframe\">\n",
       "  <thead>\n",
       "    <tr style=\"text-align: right;\">\n",
       "      <th></th>\n",
       "      <th>pickup_longitude</th>\n",
       "      <th>pickup_latitude</th>\n",
       "      <th>dropoff_longitude</th>\n",
       "      <th>dropoff_latitude</th>\n",
       "      <th>trip_duration</th>\n",
       "    </tr>\n",
       "  </thead>\n",
       "  <tbody>\n",
       "    <tr>\n",
       "      <th>0</th>\n",
       "      <td>-73.953918</td>\n",
       "      <td>40.778873</td>\n",
       "      <td>-73.963875</td>\n",
       "      <td>40.771164</td>\n",
       "      <td>400</td>\n",
       "    </tr>\n",
       "    <tr>\n",
       "      <th>1</th>\n",
       "      <td>-73.988312</td>\n",
       "      <td>40.731743</td>\n",
       "      <td>-73.994751</td>\n",
       "      <td>40.694931</td>\n",
       "      <td>1100</td>\n",
       "    </tr>\n",
       "    <tr>\n",
       "      <th>2</th>\n",
       "      <td>-73.997314</td>\n",
       "      <td>40.721458</td>\n",
       "      <td>-73.948029</td>\n",
       "      <td>40.774918</td>\n",
       "      <td>1635</td>\n",
       "    </tr>\n",
       "    <tr>\n",
       "      <th>3</th>\n",
       "      <td>-73.961670</td>\n",
       "      <td>40.759720</td>\n",
       "      <td>-73.956779</td>\n",
       "      <td>40.780628</td>\n",
       "      <td>1141</td>\n",
       "    </tr>\n",
       "    <tr>\n",
       "      <th>4</th>\n",
       "      <td>-74.017120</td>\n",
       "      <td>40.708469</td>\n",
       "      <td>-73.988182</td>\n",
       "      <td>40.740631</td>\n",
       "      <td>848</td>\n",
       "    </tr>\n",
       "    <tr>\n",
       "      <th>...</th>\n",
       "      <td>...</td>\n",
       "      <td>...</td>\n",
       "      <td>...</td>\n",
       "      <td>...</td>\n",
       "      <td>...</td>\n",
       "    </tr>\n",
       "    <tr>\n",
       "      <th>199489</th>\n",
       "      <td>-73.978088</td>\n",
       "      <td>40.751461</td>\n",
       "      <td>-73.964417</td>\n",
       "      <td>40.764450</td>\n",
       "      <td>565</td>\n",
       "    </tr>\n",
       "    <tr>\n",
       "      <th>199490</th>\n",
       "      <td>-73.988548</td>\n",
       "      <td>40.721390</td>\n",
       "      <td>-73.998604</td>\n",
       "      <td>40.693054</td>\n",
       "      <td>800</td>\n",
       "    </tr>\n",
       "    <tr>\n",
       "      <th>199491</th>\n",
       "      <td>-73.987770</td>\n",
       "      <td>40.732391</td>\n",
       "      <td>-73.971451</td>\n",
       "      <td>40.760799</td>\n",
       "      <td>472</td>\n",
       "    </tr>\n",
       "    <tr>\n",
       "      <th>199492</th>\n",
       "      <td>-73.870796</td>\n",
       "      <td>40.773720</td>\n",
       "      <td>-73.988571</td>\n",
       "      <td>40.721371</td>\n",
       "      <td>2163</td>\n",
       "    </tr>\n",
       "    <tr>\n",
       "      <th>199493</th>\n",
       "      <td>-73.973671</td>\n",
       "      <td>40.791889</td>\n",
       "      <td>-73.943848</td>\n",
       "      <td>40.696011</td>\n",
       "      <td>1998</td>\n",
       "    </tr>\n",
       "  </tbody>\n",
       "</table>\n",
       "<p>199494 rows × 5 columns</p>\n",
       "</div>"
      ],
      "text/plain": [
       "        pickup_longitude  pickup_latitude  dropoff_longitude  \\\n",
       "0             -73.953918        40.778873         -73.963875   \n",
       "1             -73.988312        40.731743         -73.994751   \n",
       "2             -73.997314        40.721458         -73.948029   \n",
       "3             -73.961670        40.759720         -73.956779   \n",
       "4             -74.017120        40.708469         -73.988182   \n",
       "...                  ...              ...                ...   \n",
       "199489        -73.978088        40.751461         -73.964417   \n",
       "199490        -73.988548        40.721390         -73.998604   \n",
       "199491        -73.987770        40.732391         -73.971451   \n",
       "199492        -73.870796        40.773720         -73.988571   \n",
       "199493        -73.973671        40.791889         -73.943848   \n",
       "\n",
       "        dropoff_latitude  trip_duration  \n",
       "0              40.771164            400  \n",
       "1              40.694931           1100  \n",
       "2              40.774918           1635  \n",
       "3              40.780628           1141  \n",
       "4              40.740631            848  \n",
       "...                  ...            ...  \n",
       "199489         40.764450            565  \n",
       "199490         40.693054            800  \n",
       "199491         40.760799            472  \n",
       "199492         40.721371           2163  \n",
       "199493         40.696011           1998  \n",
       "\n",
       "[199494 rows x 5 columns]"
      ]
     },
     "execution_count": 2,
     "metadata": {},
     "output_type": "execute_result"
    }
   ],
   "source": [
    "data_regress= pd.read_csv(\"../data/trip_duration_task_m.csv\")\n",
    "data_regress.drop([\"Unnamed: 0\"], axis=1, inplace=True)\n",
    "data_regress"
   ]
  },
  {
   "cell_type": "code",
   "execution_count": 3,
   "metadata": {},
   "outputs": [],
   "source": [
    "y = data_regress['trip_duration']\n",
    "X = data_regress.drop(['trip_duration'], axis=1)"
   ]
  },
  {
   "cell_type": "code",
   "execution_count": 4,
   "metadata": {},
   "outputs": [],
   "source": [
    "X_train, X_test, y_train, y_test = train_test_split(X, y, test_size=0.2, random_state=3)"
   ]
  },
  {
   "cell_type": "code",
   "execution_count": 6,
   "metadata": {},
   "outputs": [],
   "source": [
    "def DecisionTreeRegressorOptimal(x_train, y_train, x_test, y_test):\n",
    "    parameters={\"splitter\":[\"best\",\"random\"],\n",
    "            \"max_depth\" : [1,3,5,7,9,11,12],\n",
    "           \"min_samples_leaf\":[1,2,3,4,5,6,7,8,9,10],\n",
    "           \"min_weight_fraction_leaf\":[0.1,0.2,0.3,0.4,0.5,0.6,0.7,0.8,0.9],\n",
    "           \"max_features\":[\"auto\",\"log2\",\"sqrt\",None],\n",
    "           \"max_leaf_nodes\":[None,10,20,30,40,50,60,70,80,90] }\n",
    "    search = RandomizedSearchCV(DecisionTreeRegressor(),param_distributions=parameters, scoring=\"neg_mean_squared_error\", )\n",
    "    \n",
    "    optimalDecitionTreeReg = search.fit(x_train,y_train)\n",
    "    y_pred = optimalDecitionTreeReg.predict(x_test)\n",
    "    print(search.best_params_)\n",
    "    print(f'MAE: {mean_absolute_error(y_test, y_pred)}')\n",
    "    print(f'MSE: {mean_squared_error(y_test, y_pred)}')\n",
    "    print(f'RMSE: {sqrt(mean_squared_error(y_test, y_pred))}')\n",
    "    print(f'MAPE: {(mean_absolute_percentage_error(y_test, y_pred))}')\n",
    "    print(f'R^2: {r2_score(y_test, y_pred)}')"
   ]
  },
  {
   "cell_type": "code",
   "execution_count": 7,
   "metadata": {},
   "outputs": [
    {
     "name": "stdout",
     "output_type": "stream",
     "text": [
      "{'splitter': 'best', 'min_weight_fraction_leaf': 0.4, 'min_samples_leaf': 4, 'max_leaf_nodes': 50, 'max_features': None, 'max_depth': 11}\n",
      "MAE: 620.8347769605313\n",
      "MSE: 9975731.263952762\n",
      "RMSE: 3158.438105132466\n",
      "MAPE: 1.5549953163501835\n",
      "R^2: 0.00033608365039894394\n"
     ]
    }
   ],
   "source": [
    "DecisionTreeRegressorOptimal(X_train,y_train, X_test, y_test)"
   ]
  },
  {
   "cell_type": "code",
   "execution_count": 8,
   "metadata": {},
   "outputs": [
    {
     "data": {
      "text/html": [
       "<div>\n",
       "<style scoped>\n",
       "    .dataframe tbody tr th:only-of-type {\n",
       "        vertical-align: middle;\n",
       "    }\n",
       "\n",
       "    .dataframe tbody tr th {\n",
       "        vertical-align: top;\n",
       "    }\n",
       "\n",
       "    .dataframe thead th {\n",
       "        text-align: right;\n",
       "    }\n",
       "</style>\n",
       "<table border=\"1\" class=\"dataframe\">\n",
       "  <thead>\n",
       "    <tr style=\"text-align: right;\">\n",
       "      <th></th>\n",
       "      <th>time_left</th>\n",
       "      <th>ct_score</th>\n",
       "      <th>t_score</th>\n",
       "      <th>bomb_planted</th>\n",
       "      <th>ct_health</th>\n",
       "      <th>t_health</th>\n",
       "      <th>ct_money</th>\n",
       "      <th>t_money</th>\n",
       "      <th>ct_players_alive</th>\n",
       "      <th>t_players_alive</th>\n",
       "      <th>map_de_cache</th>\n",
       "      <th>map_de_dust2</th>\n",
       "      <th>map_de_inferno</th>\n",
       "      <th>map_de_mirage</th>\n",
       "      <th>map_de_nuke</th>\n",
       "      <th>map_de_overpass</th>\n",
       "      <th>map_de_train</th>\n",
       "      <th>map_de_vertigo</th>\n",
       "    </tr>\n",
       "  </thead>\n",
       "  <tbody>\n",
       "    <tr>\n",
       "      <th>0</th>\n",
       "      <td>175.00</td>\n",
       "      <td>0.0</td>\n",
       "      <td>0.0</td>\n",
       "      <td>1</td>\n",
       "      <td>500.0</td>\n",
       "      <td>500.0</td>\n",
       "      <td>4000.0</td>\n",
       "      <td>4000.0</td>\n",
       "      <td>5.0</td>\n",
       "      <td>5.0</td>\n",
       "      <td>0</td>\n",
       "      <td>1</td>\n",
       "      <td>0</td>\n",
       "      <td>0</td>\n",
       "      <td>0</td>\n",
       "      <td>0</td>\n",
       "      <td>0</td>\n",
       "      <td>0</td>\n",
       "    </tr>\n",
       "    <tr>\n",
       "      <th>1</th>\n",
       "      <td>156.03</td>\n",
       "      <td>0.0</td>\n",
       "      <td>0.0</td>\n",
       "      <td>1</td>\n",
       "      <td>500.0</td>\n",
       "      <td>500.0</td>\n",
       "      <td>600.0</td>\n",
       "      <td>650.0</td>\n",
       "      <td>5.0</td>\n",
       "      <td>5.0</td>\n",
       "      <td>0</td>\n",
       "      <td>1</td>\n",
       "      <td>0</td>\n",
       "      <td>0</td>\n",
       "      <td>0</td>\n",
       "      <td>0</td>\n",
       "      <td>0</td>\n",
       "      <td>0</td>\n",
       "    </tr>\n",
       "    <tr>\n",
       "      <th>2</th>\n",
       "      <td>96.03</td>\n",
       "      <td>0.0</td>\n",
       "      <td>0.0</td>\n",
       "      <td>1</td>\n",
       "      <td>391.0</td>\n",
       "      <td>400.0</td>\n",
       "      <td>750.0</td>\n",
       "      <td>500.0</td>\n",
       "      <td>4.0</td>\n",
       "      <td>4.0</td>\n",
       "      <td>0</td>\n",
       "      <td>1</td>\n",
       "      <td>0</td>\n",
       "      <td>0</td>\n",
       "      <td>0</td>\n",
       "      <td>0</td>\n",
       "      <td>0</td>\n",
       "      <td>0</td>\n",
       "    </tr>\n",
       "    <tr>\n",
       "      <th>3</th>\n",
       "      <td>76.03</td>\n",
       "      <td>0.0</td>\n",
       "      <td>0.0</td>\n",
       "      <td>1</td>\n",
       "      <td>391.0</td>\n",
       "      <td>400.0</td>\n",
       "      <td>750.0</td>\n",
       "      <td>500.0</td>\n",
       "      <td>4.0</td>\n",
       "      <td>4.0</td>\n",
       "      <td>0</td>\n",
       "      <td>1</td>\n",
       "      <td>0</td>\n",
       "      <td>0</td>\n",
       "      <td>0</td>\n",
       "      <td>0</td>\n",
       "      <td>0</td>\n",
       "      <td>0</td>\n",
       "    </tr>\n",
       "    <tr>\n",
       "      <th>4</th>\n",
       "      <td>174.97</td>\n",
       "      <td>1.0</td>\n",
       "      <td>0.0</td>\n",
       "      <td>1</td>\n",
       "      <td>500.0</td>\n",
       "      <td>500.0</td>\n",
       "      <td>18350.0</td>\n",
       "      <td>10750.0</td>\n",
       "      <td>5.0</td>\n",
       "      <td>5.0</td>\n",
       "      <td>0</td>\n",
       "      <td>1</td>\n",
       "      <td>0</td>\n",
       "      <td>0</td>\n",
       "      <td>0</td>\n",
       "      <td>0</td>\n",
       "      <td>0</td>\n",
       "      <td>0</td>\n",
       "    </tr>\n",
       "  </tbody>\n",
       "</table>\n",
       "</div>"
      ],
      "text/plain": [
       "   time_left  ct_score  t_score  bomb_planted  ct_health  t_health  ct_money  \\\n",
       "0     175.00       0.0      0.0             1      500.0     500.0    4000.0   \n",
       "1     156.03       0.0      0.0             1      500.0     500.0     600.0   \n",
       "2      96.03       0.0      0.0             1      391.0     400.0     750.0   \n",
       "3      76.03       0.0      0.0             1      391.0     400.0     750.0   \n",
       "4     174.97       1.0      0.0             1      500.0     500.0   18350.0   \n",
       "\n",
       "   t_money  ct_players_alive  t_players_alive  map_de_cache  map_de_dust2  \\\n",
       "0   4000.0               5.0              5.0             0             1   \n",
       "1    650.0               5.0              5.0             0             1   \n",
       "2    500.0               4.0              4.0             0             1   \n",
       "3    500.0               4.0              4.0             0             1   \n",
       "4  10750.0               5.0              5.0             0             1   \n",
       "\n",
       "   map_de_inferno  map_de_mirage  map_de_nuke  map_de_overpass  map_de_train  \\\n",
       "0               0              0            0                0             0   \n",
       "1               0              0            0                0             0   \n",
       "2               0              0            0                0             0   \n",
       "3               0              0            0                0             0   \n",
       "4               0              0            0                0             0   \n",
       "\n",
       "   map_de_vertigo  \n",
       "0               0  \n",
       "1               0  \n",
       "2               0  \n",
       "3               0  \n",
       "4               0  "
      ]
     },
     "execution_count": 8,
     "metadata": {},
     "output_type": "execute_result"
    }
   ],
   "source": [
    "data_class = pd.read_csv(\"../data/csgo_task_m.csv\")\n",
    "data_class.drop([\"Unnamed: 0\"], axis=1, inplace=True)\n",
    "data_class.head()"
   ]
  },
  {
   "cell_type": "code",
   "execution_count": 9,
   "metadata": {},
   "outputs": [],
   "source": [
    "X = data_class.values\n",
    "y = data_class[\"bomb_planted\"].values"
   ]
  },
  {
   "cell_type": "code",
   "execution_count": 10,
   "metadata": {},
   "outputs": [],
   "source": [
    "overSampler = RandomOverSampler()\n",
    "X_over_sample, y_over_sample = overSampler.fit_resample(X,y)"
   ]
  },
  {
   "cell_type": "code",
   "execution_count": 11,
   "metadata": {},
   "outputs": [],
   "source": [
    "X_train_c, X_test_c, y_train_c, y_test_c = train_test_split(X_over_sample, y_over_sample, test_size=0.2, random_state=4)"
   ]
  },
  {
   "cell_type": "code",
   "execution_count": 12,
   "metadata": {},
   "outputs": [],
   "source": [
    "def DecisionTreeClassifierOptimal(x_train, y_train, x_test, y_test):\n",
    "    parameters={\"splitter\":[\"best\",\"random\"],\n",
    "            \"max_depth\" : [1,3,5,7,9,11,12],\n",
    "           \"min_samples_leaf\":[1,2,3,4,5,6,7,8,9,10],\n",
    "           \"min_weight_fraction_leaf\":[0.1,0.2,0.3,0.4,0.5,0.6,0.7,0.8,0.9],\n",
    "           \"max_features\":[\"auto\",\"log2\",\"sqrt\",None],\n",
    "           \"max_leaf_nodes\":[None,10,20,30,40,50,60,70,80,90] }\n",
    "    search = RandomizedSearchCV(DecisionTreeClassifier(),param_distributions=parameters, scoring=\"neg_mean_squared_error\", )\n",
    "    optimalDecitionTreeClass = search.fit(x_train,y_train)\n",
    "    predictions = optimalDecitionTreeClass.predict(x_test)\n",
    "    print(search.best_params_)\n",
    "    print(accuracy_score(y_test, predictions))\n",
    "    print(confusion_matrix(y_test, predictions))\n",
    "    print(precision_score(y_test, predictions))\n",
    "    print(recall_score(y_test, predictions))\n",
    "    print(f1_score(y_test, predictions))\n",
    "    "
   ]
  },
  {
   "cell_type": "code",
   "execution_count": 13,
   "metadata": {},
   "outputs": [
    {
     "name": "stdout",
     "output_type": "stream",
     "text": [
      "{'splitter': 'best', 'min_weight_fraction_leaf': 0.1, 'min_samples_leaf': 7, 'max_leaf_nodes': 90, 'max_features': None, 'max_depth': 12}\n",
      "1.0\n",
      "[[19769     0]\n",
      " [    0 19937]]\n",
      "1.0\n",
      "1.0\n",
      "1.0\n"
     ]
    }
   ],
   "source": [
    "DecisionTreeClassifierOptimal(X_train_c,y_train_c, X_test_c, y_test_c)"
   ]
  },
  {
   "cell_type": "code",
   "execution_count": 14,
   "metadata": {},
   "outputs": [],
   "source": [
    "def bagClassOptimal(X_train, y_train, X_test, y_test ):\n",
    "    bag = BaggingClassifier()\n",
    "    n_estimators = [20, 30]\n",
    "    max_samples = [5, 10, 25]\n",
    "    max_features = [1, 2, 5]\n",
    "    hyperbag = dict(n_estimators = n_estimators, max_samples = max_samples, \n",
    "                max_features = max_features, )\n",
    "    gridbag = RandomizedSearchCV(bag, hyperbag)\n",
    "    bestbag = gridbag.fit(X_train, y_train)\n",
    "    predictions = bestbag.predict(X_test)\n",
    "    print(bestbag.best_params_)\n",
    "    print(accuracy_score(y_test, predictions))\n",
    "    print(confusion_matrix(y_test, predictions))\n",
    "    print(precision_score(y_test, predictions))\n",
    "    print(recall_score(y_test, predictions))\n",
    "    print(f1_score(y_test, predictions))\n",
    "    "
   ]
  },
  {
   "cell_type": "code",
   "execution_count": 15,
   "metadata": {},
   "outputs": [
    {
     "name": "stdout",
     "output_type": "stream",
     "text": [
      "{'n_estimators': 30, 'max_samples': 25, 'max_features': 5}\n",
      "0.9925955774945852\n",
      "[[19726    43]\n",
      " [  251 19686]]\n",
      "0.9978204673323534\n",
      "0.9874103425791242\n",
      "0.99258811072455\n"
     ]
    }
   ],
   "source": [
    "bagClassOptimal(X_train_c,y_train_c, X_test_c, y_test_c)"
   ]
  },
  {
   "cell_type": "code",
   "execution_count": 16,
   "metadata": {},
   "outputs": [],
   "source": [
    "def bagRegOptimal(X_train, y_train, X_test, y_test ):\n",
    "    bag = BaggingRegressor()\n",
    "    n_estimators = [20, 30]\n",
    "    max_samples = [5, 10, 25]\n",
    "    max_features = [1, 2, 5]\n",
    "    hyperbag = dict(n_estimators = n_estimators, max_samples = max_samples, \n",
    "                max_features = max_features)\n",
    "    gridbag = RandomizedSearchCV(bag, hyperbag)\n",
    "    bestbag = gridbag.fit(X_train, y_train)\n",
    "    y_pred = bestbag.predict(X_test)\n",
    "    print(bestbag.best_params_)\n",
    "    print(f'MAE: {mean_absolute_error(y_test, y_pred)}')\n",
    "    print(f'MSE: {mean_squared_error(y_test, y_pred)}')\n",
    "    print(f'RMSE: {sqrt(mean_squared_error(y_test, y_pred))}')\n",
    "    print(f'MAPE: {(mean_absolute_percentage_error(y_test, y_pred))}')\n",
    "    print(f'R^2: {r2_score(y_test, y_pred)}')"
   ]
  },
  {
   "cell_type": "code",
   "execution_count": 17,
   "metadata": {},
   "outputs": [
    {
     "name": "stdout",
     "output_type": "stream",
     "text": [
      "{'n_estimators': 20, 'max_samples': 25, 'max_features': 1}\n",
      "MAE: 669.6860284718915\n",
      "MSE: 10479222.843758803\n",
      "RMSE: 3237.162776840053\n",
      "MAPE: 1.6206225805901564\n",
      "R^2: -0.05011859994123968\n"
     ]
    }
   ],
   "source": [
    "bagRegOptimal(X_train,y_train, X_test, y_test)\n"
   ]
  },
  {
   "cell_type": "code",
   "execution_count": 24,
   "metadata": {},
   "outputs": [],
   "source": [
    "def gradientBoostingClassOptimal(X_train, y_train, X_test, y_test ):\n",
    "    grad = GradientBoostingClassifier()\n",
    "    n_estimators = [20, 30]\n",
    "    max_depth = np.arange(1, 10, 2)\n",
    "    learning_rate = np.arange(0,1,0.1)\n",
    "    hyperGrad = dict(n_estimators = n_estimators, learning_rate = learning_rate, max_depth = max_depth)\n",
    "    grid = RandomizedSearchCV(grad, hyperGrad)\n",
    "    bestmodel = grid.fit(X_train, y_train)\n",
    "    predictions = bestmodel.predict(X_test)\n",
    "    print(bestmodel.best_params_)\n",
    "    print(accuracy_score(y_test, predictions))\n",
    "    print(confusion_matrix(y_test, predictions))\n",
    "    print(precision_score(y_test, predictions))\n",
    "    print(recall_score(y_test, predictions))\n",
    "    print(f1_score(y_test, predictions))"
   ]
  },
  {
   "cell_type": "code",
   "execution_count": 25,
   "metadata": {},
   "outputs": [
    {
     "name": "stdout",
     "output_type": "stream",
     "text": [
      "{'n_estimators': 30, 'max_depth': 9, 'learning_rate': 0.30000000000000004}\n",
      "1.0\n",
      "[[19769     0]\n",
      " [    0 19937]]\n",
      "1.0\n",
      "1.0\n",
      "1.0\n"
     ]
    }
   ],
   "source": [
    "gradientBoostingClassOptimal(X_train_c,y_train_c, X_test_c, y_test_c)"
   ]
  },
  {
   "cell_type": "code",
   "execution_count": 35,
   "metadata": {},
   "outputs": [],
   "source": [
    "def gradientBoostingRegOptimal(X_train, y_train, X_test, y_test ):\n",
    "    grad = GradientBoostingRegressor()\n",
    "    n_estimators = [20, 30]\n",
    "    max_depth = np.arange(1, 7, 2)\n",
    "    learning_rate = np.arange(0,1,0.2)\n",
    "    hyperGrad = dict(n_estimators = n_estimators, learning_rate = learning_rate, max_depth = max_depth)\n",
    "    grid = RandomizedSearchCV(grad, hyperGrad)\n",
    "    bestmodel = grid.fit(X_train, y_train)\n",
    "    y_pred = bestmodel.predict(X_test)\n",
    "    print(bestmodel.best_params_)\n",
    "    print(f'MAE: {mean_absolute_error(y_test, y_pred)}')\n",
    "    print(f'MSE: {mean_squared_error(y_test, y_pred)}')\n",
    "    print(f'RMSE: {sqrt(mean_squared_error(y_test, y_pred))}')\n",
    "    print(f'MAPE: {(mean_absolute_percentage_error(y_test, y_pred))}')\n",
    "    print(f'R^2: {r2_score(y_test, y_pred)}')"
   ]
  },
  {
   "cell_type": "code",
   "execution_count": 27,
   "metadata": {},
   "outputs": [
    {
     "name": "stdout",
     "output_type": "stream",
     "text": [
      "{'n_estimators': 20, 'max_depth': 1, 'learning_rate': 0.5}\n",
      "MAE: 559.7741544713288\n",
      "MSE: 9875198.799008347\n",
      "RMSE: 3142.4829035347743\n",
      "MAPE: 1.6205853814549738\n",
      "R^2: 0.010410400506724482\n"
     ]
    }
   ],
   "source": [
    "gradientBoostingRegOptimal(X_train,y_train, X_test, y_test)"
   ]
  },
  {
   "cell_type": "code",
   "execution_count": 32,
   "metadata": {},
   "outputs": [],
   "source": [
    "def stackClassifier(X_train, y_train, X_test, y_test):\n",
    "    estimators = [\n",
    "     ('knn', KNeighborsClassifier(n_neighbors=5)),\n",
    "     ('rfc', RandomForestClassifier())]\n",
    "    params = {'knn__n_neighbors': [3,5,9],\n",
    "         'rfc__n_estimators': [20, 30],\n",
    "         'rfc__max_depth': np.arange(1, 10, 2),\n",
    "         'final_estimator__C': np.arange(1, 10, 2)} \n",
    "    clf = StackingClassifier(\n",
    "     estimators=estimators, final_estimator=LogisticRegression())\n",
    "    grid = RandomizedSearchCV(estimator=clf, param_distributions=params, scoring='accuracy', )\n",
    "    bestmodel = grid.fit(X_train, y_train)\n",
    "    predictions = bestmodel.predict(X_test)\n",
    "    print(bestmodel.best_params_)\n",
    "    print(accuracy_score(y_test, predictions))\n",
    "    print(confusion_matrix(y_test, predictions))\n",
    "    print(precision_score(y_test, predictions))\n",
    "    print(recall_score(y_test, predictions))\n",
    "    print(f1_score(y_test, predictions))"
   ]
  },
  {
   "cell_type": "code",
   "execution_count": 33,
   "metadata": {},
   "outputs": [
    {
     "name": "stdout",
     "output_type": "stream",
     "text": [
      "{'rfc__n_estimators': 30, 'rfc__max_depth': 9, 'knn__n_neighbors': 3, 'final_estimator__C': 1}\n",
      "1.0\n",
      "[[19769     0]\n",
      " [    0 19937]]\n",
      "1.0\n",
      "1.0\n",
      "1.0\n"
     ]
    }
   ],
   "source": [
    "stackClassifier(X_train_c,y_train_c, X_test_c, y_test_c)"
   ]
  },
  {
   "cell_type": "code",
   "execution_count": 39,
   "metadata": {},
   "outputs": [],
   "source": [
    "def stackRegressor(X_train, y_train, X_test, y_test):\n",
    "    estimators = [\n",
    "    ('lr', Ridge()),\n",
    "    ('svr', LinearSVR())]\n",
    "    parameters = {'lr__alpha': np.arange(0, 1, 0.1),\n",
    "                  'svr__C': np.arange(1, 6, 2),\n",
    "                  'final_estimator__max_depth': [3,5]\n",
    "                  }\n",
    "\n",
    "    stackinReg = StackingRegressor(\n",
    "    estimators=estimators,\n",
    "    final_estimator=RandomForestRegressor()\n",
    ")\n",
    "    grid = RandomizedSearchCV(estimator=stackinReg, param_distributions=parameters )\n",
    "    bestmodel = grid.fit(X_train, y_train)\n",
    "    y_pred = bestmodel.predict(X_test)\n",
    "    print(bestmodel.best_params_)\n",
    "    print(f'MAE: {mean_absolute_error(y_test, y_pred)}')\n",
    "    print(f'MSE: {mean_squared_error(y_test, y_pred)}')\n",
    "    print(f'RMSE: {sqrt(mean_squared_error(y_test, y_pred))}')\n",
    "    print(f'MAPE: {(mean_absolute_percentage_error(y_test, y_pred))}')\n",
    "    print(f'R^2: {r2_score(y_test, y_pred)}')"
   ]
  },
  {
   "cell_type": "code",
   "execution_count": 40,
   "metadata": {},
   "outputs": [
    {
     "name": "stdout",
     "output_type": "stream",
     "text": [
      "{'svr__C': 1, 'lr__alpha': 0.7000000000000001, 'final_estimator__max_depth': 5}\n",
      "MAE: 539.1982426438315\n",
      "MSE: 9851410.898266718\n",
      "RMSE: 3138.6957320305387\n",
      "MAPE: 1.4018230454830398\n",
      "R^2: 0.01279417623082002\n"
     ]
    }
   ],
   "source": [
    "stackRegressor(X_train, y_train, X_test, y_test)"
   ]
  },
  {
   "cell_type": "code",
   "execution_count": 41,
   "metadata": {},
   "outputs": [],
   "source": [
    "def CatBoostClassifierOptimal(x_train, y_train, x_test, y_test):\n",
    "    parameters={\n",
    "            \"depth\" : [1,3],\n",
    "           \"learning_rate\": np.arange(0, 1, 0.5,) }\n",
    "    search = RandomizedSearchCV(CatBoostClassifier(logging_level=\"Silent\"),param_distributions=parameters )\n",
    "    optimalDecitionTreeClass = search.fit(x_train,y_train)\n",
    "    predictions = optimalDecitionTreeClass.predict(x_test)\n",
    "    print(search.best_params_)\n",
    "    print(accuracy_score(y_test, predictions))\n",
    "    print(confusion_matrix(y_test, predictions))\n",
    "    print(precision_score(y_test, predictions))\n",
    "    print(recall_score(y_test, predictions))\n",
    "    print(f1_score(y_test, predictions))"
   ]
  },
  {
   "cell_type": "code",
   "execution_count": 42,
   "metadata": {},
   "outputs": [
    {
     "name": "stdout",
     "output_type": "stream",
     "text": [
      "{'learning_rate': 0.5, 'depth': 1}\n",
      "1.0\n",
      "[[19769     0]\n",
      " [    0 19937]]\n",
      "1.0\n",
      "1.0\n",
      "1.0\n"
     ]
    }
   ],
   "source": [
    "CatBoostClassifierOptimal(X_train_c, y_train_c, X_test_c, y_test_c)"
   ]
  },
  {
   "cell_type": "code",
   "execution_count": 43,
   "metadata": {},
   "outputs": [],
   "source": [
    "def CatBoostRegressorOptima(x_train, y_train, x_test, y_test):\n",
    "    parameters={\n",
    "            \"depth\" : [1,3],\n",
    "           \"learning_rate\": np.arange(0, 1, 0.5,) }\n",
    "    search = RandomizedSearchCV(CatBoostRegressor(logging_level=\"Silent\"),param_distributions=parameters )\n",
    "    \n",
    "    optimalDecitionTreeReg = search.fit(x_train,y_train)\n",
    "    y_pred = optimalDecitionTreeReg.predict(x_test)\n",
    "    print(search.best_params_)\n",
    "    print(f'MAE: {mean_absolute_error(y_test, y_pred)}')\n",
    "    print(f'MSE: {mean_squared_error(y_test, y_pred)}')\n",
    "    print(f'RMSE: {sqrt(mean_squared_error(y_test, y_pred))}')\n",
    "    print(f'MAPE: {(mean_absolute_percentage_error(y_test, y_pred))}')\n",
    "    print(f'R^2: {r2_score(y_test, y_pred)}')"
   ]
  },
  {
   "cell_type": "code",
   "execution_count": 44,
   "metadata": {},
   "outputs": [
    {
     "name": "stdout",
     "output_type": "stream",
     "text": [
      "{'learning_rate': 0.5, 'depth': 1}\n",
      "MAE: 554.27981650326\n",
      "MSE: 9941325.852432301\n",
      "RMSE: 3152.9868145034006\n",
      "MAPE: 1.5947697198870405\n",
      "R^2: 0.0037838357513847454\n"
     ]
    }
   ],
   "source": [
    "CatBoostRegressorOptima(X_train,y_train, X_test, y_test)"
   ]
  }
 ],
 "metadata": {
  "kernelspec": {
   "display_name": "venv",
   "language": "python",
   "name": "python3"
  },
  "language_info": {
   "codemirror_mode": {
    "name": "ipython",
    "version": 3
   },
   "file_extension": ".py",
   "mimetype": "text/x-python",
   "name": "python",
   "nbconvert_exporter": "python",
   "pygments_lexer": "ipython3",
   "version": "3.9.6"
  },
  "orig_nbformat": 4
 },
 "nbformat": 4,
 "nbformat_minor": 2
}
