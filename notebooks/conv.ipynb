{
 "cells": [
  {
   "cell_type": "code",
   "execution_count": 80,
   "metadata": {},
   "outputs": [],
   "source": [
    "import sys\n",
    "import pandas as pd\n",
    "sys.path.insert(1, 'tensorflow')\n",
    "from mytensorflow import *\n",
    "import tensorflow as tf\n",
    "import numpy as np\n",
    "import tensorflow_datasets as tfdt"
   ]
  },
  {
   "cell_type": "code",
   "execution_count": 71,
   "metadata": {},
   "outputs": [
    {
     "name": "stdout",
     "output_type": "stream",
     "text": [
      "Found 2000 files belonging to 2 classes.\n",
      "Using 1600 files for training.\n",
      "Using 400 files for validation.\n"
     ]
    }
   ],
   "source": [
    "train_ds, test_ds = tf.keras.utils.image_dataset_from_directory(\n",
    "    \"../data/catsdogs\",\n",
    "    validation_split=0.2, \n",
    "    subset=\"both\", \n",
    "    seed=42,\n",
    "    image_size=(200,200), \n",
    "    batch_size=32, \n",
    ")"
   ]
  },
  {
   "cell_type": "code",
   "execution_count": 72,
   "metadata": {},
   "outputs": [],
   "source": [
    "data_augmentation = tf.keras.Sequential(\n",
    "    [\n",
    "        tf.keras.layers.RandomFlip(\"horizontal\"),\n",
    "        tf.keras.layers.RandomRotation(0.1),\n",
    "    ]\n",
    ")"
   ]
  },
  {
   "cell_type": "code",
   "execution_count": 73,
   "metadata": {},
   "outputs": [],
   "source": [
    "train_ds = train_ds.map(\n",
    "    lambda img, label: (data_augmentation(img), label)\n",
    ")"
   ]
  },
  {
   "cell_type": "code",
   "execution_count": null,
   "metadata": {},
   "outputs": [
    {
     "ename": "TypeError",
     "evalue": "'_MapDataset' object is not subscriptable",
     "output_type": "error",
     "traceback": [
      "\u001b[0;31m---------------------------------------------------------------------------\u001b[0m",
      "\u001b[0;31mTypeError\u001b[0m                                 Traceback (most recent call last)",
      "Cell \u001b[0;32mIn[54], line 14\u001b[0m\n\u001b[1;32m     10\u001b[0m net\u001b[39m.\u001b[39madd(ActivationLayer(Sigmoid\u001b[39m.\u001b[39mcallFunction, Sigmoid\u001b[39m.\u001b[39mcallDerivative))\n\u001b[1;32m     13\u001b[0m net\u001b[39m.\u001b[39mcompile(BinaryCrossEntropy\u001b[39m.\u001b[39mfun, BinaryCrossEntropy\u001b[39m.\u001b[39mderivative)\n\u001b[0;32m---> 14\u001b[0m net\u001b[39m.\u001b[39;49mfit(train_ds, test_ds, epochs\u001b[39m=\u001b[39;49m\u001b[39m1000\u001b[39;49m, learning_rate\u001b[39m=\u001b[39;49m\u001b[39m0.1\u001b[39;49m)\n",
      "File \u001b[0;32m~/projects/machine-learning-labs/tensorflow/src/neuro_network.py:33\u001b[0m, in \u001b[0;36mNetwork.fit\u001b[0;34m(self, x_train, y_train, epochs, learning_rate)\u001b[0m\n\u001b[1;32m     30\u001b[0m \u001b[39mfor\u001b[39;00m i \u001b[39min\u001b[39;00m \u001b[39mrange\u001b[39m(epochs):\n\u001b[1;32m     32\u001b[0m     \u001b[39mfor\u001b[39;00m j \u001b[39min\u001b[39;00m \u001b[39mrange\u001b[39m(samples):\n\u001b[0;32m---> 33\u001b[0m         output \u001b[39m=\u001b[39m x_train[j]\n\u001b[1;32m     34\u001b[0m         \u001b[39mfor\u001b[39;00m layer \u001b[39min\u001b[39;00m \u001b[39mself\u001b[39m\u001b[39m.\u001b[39mlayers:\n\u001b[1;32m     35\u001b[0m             output \u001b[39m=\u001b[39m layer\u001b[39m.\u001b[39mforward_propagation(output)\n",
      "\u001b[0;31mTypeError\u001b[0m: '_MapDataset' object is not subscriptable"
     ]
    }
   ],
   "source": [
    "net = Network()\n",
    "net.add(ConvolutionalLayer((200,200,3), 3, 5))\n",
    "net.add(ActivationLayer(Sigmoid.callFunction, Sigmoid.callDerivative))\n",
    "net.add(FlattenLayer(None, None))\n",
    "net.add(FCLayer(200, 200))\n",
    "net.add(ActivationLayer(TangH.callFunction, TangH.callDerivative))\n",
    "net.add(FCLayer(3, 8))\n",
    "net.add(ActivationLayer(Relu.callFunction, Relu.callDerivative))\n",
    "net.add(FCLayer(8, 1))\n",
    "net.add(ActivationLayer(Sigmoid.callFunction, Sigmoid.callDerivative))\n",
    "\n",
    "\n",
    "net.compile(BinaryCrossEntropy.fun, BinaryCrossEntropy.derivative)\n",
    "net.fit(train_ds, test_ds, epochs=1000, learning_rate=0.1)"
   ]
  },
  {
   "cell_type": "code",
   "execution_count": null,
   "metadata": {},
   "outputs": [],
   "source": []
  }
 ],
 "metadata": {
  "kernelspec": {
   "display_name": ".venv",
   "language": "python",
   "name": "python3"
  },
  "language_info": {
   "codemirror_mode": {
    "name": "ipython",
    "version": 3
   },
   "file_extension": ".py",
   "mimetype": "text/x-python",
   "name": "python",
   "nbconvert_exporter": "python",
   "pygments_lexer": "ipython3",
   "version": "3.9.6"
  },
  "orig_nbformat": 4
 },
 "nbformat": 4,
 "nbformat_minor": 2
}
