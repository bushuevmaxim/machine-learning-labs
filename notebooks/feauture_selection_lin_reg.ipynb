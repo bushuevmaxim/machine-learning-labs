{
 "cells": [
  {
   "cell_type": "code",
   "execution_count": 11,
   "metadata": {},
   "outputs": [],
   "source": [
    "import pandas as pd\n",
    "from sklearn.model_selection import train_test_split\n",
    "from sklearn.preprocessing import StandardScaler, MinMaxScaler\n",
    "from sklearn.metrics import r2_score"
   ]
  },
  {
   "cell_type": "code",
   "execution_count": 12,
   "metadata": {},
   "outputs": [],
   "source": [
    "import numpy as np\n",
    "class Metrics:\n",
    "    @staticmethod\n",
    "    def  mean_absolute_error(y_test, y_pred):\n",
    "        y_true, predictions = np.array(y_test), np.array(y_pred)\n",
    "        return float(np.mean(np.abs(y_true-predictions)))\n",
    "    @staticmethod\n",
    "    def mean_squared_error(y_test, y_pred):\n",
    "        y_true, predictions = np.array(y_test), np.array(y_pred)\n",
    "        return float(np.mean((y_true-predictions)**2))\n",
    "    @staticmethod\n",
    "    def root_mean_squared_error(y_test, y_pred):\n",
    "        return float(np.sqrt(Metrics.mean_squared_error(y_test, y_pred)))\n",
    "    @staticmethod\n",
    "    def mean_absolute_percentage_error(y_test, y_pred):\n",
    "        y_true, predictions = np.array(y_test), np.array(y_pred)\n",
    "        return float(np.mean(np.abs((y_true-predictions)/y_true)))\n",
    "    @staticmethod\n",
    "    def r_2_score( y_test, y_pred):\n",
    "        y_true, predictions = np.array(y_test), np.array(y_pred)\n",
    "        mean_value = np.mean(y_test)\n",
    "        return float(1 - np.sum((y_true - predictions)**2)/ np.sum((y_true - mean_value)**2))\n",
    "    "
   ]
  },
  {
   "cell_type": "code",
   "execution_count": 13,
   "metadata": {},
   "outputs": [],
   "source": [
    "data= pd.read_csv(\"../data/trip_duration_task_m.csv\")\n",
    "data.drop([\"Unnamed: 0\"], axis=1, inplace=True)\n"
   ]
  },
  {
   "cell_type": "code",
   "execution_count": 14,
   "metadata": {},
   "outputs": [
    {
     "name": "stdout",
     "output_type": "stream",
     "text": [
      "<class 'pandas.core.frame.DataFrame'>\n",
      "RangeIndex: 199494 entries, 0 to 199493\n",
      "Data columns (total 5 columns):\n",
      " #   Column             Non-Null Count   Dtype  \n",
      "---  ------             --------------   -----  \n",
      " 0   pickup_longitude   199494 non-null  float64\n",
      " 1   pickup_latitude    199494 non-null  float64\n",
      " 2   dropoff_longitude  199494 non-null  float64\n",
      " 3   dropoff_latitude   199494 non-null  float64\n",
      " 4   trip_duration      199494 non-null  int64  \n",
      "dtypes: float64(4), int64(1)\n",
      "memory usage: 7.6 MB\n"
     ]
    }
   ],
   "source": [
    "data.info()"
   ]
  },
  {
   "cell_type": "code",
   "execution_count": 15,
   "metadata": {},
   "outputs": [],
   "source": [
    "y = data['trip_duration']\n",
    "X = data.drop(['trip_duration'], axis=1)"
   ]
  },
  {
   "cell_type": "code",
   "execution_count": 16,
   "metadata": {},
   "outputs": [],
   "source": [
    "X_train, X_test, y_train, y_test = train_test_split(X, y, test_size=0.2)"
   ]
  },
  {
   "cell_type": "code",
   "execution_count": 17,
   "metadata": {},
   "outputs": [
    {
     "data": {
      "text/html": [
       "<div>\n",
       "<style scoped>\n",
       "    .dataframe tbody tr th:only-of-type {\n",
       "        vertical-align: middle;\n",
       "    }\n",
       "\n",
       "    .dataframe tbody tr th {\n",
       "        vertical-align: top;\n",
       "    }\n",
       "\n",
       "    .dataframe thead th {\n",
       "        text-align: right;\n",
       "    }\n",
       "</style>\n",
       "<table border=\"1\" class=\"dataframe\">\n",
       "  <thead>\n",
       "    <tr style=\"text-align: right;\">\n",
       "      <th></th>\n",
       "      <th>pickup_longitude</th>\n",
       "      <th>pickup_latitude</th>\n",
       "      <th>dropoff_longitude</th>\n",
       "      <th>dropoff_latitude</th>\n",
       "    </tr>\n",
       "  </thead>\n",
       "  <tbody>\n",
       "    <tr>\n",
       "      <th>count</th>\n",
       "      <td>1.595950e+05</td>\n",
       "      <td>1.595950e+05</td>\n",
       "      <td>1.595950e+05</td>\n",
       "      <td>1.595950e+05</td>\n",
       "    </tr>\n",
       "    <tr>\n",
       "      <th>mean</th>\n",
       "      <td>1.904920e-14</td>\n",
       "      <td>1.161132e-13</td>\n",
       "      <td>-1.252507e-13</td>\n",
       "      <td>1.103077e-13</td>\n",
       "    </tr>\n",
       "    <tr>\n",
       "      <th>std</th>\n",
       "      <td>1.000003e+00</td>\n",
       "      <td>1.000003e+00</td>\n",
       "      <td>1.000003e+00</td>\n",
       "      <td>1.000003e+00</td>\n",
       "    </tr>\n",
       "    <tr>\n",
       "      <th>min</th>\n",
       "      <td>-1.076074e+01</td>\n",
       "      <td>-1.580940e+01</td>\n",
       "      <td>-1.790680e+01</td>\n",
       "      <td>-1.396128e+01</td>\n",
       "    </tr>\n",
       "    <tr>\n",
       "      <th>25%</th>\n",
       "      <td>-4.674340e-01</td>\n",
       "      <td>-4.738595e-01</td>\n",
       "      <td>-4.755520e-01</td>\n",
       "      <td>-4.850114e-01</td>\n",
       "    </tr>\n",
       "    <tr>\n",
       "      <th>50%</th>\n",
       "      <td>-2.137930e-01</td>\n",
       "      <td>1.106436e-01</td>\n",
       "      <td>-1.699326e-01</td>\n",
       "      <td>7.938435e-02</td>\n",
       "    </tr>\n",
       "    <tr>\n",
       "      <th>75%</th>\n",
       "      <td>1.483306e-01</td>\n",
       "      <td>6.091119e-01</td>\n",
       "      <td>2.708647e-01</td>\n",
       "      <td>5.458616e-01</td>\n",
       "    </tr>\n",
       "    <tr>\n",
       "      <th>max</th>\n",
       "      <td>8.757687e+01</td>\n",
       "      <td>5.972262e+01</td>\n",
       "      <td>9.195123e+01</td>\n",
       "      <td>5.198126e+01</td>\n",
       "    </tr>\n",
       "  </tbody>\n",
       "</table>\n",
       "</div>"
      ],
      "text/plain": [
       "       pickup_longitude  pickup_latitude  dropoff_longitude  dropoff_latitude\n",
       "count      1.595950e+05     1.595950e+05       1.595950e+05      1.595950e+05\n",
       "mean       1.904920e-14     1.161132e-13      -1.252507e-13      1.103077e-13\n",
       "std        1.000003e+00     1.000003e+00       1.000003e+00      1.000003e+00\n",
       "min       -1.076074e+01    -1.580940e+01      -1.790680e+01     -1.396128e+01\n",
       "25%       -4.674340e-01    -4.738595e-01      -4.755520e-01     -4.850114e-01\n",
       "50%       -2.137930e-01     1.106436e-01      -1.699326e-01      7.938435e-02\n",
       "75%        1.483306e-01     6.091119e-01       2.708647e-01      5.458616e-01\n",
       "max        8.757687e+01     5.972262e+01       9.195123e+01      5.198126e+01"
      ]
     },
     "execution_count": 17,
     "metadata": {},
     "output_type": "execute_result"
    }
   ],
   "source": [
    "standardScaler = StandardScaler()\n",
    "standardScaler.fit(X_train)\n",
    "X_train_std = pd.DataFrame(standardScaler.transform(X_train), columns=X.columns)\n",
    "X_test_std = pd.DataFrame(standardScaler.transform(X_test), columns=X.columns)\n",
    "X_train_std.describe()"
   ]
  },
  {
   "cell_type": "code",
   "execution_count": 18,
   "metadata": {},
   "outputs": [],
   "source": [
    "np.set_printoptions(suppress=True)"
   ]
  },
  {
   "cell_type": "code",
   "execution_count": 19,
   "metadata": {},
   "outputs": [],
   "source": [
    "import numpy as np\n",
    "class MyRidge:\n",
    "    def __init__( self, learning_rate, iterations, alpha ) :\n",
    "        self.learning_rate = learning_rate        \n",
    "        self.iterations = iterations        \n",
    "        self.alpha = alpha\n",
    "\n",
    "    def transform_(self, x):\n",
    "        return np.concatenate((np.ones((len(x), 1)), x), axis = 1)\n",
    "\n",
    "    def loss_func(self, x, y, w):\n",
    "        return sum(y - np.dot(x, w)) ** 2  + self.alpha * (np.matmul(w, w))/X.shape[0]\n",
    "\n",
    "    def fit(self, x, y):\n",
    "        dist = np.inf\n",
    "        eps = 1e-20\n",
    "        X = self.transform_(x)\n",
    "\n",
    "        w = np.zeros(X.shape[1])\n",
    "        iter = 0\n",
    "\n",
    "        while iter <= self.iterations:\n",
    "            loss = self.loss_func(X, y, w)\n",
    "            w = w - ((self.learning_rate * 2 * np.dot(X.T, np.dot(X, w) - y)) + ( 2 * self.alpha * w ))/X.shape[0]\n",
    "            dist = np.abs(loss - self.loss_func(X, y, w))\n",
    "            iter += 1\n",
    "            \n",
    "            if(dist <= eps):\n",
    "                break\n",
    "        print(iter)\n",
    "        self.w = w\n",
    "        return self\n",
    "        \n",
    "\n",
    "    def predict(self, x):\n",
    "        return np.dot(self.transform_(x), self.w)"
   ]
  },
  {
   "cell_type": "code",
   "execution_count": 20,
   "metadata": {},
   "outputs": [
    {
     "name": "stdout",
     "output_type": "stream",
     "text": [
      "1001\n",
      "MAE: 606.0067522761593\n",
      "MSE: 103698706.08110169\n",
      "RMSE: 10183.256162991369\n",
      "MAPE: 1.6486488504626207\n",
      "R^2: 0.0020357\n"
     ]
    }
   ],
   "source": [
    "ridge = MyRidge(0.01, 1000, 1)\n",
    "model = ridge.fit(X_train_std, y_train)\n",
    "y_pred = ridge.predict(X_test_std)\n",
    "print(f'MAE: {Metrics.mean_absolute_error(y_test, y_pred)}')\n",
    "print(f'MSE: {Metrics.mean_squared_error(y_test, y_pred)}')\n",
    "print(f'RMSE: {Metrics.root_mean_squared_error(y_test, y_pred)}')\n",
    "print(f'MAPE: {Metrics.mean_absolute_percentage_error(y_test, y_pred)}')\n",
    "print(f'R^2: {Metrics.r_2_score(y_test, y_pred):.7f}')"
   ]
  },
  {
   "cell_type": "code",
   "execution_count": 22,
   "metadata": {},
   "outputs": [
    {
     "data": {
      "text/plain": [
       "Index(['pickup_longitude', 'pickup_latitude', 'dropoff_longitude',\n",
       "       'dropoff_latitude'],\n",
       "      dtype='object')"
      ]
     },
     "execution_count": 22,
     "metadata": {},
     "output_type": "execute_result"
    }
   ],
   "source": [
    "X.columns"
   ]
  },
  {
   "cell_type": "code",
   "execution_count": 21,
   "metadata": {},
   "outputs": [
    {
     "data": {
      "text/plain": [
       "array([ 944.57170703,  195.79199074, -108.75391429,  124.48984299,\n",
       "       -121.74716714])"
      ]
     },
     "execution_count": 21,
     "metadata": {},
     "output_type": "execute_result"
    }
   ],
   "source": [
    "ridge.w"
   ]
  }
 ],
 "metadata": {
  "kernelspec": {
   "display_name": "venv",
   "language": "python",
   "name": "python3"
  },
  "language_info": {
   "codemirror_mode": {
    "name": "ipython",
    "version": 3
   },
   "file_extension": ".py",
   "mimetype": "text/x-python",
   "name": "python",
   "nbconvert_exporter": "python",
   "pygments_lexer": "ipython3",
   "version": "3.9.6"
  },
  "orig_nbformat": 4,
  "vscode": {
   "interpreter": {
    "hash": "cc7558d8b538955255440c691f4d27b22048480a322d80a916b86607cd7dd3e4"
   }
  }
 },
 "nbformat": 4,
 "nbformat_minor": 2
}
