{
 "cells": [
  {
   "cell_type": "code",
   "execution_count": 56,
   "metadata": {},
   "outputs": [],
   "source": [
    "import numpy as np\n",
    "import pandas as pd\n",
    "from imblearn.over_sampling import RandomOverSampler\n",
    "from sklearn.model_selection import train_test_split\n",
    "from sklearn.metrics import accuracy_score, confusion_matrix, f1_score, precision_score, recall_score"
   ]
  },
  {
   "cell_type": "code",
   "execution_count": 57,
   "metadata": {},
   "outputs": [],
   "source": [
    "class Node:\n",
    "    def __init__(self, feature_index=None, threshold=None, left_branch=None, right_branch=None, value=None):\n",
    "        self.feature_index = feature_index\n",
    "        self.threshold = threshold\n",
    "        self.left_branch = left_branch\n",
    "        self.right_branch = right_branch\n",
    "        self.value = value\n",
    "\n",
    "\n",
    "class CART:\n",
    "\n",
    "    def __init__(self, max_depth = 3):\n",
    "        self.max_depth = max_depth\n",
    "        \n",
    "\n",
    "    def gini_(self, y):\n",
    "        _, counts = np.unique(y, return_counts=True)\n",
    "        probabilities = counts / len(y)\n",
    "        return 1 - np.sum(probabilities ** 2)\n",
    "    \n",
    "\n",
    "    def split_node(self,X, y):\n",
    "        best_gini = 1\n",
    "        best_feature_index = None\n",
    "        best_threshold = None\n",
    "\n",
    "        n_samples, n_features = X.shape\n",
    "\n",
    "        for feature_index in range(n_features):\n",
    "            thresholds = np.unique(X[:, feature_index])\n",
    "\n",
    "            for threshold in thresholds:\n",
    "                left_indices = X[:, feature_index] < threshold\n",
    "                left_y = y[left_indices]\n",
    "                right_y = y[~left_indices]\n",
    "\n",
    "                if len(left_y) == 0 or len(right_y) == 0:\n",
    "                    continue\n",
    "\n",
    "                gini = (len(left_y) / n_samples) * self.gini_(left_y) + (len(right_y) / n_samples) * self.gini_(right_y)\n",
    "\n",
    "                if gini < best_gini:\n",
    "                    best_gini = gini\n",
    "                    best_feature_index = feature_index\n",
    "                    best_threshold = threshold\n",
    "\n",
    "        left_indices = X[:, best_feature_index] < best_threshold\n",
    "        right_indices = X[:, best_feature_index] >= best_threshold\n",
    "\n",
    "        left_branch = Node(value=np.argmax(np.bincount(y[left_indices])))\n",
    "        right_branch = Node(value=np.argmax(np.bincount(y[right_indices])))\n",
    "\n",
    "        return Node(best_feature_index, best_threshold, left_branch, right_branch)\n",
    "    \n",
    "\n",
    "    def build_tree(self,X, y, max_depth, depth=0):\n",
    "        if depth >= max_depth or len(y) == 1 or len(np.unique(y)) == 1:\n",
    "            return Node(value=np.argmax(np.bincount(y)))\n",
    "        node = self.split_node(X, y)\n",
    "        node.left_branch = self.build_tree(X[X[:, node.feature_index] < node.threshold], y[X[:, node.feature_index] < node.threshold], max_depth, depth+1)\n",
    "        node.right_branch = self.build_tree(X[X[:, node.feature_index] >= node.threshold], y[X[:, node.feature_index] >= node.threshold], max_depth, depth+1)\n",
    "        return node\n",
    "    \n",
    "    def fit(self,X_train, y_train):\n",
    "        self.root = self.build_tree(X_train, y_train, max_depth=2)\n",
    "\n",
    "    \n",
    "    \n",
    "    def passTree(self,node, x):\n",
    "        if node.value is not None:\n",
    "            return node.value\n",
    "\n",
    "        if x[node.feature_index] < node.threshold:\n",
    "            return self.passTree(node.left_branch, x)\n",
    "        else:\n",
    "            return self.passTree(node.right_branch, x)\n",
    "        \n",
    "    def predict(self,X_test):\n",
    "        y_pred = []\n",
    "        \n",
    "        for x in X_test:\n",
    "            y_pred.append(self.passTree(self.root, x))\n",
    "        return y_pred"
   ]
  },
  {
   "cell_type": "code",
   "execution_count": 58,
   "metadata": {},
   "outputs": [],
   "source": [
    "data = pd.read_csv(\"../data/csgo_task_m.csv\")"
   ]
  },
  {
   "cell_type": "code",
   "execution_count": 59,
   "metadata": {},
   "outputs": [],
   "source": [
    "X = data.values\n",
    "y = data[\"bomb_planted\"].values"
   ]
  },
  {
   "cell_type": "code",
   "execution_count": 60,
   "metadata": {},
   "outputs": [],
   "source": [
    "underSampler = RandomOverSampler()\n",
    "X_under_sample, y_under_sample = underSampler.fit_resample(X,y)"
   ]
  },
  {
   "cell_type": "code",
   "execution_count": 61,
   "metadata": {},
   "outputs": [],
   "source": [
    "X_train, X_test, y_train, y_test = train_test_split(X_under_sample, y_under_sample, test_size=0.2)"
   ]
  },
  {
   "cell_type": "code",
   "execution_count": 62,
   "metadata": {},
   "outputs": [
    {
     "name": "stdout",
     "output_type": "stream",
     "text": [
      "1.0\n",
      "[[19806     0]\n",
      " [    0 19900]]\n",
      "1.0\n",
      "1.0\n",
      "1.0\n"
     ]
    }
   ],
   "source": [
    "tree = CART()\n",
    "tree.fit(X_train, y_train)\n",
    "predictions = tree.predict(X_test)\n",
    "print(accuracy_score(y_test, predictions))\n",
    "print(confusion_matrix(y_test, predictions))\n",
    "print(precision_score(y_test, predictions))\n",
    "print(recall_score(y_test, predictions))\n",
    "print(f1_score(y_test, predictions))"
   ]
  }
 ],
 "metadata": {
  "kernelspec": {
   "display_name": "venv",
   "language": "python",
   "name": "python3"
  },
  "language_info": {
   "codemirror_mode": {
    "name": "ipython",
    "version": 3
   },
   "file_extension": ".py",
   "mimetype": "text/x-python",
   "name": "python",
   "nbconvert_exporter": "python",
   "pygments_lexer": "ipython3",
   "version": "3.9.6"
  },
  "orig_nbformat": 4
 },
 "nbformat": 4,
 "nbformat_minor": 2
}
