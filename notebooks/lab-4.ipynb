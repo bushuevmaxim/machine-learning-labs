{
 "cells": [
  {
   "cell_type": "code",
   "execution_count": 79,
   "metadata": {},
   "outputs": [],
   "source": [
    "import pandas as pd\n",
    "import tensorflow as tf\n",
    "import numpy as np\n",
    "from sklearn.model_selection import train_test_split\n",
    "from sklearn.metrics import mean_squared_error, mean_absolute_error\n",
    "from sklearn.metrics import confusion_matrix, classification_report\n",
    "from imblearn.under_sampling import RandomUnderSampler"
   ]
  },
  {
   "cell_type": "code",
   "execution_count": 53,
   "metadata": {},
   "outputs": [
    {
     "data": {
      "text/html": [
       "<div>\n",
       "<style scoped>\n",
       "    .dataframe tbody tr th:only-of-type {\n",
       "        vertical-align: middle;\n",
       "    }\n",
       "\n",
       "    .dataframe tbody tr th {\n",
       "        vertical-align: top;\n",
       "    }\n",
       "\n",
       "    .dataframe thead th {\n",
       "        text-align: right;\n",
       "    }\n",
       "</style>\n",
       "<table border=\"1\" class=\"dataframe\">\n",
       "  <thead>\n",
       "    <tr style=\"text-align: right;\">\n",
       "      <th></th>\n",
       "      <th>pickup_longitude</th>\n",
       "      <th>pickup_latitude</th>\n",
       "      <th>dropoff_longitude</th>\n",
       "      <th>dropoff_latitude</th>\n",
       "      <th>trip_duration</th>\n",
       "    </tr>\n",
       "  </thead>\n",
       "  <tbody>\n",
       "    <tr>\n",
       "      <th>0</th>\n",
       "      <td>-73.953918</td>\n",
       "      <td>40.778873</td>\n",
       "      <td>-73.963875</td>\n",
       "      <td>40.771164</td>\n",
       "      <td>400</td>\n",
       "    </tr>\n",
       "    <tr>\n",
       "      <th>1</th>\n",
       "      <td>-73.988312</td>\n",
       "      <td>40.731743</td>\n",
       "      <td>-73.994751</td>\n",
       "      <td>40.694931</td>\n",
       "      <td>1100</td>\n",
       "    </tr>\n",
       "    <tr>\n",
       "      <th>2</th>\n",
       "      <td>-73.997314</td>\n",
       "      <td>40.721458</td>\n",
       "      <td>-73.948029</td>\n",
       "      <td>40.774918</td>\n",
       "      <td>1635</td>\n",
       "    </tr>\n",
       "    <tr>\n",
       "      <th>3</th>\n",
       "      <td>-73.961670</td>\n",
       "      <td>40.759720</td>\n",
       "      <td>-73.956779</td>\n",
       "      <td>40.780628</td>\n",
       "      <td>1141</td>\n",
       "    </tr>\n",
       "    <tr>\n",
       "      <th>4</th>\n",
       "      <td>-74.017120</td>\n",
       "      <td>40.708469</td>\n",
       "      <td>-73.988182</td>\n",
       "      <td>40.740631</td>\n",
       "      <td>848</td>\n",
       "    </tr>\n",
       "  </tbody>\n",
       "</table>\n",
       "</div>"
      ],
      "text/plain": [
       "   pickup_longitude  pickup_latitude  dropoff_longitude  dropoff_latitude  \\\n",
       "0        -73.953918        40.778873         -73.963875         40.771164   \n",
       "1        -73.988312        40.731743         -73.994751         40.694931   \n",
       "2        -73.997314        40.721458         -73.948029         40.774918   \n",
       "3        -73.961670        40.759720         -73.956779         40.780628   \n",
       "4        -74.017120        40.708469         -73.988182         40.740631   \n",
       "\n",
       "   trip_duration  \n",
       "0            400  \n",
       "1           1100  \n",
       "2           1635  \n",
       "3           1141  \n",
       "4            848  "
      ]
     },
     "execution_count": 53,
     "metadata": {},
     "output_type": "execute_result"
    }
   ],
   "source": [
    "data_regression = pd.read_csv(\"../data/trip_duration_task_m.csv\")\n",
    "data_regression.drop([\"Unnamed: 0\"], axis=1, inplace=True)\n",
    "data_regression.head()"
   ]
  },
  {
   "cell_type": "code",
   "execution_count": 54,
   "metadata": {},
   "outputs": [
    {
     "data": {
      "text/html": [
       "<div>\n",
       "<style scoped>\n",
       "    .dataframe tbody tr th:only-of-type {\n",
       "        vertical-align: middle;\n",
       "    }\n",
       "\n",
       "    .dataframe tbody tr th {\n",
       "        vertical-align: top;\n",
       "    }\n",
       "\n",
       "    .dataframe thead th {\n",
       "        text-align: right;\n",
       "    }\n",
       "</style>\n",
       "<table border=\"1\" class=\"dataframe\">\n",
       "  <thead>\n",
       "    <tr style=\"text-align: right;\">\n",
       "      <th></th>\n",
       "      <th>time_left</th>\n",
       "      <th>ct_score</th>\n",
       "      <th>t_score</th>\n",
       "      <th>bomb_planted</th>\n",
       "      <th>ct_health</th>\n",
       "      <th>t_health</th>\n",
       "      <th>ct_money</th>\n",
       "      <th>t_money</th>\n",
       "      <th>ct_players_alive</th>\n",
       "      <th>t_players_alive</th>\n",
       "      <th>map_de_cache</th>\n",
       "      <th>map_de_dust2</th>\n",
       "      <th>map_de_inferno</th>\n",
       "      <th>map_de_mirage</th>\n",
       "      <th>map_de_nuke</th>\n",
       "      <th>map_de_overpass</th>\n",
       "      <th>map_de_train</th>\n",
       "      <th>map_de_vertigo</th>\n",
       "    </tr>\n",
       "  </thead>\n",
       "  <tbody>\n",
       "    <tr>\n",
       "      <th>0</th>\n",
       "      <td>175.00</td>\n",
       "      <td>0.0</td>\n",
       "      <td>0.0</td>\n",
       "      <td>1</td>\n",
       "      <td>500.0</td>\n",
       "      <td>500.0</td>\n",
       "      <td>4000.0</td>\n",
       "      <td>4000.0</td>\n",
       "      <td>5.0</td>\n",
       "      <td>5.0</td>\n",
       "      <td>0</td>\n",
       "      <td>1</td>\n",
       "      <td>0</td>\n",
       "      <td>0</td>\n",
       "      <td>0</td>\n",
       "      <td>0</td>\n",
       "      <td>0</td>\n",
       "      <td>0</td>\n",
       "    </tr>\n",
       "    <tr>\n",
       "      <th>1</th>\n",
       "      <td>156.03</td>\n",
       "      <td>0.0</td>\n",
       "      <td>0.0</td>\n",
       "      <td>1</td>\n",
       "      <td>500.0</td>\n",
       "      <td>500.0</td>\n",
       "      <td>600.0</td>\n",
       "      <td>650.0</td>\n",
       "      <td>5.0</td>\n",
       "      <td>5.0</td>\n",
       "      <td>0</td>\n",
       "      <td>1</td>\n",
       "      <td>0</td>\n",
       "      <td>0</td>\n",
       "      <td>0</td>\n",
       "      <td>0</td>\n",
       "      <td>0</td>\n",
       "      <td>0</td>\n",
       "    </tr>\n",
       "    <tr>\n",
       "      <th>2</th>\n",
       "      <td>96.03</td>\n",
       "      <td>0.0</td>\n",
       "      <td>0.0</td>\n",
       "      <td>1</td>\n",
       "      <td>391.0</td>\n",
       "      <td>400.0</td>\n",
       "      <td>750.0</td>\n",
       "      <td>500.0</td>\n",
       "      <td>4.0</td>\n",
       "      <td>4.0</td>\n",
       "      <td>0</td>\n",
       "      <td>1</td>\n",
       "      <td>0</td>\n",
       "      <td>0</td>\n",
       "      <td>0</td>\n",
       "      <td>0</td>\n",
       "      <td>0</td>\n",
       "      <td>0</td>\n",
       "    </tr>\n",
       "    <tr>\n",
       "      <th>3</th>\n",
       "      <td>76.03</td>\n",
       "      <td>0.0</td>\n",
       "      <td>0.0</td>\n",
       "      <td>1</td>\n",
       "      <td>391.0</td>\n",
       "      <td>400.0</td>\n",
       "      <td>750.0</td>\n",
       "      <td>500.0</td>\n",
       "      <td>4.0</td>\n",
       "      <td>4.0</td>\n",
       "      <td>0</td>\n",
       "      <td>1</td>\n",
       "      <td>0</td>\n",
       "      <td>0</td>\n",
       "      <td>0</td>\n",
       "      <td>0</td>\n",
       "      <td>0</td>\n",
       "      <td>0</td>\n",
       "    </tr>\n",
       "    <tr>\n",
       "      <th>4</th>\n",
       "      <td>174.97</td>\n",
       "      <td>1.0</td>\n",
       "      <td>0.0</td>\n",
       "      <td>1</td>\n",
       "      <td>500.0</td>\n",
       "      <td>500.0</td>\n",
       "      <td>18350.0</td>\n",
       "      <td>10750.0</td>\n",
       "      <td>5.0</td>\n",
       "      <td>5.0</td>\n",
       "      <td>0</td>\n",
       "      <td>1</td>\n",
       "      <td>0</td>\n",
       "      <td>0</td>\n",
       "      <td>0</td>\n",
       "      <td>0</td>\n",
       "      <td>0</td>\n",
       "      <td>0</td>\n",
       "    </tr>\n",
       "    <tr>\n",
       "      <th>...</th>\n",
       "      <td>...</td>\n",
       "      <td>...</td>\n",
       "      <td>...</td>\n",
       "      <td>...</td>\n",
       "      <td>...</td>\n",
       "      <td>...</td>\n",
       "      <td>...</td>\n",
       "      <td>...</td>\n",
       "      <td>...</td>\n",
       "      <td>...</td>\n",
       "      <td>...</td>\n",
       "      <td>...</td>\n",
       "      <td>...</td>\n",
       "      <td>...</td>\n",
       "      <td>...</td>\n",
       "      <td>...</td>\n",
       "      <td>...</td>\n",
       "      <td>...</td>\n",
       "    </tr>\n",
       "    <tr>\n",
       "      <th>112466</th>\n",
       "      <td>15.41</td>\n",
       "      <td>11.0</td>\n",
       "      <td>14.0</td>\n",
       "      <td>0</td>\n",
       "      <td>200.0</td>\n",
       "      <td>242.0</td>\n",
       "      <td>100.0</td>\n",
       "      <td>5950.0</td>\n",
       "      <td>2.0</td>\n",
       "      <td>4.0</td>\n",
       "      <td>0</td>\n",
       "      <td>0</td>\n",
       "      <td>0</td>\n",
       "      <td>0</td>\n",
       "      <td>0</td>\n",
       "      <td>0</td>\n",
       "      <td>1</td>\n",
       "      <td>0</td>\n",
       "    </tr>\n",
       "    <tr>\n",
       "      <th>112467</th>\n",
       "      <td>174.93</td>\n",
       "      <td>11.0</td>\n",
       "      <td>15.0</td>\n",
       "      <td>1</td>\n",
       "      <td>500.0</td>\n",
       "      <td>500.0</td>\n",
       "      <td>11500.0</td>\n",
       "      <td>23900.0</td>\n",
       "      <td>5.0</td>\n",
       "      <td>5.0</td>\n",
       "      <td>0</td>\n",
       "      <td>0</td>\n",
       "      <td>0</td>\n",
       "      <td>0</td>\n",
       "      <td>0</td>\n",
       "      <td>0</td>\n",
       "      <td>1</td>\n",
       "      <td>0</td>\n",
       "    </tr>\n",
       "    <tr>\n",
       "      <th>112468</th>\n",
       "      <td>114.93</td>\n",
       "      <td>11.0</td>\n",
       "      <td>15.0</td>\n",
       "      <td>1</td>\n",
       "      <td>500.0</td>\n",
       "      <td>500.0</td>\n",
       "      <td>1200.0</td>\n",
       "      <td>6700.0</td>\n",
       "      <td>5.0</td>\n",
       "      <td>5.0</td>\n",
       "      <td>0</td>\n",
       "      <td>0</td>\n",
       "      <td>0</td>\n",
       "      <td>0</td>\n",
       "      <td>0</td>\n",
       "      <td>0</td>\n",
       "      <td>1</td>\n",
       "      <td>0</td>\n",
       "    </tr>\n",
       "    <tr>\n",
       "      <th>112469</th>\n",
       "      <td>94.93</td>\n",
       "      <td>11.0</td>\n",
       "      <td>15.0</td>\n",
       "      <td>1</td>\n",
       "      <td>500.0</td>\n",
       "      <td>500.0</td>\n",
       "      <td>1200.0</td>\n",
       "      <td>6700.0</td>\n",
       "      <td>5.0</td>\n",
       "      <td>5.0</td>\n",
       "      <td>0</td>\n",
       "      <td>0</td>\n",
       "      <td>0</td>\n",
       "      <td>0</td>\n",
       "      <td>0</td>\n",
       "      <td>0</td>\n",
       "      <td>1</td>\n",
       "      <td>0</td>\n",
       "    </tr>\n",
       "    <tr>\n",
       "      <th>112470</th>\n",
       "      <td>74.93</td>\n",
       "      <td>11.0</td>\n",
       "      <td>15.0</td>\n",
       "      <td>1</td>\n",
       "      <td>375.0</td>\n",
       "      <td>479.0</td>\n",
       "      <td>1100.0</td>\n",
       "      <td>7000.0</td>\n",
       "      <td>4.0</td>\n",
       "      <td>5.0</td>\n",
       "      <td>0</td>\n",
       "      <td>0</td>\n",
       "      <td>0</td>\n",
       "      <td>0</td>\n",
       "      <td>0</td>\n",
       "      <td>0</td>\n",
       "      <td>1</td>\n",
       "      <td>0</td>\n",
       "    </tr>\n",
       "  </tbody>\n",
       "</table>\n",
       "<p>112471 rows × 18 columns</p>\n",
       "</div>"
      ],
      "text/plain": [
       "        time_left  ct_score  t_score  bomb_planted  ct_health  t_health  \\\n",
       "0          175.00       0.0      0.0             1      500.0     500.0   \n",
       "1          156.03       0.0      0.0             1      500.0     500.0   \n",
       "2           96.03       0.0      0.0             1      391.0     400.0   \n",
       "3           76.03       0.0      0.0             1      391.0     400.0   \n",
       "4          174.97       1.0      0.0             1      500.0     500.0   \n",
       "...           ...       ...      ...           ...        ...       ...   \n",
       "112466      15.41      11.0     14.0             0      200.0     242.0   \n",
       "112467     174.93      11.0     15.0             1      500.0     500.0   \n",
       "112468     114.93      11.0     15.0             1      500.0     500.0   \n",
       "112469      94.93      11.0     15.0             1      500.0     500.0   \n",
       "112470      74.93      11.0     15.0             1      375.0     479.0   \n",
       "\n",
       "        ct_money  t_money  ct_players_alive  t_players_alive  map_de_cache  \\\n",
       "0         4000.0   4000.0               5.0              5.0             0   \n",
       "1          600.0    650.0               5.0              5.0             0   \n",
       "2          750.0    500.0               4.0              4.0             0   \n",
       "3          750.0    500.0               4.0              4.0             0   \n",
       "4        18350.0  10750.0               5.0              5.0             0   \n",
       "...          ...      ...               ...              ...           ...   \n",
       "112466     100.0   5950.0               2.0              4.0             0   \n",
       "112467   11500.0  23900.0               5.0              5.0             0   \n",
       "112468    1200.0   6700.0               5.0              5.0             0   \n",
       "112469    1200.0   6700.0               5.0              5.0             0   \n",
       "112470    1100.0   7000.0               4.0              5.0             0   \n",
       "\n",
       "        map_de_dust2  map_de_inferno  map_de_mirage  map_de_nuke  \\\n",
       "0                  1               0              0            0   \n",
       "1                  1               0              0            0   \n",
       "2                  1               0              0            0   \n",
       "3                  1               0              0            0   \n",
       "4                  1               0              0            0   \n",
       "...              ...             ...            ...          ...   \n",
       "112466             0               0              0            0   \n",
       "112467             0               0              0            0   \n",
       "112468             0               0              0            0   \n",
       "112469             0               0              0            0   \n",
       "112470             0               0              0            0   \n",
       "\n",
       "        map_de_overpass  map_de_train  map_de_vertigo  \n",
       "0                     0             0               0  \n",
       "1                     0             0               0  \n",
       "2                     0             0               0  \n",
       "3                     0             0               0  \n",
       "4                     0             0               0  \n",
       "...                 ...           ...             ...  \n",
       "112466                0             1               0  \n",
       "112467                0             1               0  \n",
       "112468                0             1               0  \n",
       "112469                0             1               0  \n",
       "112470                0             1               0  \n",
       "\n",
       "[112471 rows x 18 columns]"
      ]
     },
     "execution_count": 54,
     "metadata": {},
     "output_type": "execute_result"
    }
   ],
   "source": [
    "data_classification = pd.read_csv(\"../data/csgo_task_m.csv\")\n",
    "data_classification.drop([\"Unnamed: 0\"], axis=1, inplace=True)\n",
    "data_classification"
   ]
  },
  {
   "cell_type": "code",
   "execution_count": 55,
   "metadata": {},
   "outputs": [],
   "source": [
    "X_regression = data_regression.drop(['trip_duration'], axis=1)\n",
    "y_regression = data_regression['trip_duration']"
   ]
  },
  {
   "cell_type": "code",
   "execution_count": 56,
   "metadata": {},
   "outputs": [],
   "source": [
    "X_classification = data_classification.values\n",
    "y_classification = data_classification[\"bomb_planted\"].values"
   ]
  },
  {
   "cell_type": "code",
   "execution_count": 57,
   "metadata": {},
   "outputs": [],
   "source": [
    "\n",
    "X_regression_train, X_regression_test, y_regression_train, y_regression_test = train_test_split(X_regression,\n",
    "                                                                                                y_regression,\n",
    "                                                                                                test_size=0.2)\n",
    "X_classification_train, X_classification_test, y_classification_train, y_classification_test = train_test_split(X_classification,\n",
    "                                                                                                                y_classification,\n",
    "                                                                                                                stratify=y_classification,\n",
    "                                                                                                                test_size=0.2)"
   ]
  },
  {
   "cell_type": "code",
   "execution_count": 58,
   "metadata": {},
   "outputs": [
    {
     "data": {
      "text/plain": [
       "(199494, 4)"
      ]
     },
     "execution_count": 58,
     "metadata": {},
     "output_type": "execute_result"
    }
   ],
   "source": [
    "X_regression.shape"
   ]
  },
  {
   "cell_type": "code",
   "execution_count": 59,
   "metadata": {},
   "outputs": [],
   "source": [
    "model_regression = tf.keras.Sequential(\n",
    "    [\n",
    "        tf.keras.layers.Dense(64, activation=\"relu\", input_shape=(4,)),\n",
    "        tf.keras.layers.Dense(32, activation=\"linear\"),\n",
    "        tf.keras.layers.Dropout(0.1),\n",
    "        tf.keras.layers.Dense(16, activation=\"relu\"),\n",
    "        tf.keras.layers.Dropout(0.1),\n",
    "        tf.keras.layers.Dense(1, activation=\"linear\"),\n",
    "    ]\n",
    ")"
   ]
  },
  {
   "cell_type": "code",
   "execution_count": 60,
   "metadata": {},
   "outputs": [
    {
     "name": "stdout",
     "output_type": "stream",
     "text": [
      "Model: \"sequential_6\"\n",
      "_________________________________________________________________\n",
      " Layer (type)                Output Shape              Param #   \n",
      "=================================================================\n",
      " dense_24 (Dense)            (None, 64)                320       \n",
      "                                                                 \n",
      " dense_25 (Dense)            (None, 32)                2080      \n",
      "                                                                 \n",
      " dropout_12 (Dropout)        (None, 32)                0         \n",
      "                                                                 \n",
      " dense_26 (Dense)            (None, 16)                528       \n",
      "                                                                 \n",
      " dropout_13 (Dropout)        (None, 16)                0         \n",
      "                                                                 \n",
      " dense_27 (Dense)            (None, 1)                 17        \n",
      "                                                                 \n",
      "=================================================================\n",
      "Total params: 2,945\n",
      "Trainable params: 2,945\n",
      "Non-trainable params: 0\n",
      "_________________________________________________________________\n"
     ]
    }
   ],
   "source": [
    "model_regression.summary()"
   ]
  },
  {
   "cell_type": "code",
   "execution_count": 61,
   "metadata": {},
   "outputs": [],
   "source": [
    "model_regression.compile(optimizer=tf.keras.optimizers.Adam(learning_rate=0.005), loss=\"mse\")"
   ]
  },
  {
   "cell_type": "code",
   "execution_count": 62,
   "metadata": {},
   "outputs": [
    {
     "name": "stdout",
     "output_type": "stream",
     "text": [
      "Epoch 1/50\n",
      "4988/4988 [==============================] - 3s 485us/step - loss: 31927044.0000\n",
      "Epoch 2/50\n",
      "4988/4988 [==============================] - 2s 454us/step - loss: 31912284.0000\n",
      "Epoch 3/50\n",
      "4988/4988 [==============================] - 2s 454us/step - loss: 31909266.0000\n",
      "Epoch 4/50\n",
      "4988/4988 [==============================] - 2s 460us/step - loss: 31912258.0000\n",
      "Epoch 5/50\n",
      "4988/4988 [==============================] - 2s 450us/step - loss: 31915304.0000\n",
      "Epoch 6/50\n",
      "4988/4988 [==============================] - 2s 450us/step - loss: 31907400.0000\n",
      "Epoch 7/50\n",
      "4988/4988 [==============================] - 2s 467us/step - loss: 31910876.0000\n",
      "Epoch 8/50\n",
      "4988/4988 [==============================] - 2s 451us/step - loss: 31906260.0000\n",
      "Epoch 9/50\n",
      "4988/4988 [==============================] - 2s 450us/step - loss: 31904982.0000\n",
      "Epoch 10/50\n",
      "4988/4988 [==============================] - 2s 446us/step - loss: 31910898.0000\n",
      "Epoch 11/50\n",
      "4988/4988 [==============================] - 2s 467us/step - loss: 31905494.0000\n",
      "Epoch 12/50\n",
      "4988/4988 [==============================] - 2s 473us/step - loss: 31908822.0000\n",
      "Epoch 13/50\n",
      "4988/4988 [==============================] - 2s 454us/step - loss: 31909802.0000\n",
      "Epoch 14/50\n",
      "4988/4988 [==============================] - 2s 498us/step - loss: 31911480.0000\n",
      "Epoch 15/50\n",
      "4988/4988 [==============================] - 2s 478us/step - loss: 31907916.0000\n",
      "Epoch 16/50\n",
      "4988/4988 [==============================] - 2s 448us/step - loss: 31910456.0000\n",
      "Epoch 17/50\n",
      "4988/4988 [==============================] - 2s 445us/step - loss: 31906964.0000\n",
      "Epoch 18/50\n",
      "4988/4988 [==============================] - 2s 442us/step - loss: 31907340.0000\n",
      "Epoch 19/50\n",
      "4988/4988 [==============================] - 2s 474us/step - loss: 31899844.0000\n",
      "Epoch 20/50\n",
      "4988/4988 [==============================] - 2s 468us/step - loss: 31912340.0000\n",
      "Epoch 21/50\n",
      "4988/4988 [==============================] - 2s 450us/step - loss: 31905606.0000\n",
      "Epoch 22/50\n",
      "4988/4988 [==============================] - 2s 428us/step - loss: 31904604.0000\n",
      "Epoch 23/50\n",
      "4988/4988 [==============================] - 2s 435us/step - loss: 31906184.0000\n",
      "Epoch 24/50\n",
      "4988/4988 [==============================] - 2s 450us/step - loss: 31910570.0000\n",
      "Epoch 25/50\n",
      "4988/4988 [==============================] - 2s 482us/step - loss: 31905396.0000\n",
      "Epoch 26/50\n",
      "4988/4988 [==============================] - 3s 538us/step - loss: 31901562.0000\n",
      "Epoch 27/50\n",
      "4988/4988 [==============================] - 2s 436us/step - loss: 31906710.0000\n",
      "Epoch 28/50\n",
      "4988/4988 [==============================] - 2s 444us/step - loss: 31915208.0000\n",
      "Epoch 29/50\n",
      "4988/4988 [==============================] - 2s 445us/step - loss: 31906576.0000\n",
      "Epoch 30/50\n",
      "4988/4988 [==============================] - 2s 466us/step - loss: 31905728.0000\n",
      "Epoch 31/50\n",
      "4988/4988 [==============================] - 2s 468us/step - loss: 31901496.0000\n",
      "Epoch 32/50\n",
      "4988/4988 [==============================] - 2s 458us/step - loss: 31900452.0000\n",
      "Epoch 33/50\n",
      "4988/4988 [==============================] - 2s 435us/step - loss: 31910074.0000\n",
      "Epoch 34/50\n",
      "4988/4988 [==============================] - 2s 443us/step - loss: 31909280.0000\n",
      "Epoch 35/50\n",
      "4988/4988 [==============================] - 2s 449us/step - loss: 31907422.0000\n",
      "Epoch 36/50\n",
      "4988/4988 [==============================] - 2s 480us/step - loss: 31909480.0000\n",
      "Epoch 37/50\n",
      "4988/4988 [==============================] - 2s 454us/step - loss: 31905196.0000\n",
      "Epoch 38/50\n",
      "4988/4988 [==============================] - 2s 454us/step - loss: 31906280.0000\n",
      "Epoch 39/50\n",
      "4988/4988 [==============================] - 2s 471us/step - loss: 31909624.0000\n",
      "Epoch 40/50\n",
      "4988/4988 [==============================] - 2s 486us/step - loss: 31902486.0000\n",
      "Epoch 41/50\n",
      "4988/4988 [==============================] - 2s 469us/step - loss: 31902404.0000\n",
      "Epoch 42/50\n",
      "4988/4988 [==============================] - 2s 456us/step - loss: 31901072.0000\n",
      "Epoch 43/50\n",
      "4988/4988 [==============================] - 2s 459us/step - loss: 31909226.0000\n",
      "Epoch 44/50\n",
      "4988/4988 [==============================] - 2s 457us/step - loss: 31907058.0000\n",
      "Epoch 45/50\n",
      "4988/4988 [==============================] - 2s 453us/step - loss: 31909410.0000\n",
      "Epoch 46/50\n",
      "4988/4988 [==============================] - 2s 457us/step - loss: 31910728.0000\n",
      "Epoch 47/50\n",
      "4988/4988 [==============================] - 2s 481us/step - loss: 31903944.0000\n",
      "Epoch 48/50\n",
      "4988/4988 [==============================] - 2s 472us/step - loss: 31897194.0000\n",
      "Epoch 49/50\n",
      "4988/4988 [==============================] - 2s 456us/step - loss: 31901854.0000\n",
      "Epoch 50/50\n",
      "4988/4988 [==============================] - 2s 455us/step - loss: 31901342.0000\n"
     ]
    },
    {
     "data": {
      "text/plain": [
       "<keras.callbacks.History at 0x14dc89970>"
      ]
     },
     "execution_count": 62,
     "metadata": {},
     "output_type": "execute_result"
    }
   ],
   "source": [
    "model_regression.fit(X_regression_train, y_regression_train, epochs=50)"
   ]
  },
  {
   "cell_type": "code",
   "execution_count": 70,
   "metadata": {},
   "outputs": [
    {
     "name": "stdout",
     "output_type": "stream",
     "text": [
      "1247/1247 [==============================] - 0s 345us/step\n",
      "621.7028938224045\n",
      "1247/1247 [==============================] - 0s 353us/step\n",
      "13239338.263283337\n"
     ]
    }
   ],
   "source": [
    "print(mean_absolute_error(y_regression_test, model_regression.predict(X_regression_test)))\n",
    "print(mean_squared_error(y_regression_test, model_regression.predict(X_regression_test)))"
   ]
  },
  {
   "cell_type": "code",
   "execution_count": 72,
   "metadata": {},
   "outputs": [
    {
     "data": {
      "text/plain": [
       "(89976, 18)"
      ]
     },
     "execution_count": 72,
     "metadata": {},
     "output_type": "execute_result"
    }
   ],
   "source": [
    "X_classification_train.shape"
   ]
  },
  {
   "cell_type": "code",
   "execution_count": 73,
   "metadata": {},
   "outputs": [],
   "source": [
    "model_classification_1 = tf.keras.Sequential(\n",
    "    [\n",
    "        tf.keras.layers.Dense(64, activation=\"relu\", input_shape=(18,)),\n",
    "        tf.keras.layers.Dense(128, activation=\"relu\"),\n",
    "        tf.keras.layers.Dropout(0.05),\n",
    "        tf.keras.layers.Dense(64, activation=\"relu\"),\n",
    "        tf.keras.layers.Dense(32, activation=\"relu\"),\n",
    "        tf.keras.layers.Dense(16, activation=\"relu\"),\n",
    "        tf.keras.layers.Dense(1, activation=\"sigmoid\"),\n",
    "    ]\n",
    ")"
   ]
  },
  {
   "cell_type": "code",
   "execution_count": 76,
   "metadata": {},
   "outputs": [],
   "source": [
    "model_classification_1.compile(optimizer=tf.keras.optimizers.Adam(learning_rate=0.001), loss=\"binary_crossentropy\")"
   ]
  },
  {
   "cell_type": "code",
   "execution_count": 77,
   "metadata": {},
   "outputs": [
    {
     "name": "stdout",
     "output_type": "stream",
     "text": [
      "Epoch 1/25\n",
      "2812/2812 [==============================] - 2s 619us/step - loss: 1.2551\n",
      "Epoch 2/25\n",
      "2812/2812 [==============================] - 2s 626us/step - loss: 0.1914\n",
      "Epoch 3/25\n",
      "2812/2812 [==============================] - 2s 609us/step - loss: 0.1537\n",
      "Epoch 4/25\n",
      "2812/2812 [==============================] - 2s 634us/step - loss: 0.1351\n",
      "Epoch 5/25\n",
      "2812/2812 [==============================] - 2s 613us/step - loss: 0.1283\n",
      "Epoch 6/25\n",
      "2812/2812 [==============================] - 2s 690us/step - loss: 0.1256\n",
      "Epoch 7/25\n",
      "2812/2812 [==============================] - 2s 609us/step - loss: 0.1109\n",
      "Epoch 8/25\n",
      "2812/2812 [==============================] - 2s 607us/step - loss: 0.0889\n",
      "Epoch 9/25\n",
      "2812/2812 [==============================] - 2s 604us/step - loss: 0.0661\n",
      "Epoch 10/25\n",
      "2812/2812 [==============================] - 2s 611us/step - loss: 0.0699\n",
      "Epoch 11/25\n",
      "2812/2812 [==============================] - 2s 604us/step - loss: 0.0588\n",
      "Epoch 12/25\n",
      "2812/2812 [==============================] - 2s 603us/step - loss: 0.0318\n",
      "Epoch 13/25\n",
      "2812/2812 [==============================] - 2s 612us/step - loss: 0.0498\n",
      "Epoch 14/25\n",
      "2812/2812 [==============================] - 2s 611us/step - loss: 0.0291\n",
      "Epoch 15/25\n",
      "2812/2812 [==============================] - 2s 606us/step - loss: 0.0805\n",
      "Epoch 16/25\n",
      "2812/2812 [==============================] - 2s 622us/step - loss: 0.0291\n",
      "Epoch 17/25\n",
      "2812/2812 [==============================] - 2s 640us/step - loss: 0.0239\n",
      "Epoch 18/25\n",
      "2812/2812 [==============================] - 2s 612us/step - loss: 0.0224\n",
      "Epoch 19/25\n",
      "2812/2812 [==============================] - 2s 708us/step - loss: 0.0305\n",
      "Epoch 20/25\n",
      "2812/2812 [==============================] - 2s 579us/step - loss: 0.0213\n",
      "Epoch 21/25\n",
      "2812/2812 [==============================] - 2s 575us/step - loss: 0.0186\n",
      "Epoch 22/25\n",
      "2812/2812 [==============================] - 2s 598us/step - loss: 0.0192\n",
      "Epoch 23/25\n",
      "2812/2812 [==============================] - 2s 653us/step - loss: 0.0486\n",
      "Epoch 24/25\n",
      "2812/2812 [==============================] - 2s 621us/step - loss: 0.0235\n",
      "Epoch 25/25\n",
      "2812/2812 [==============================] - 2s 621us/step - loss: 0.0778\n"
     ]
    },
    {
     "data": {
      "text/plain": [
       "<keras.callbacks.History at 0x297537d60>"
      ]
     },
     "execution_count": 77,
     "metadata": {},
     "output_type": "execute_result"
    }
   ],
   "source": [
    "model_classification_1.fit(X_classification_train, y_classification_train, epochs=25)"
   ]
  },
  {
   "cell_type": "code",
   "execution_count": 78,
   "metadata": {},
   "outputs": [
    {
     "name": "stdout",
     "output_type": "stream",
     "text": [
      "              precision    recall  f1-score   support\n",
      "\n",
      "           0       0.96      0.97      0.96      2641\n",
      "           1       1.00      0.99      1.00     19854\n",
      "\n",
      "    accuracy                           0.99     22495\n",
      "   macro avg       0.98      0.98      0.98     22495\n",
      "weighted avg       0.99      0.99      0.99     22495\n",
      "\n",
      "[[ 2569    72]\n",
      " [  116 19738]]\n"
     ]
    }
   ],
   "source": [
    "pred_classification = np.around(model_classification_1.predict(X_classification_test, verbose=None))\n",
    "print(classification_report(y_classification_test, pred_classification))\n",
    "print(confusion_matrix(y_classification_test, pred_classification))"
   ]
  },
  {
   "cell_type": "code",
   "execution_count": 83,
   "metadata": {},
   "outputs": [],
   "source": [
    "underSampler = RandomUnderSampler(random_state=42)\n",
    "X_classification, y_classification = underSampler.fit_resample(X_classification,y_classification)"
   ]
  },
  {
   "cell_type": "code",
   "execution_count": 84,
   "metadata": {},
   "outputs": [],
   "source": [
    "model_classification_2 = tf.keras.Sequential(\n",
    "    [\n",
    "        tf.keras.layers.Dense(64, activation=\"relu\", input_shape=(18,)),\n",
    "        tf.keras.layers.Dense(128, activation=\"relu\"),\n",
    "        tf.keras.layers.Dropout(0.05),\n",
    "        tf.keras.layers.Dense(64, activation=\"relu\"),\n",
    "        tf.keras.layers.Dense(32, activation=\"relu\"),\n",
    "        tf.keras.layers.Dense(16, activation=\"relu\"),\n",
    "        tf.keras.layers.Dense(1, activation=\"sigmoid\"),\n",
    "    ]\n",
    ")"
   ]
  },
  {
   "cell_type": "code",
   "execution_count": 85,
   "metadata": {},
   "outputs": [],
   "source": [
    "X_classification_train, X_classification_test, y_classification_train, y_classification_test = train_test_split(X_classification,\n",
    "                                                                                                                y_classification,\n",
    "                                                                                                                stratify=y_classification,\n",
    "                                                                                                                test_size=0.2)"
   ]
  },
  {
   "cell_type": "code",
   "execution_count": 86,
   "metadata": {},
   "outputs": [],
   "source": [
    "model_classification_2.compile(optimizer=tf.keras.optimizers.Adam(learning_rate=0.001), loss=\"binary_crossentropy\")"
   ]
  },
  {
   "cell_type": "code",
   "execution_count": 87,
   "metadata": {},
   "outputs": [
    {
     "name": "stdout",
     "output_type": "stream",
     "text": [
      "Epoch 1/25\n",
      "661/661 [==============================] - 1s 655us/step - loss: 5.6351\n",
      "Epoch 2/25\n",
      "661/661 [==============================] - 0s 634us/step - loss: 0.7691\n",
      "Epoch 3/25\n",
      "661/661 [==============================] - 0s 639us/step - loss: 0.4324\n",
      "Epoch 4/25\n",
      "661/661 [==============================] - 0s 623us/step - loss: 0.3145\n",
      "Epoch 5/25\n",
      "661/661 [==============================] - 0s 617us/step - loss: 0.2637\n",
      "Epoch 6/25\n",
      "661/661 [==============================] - 0s 649us/step - loss: 0.2542\n",
      "Epoch 7/25\n",
      "661/661 [==============================] - 0s 628us/step - loss: 0.2291\n",
      "Epoch 8/25\n",
      "661/661 [==============================] - 0s 721us/step - loss: 0.2173\n",
      "Epoch 9/25\n",
      "661/661 [==============================] - 0s 658us/step - loss: 0.2164\n",
      "Epoch 10/25\n",
      "661/661 [==============================] - 0s 617us/step - loss: 0.2144\n",
      "Epoch 11/25\n",
      "661/661 [==============================] - 0s 614us/step - loss: 0.2118\n",
      "Epoch 12/25\n",
      "661/661 [==============================] - 0s 616us/step - loss: 0.1945\n",
      "Epoch 13/25\n",
      "661/661 [==============================] - 0s 654us/step - loss: 0.2519\n",
      "Epoch 14/25\n",
      "661/661 [==============================] - 0s 669us/step - loss: 0.1934\n",
      "Epoch 15/25\n",
      "661/661 [==============================] - 0s 625us/step - loss: 0.1890\n",
      "Epoch 16/25\n",
      "661/661 [==============================] - 0s 624us/step - loss: 0.1822\n",
      "Epoch 17/25\n",
      "661/661 [==============================] - 0s 644us/step - loss: 0.1938\n",
      "Epoch 18/25\n",
      "661/661 [==============================] - 0s 626us/step - loss: 0.1746\n",
      "Epoch 19/25\n",
      "661/661 [==============================] - 0s 633us/step - loss: 0.2479\n",
      "Epoch 20/25\n",
      "661/661 [==============================] - 0s 613us/step - loss: 0.1718\n",
      "Epoch 21/25\n",
      "661/661 [==============================] - 0s 612us/step - loss: 0.1610\n",
      "Epoch 22/25\n",
      "661/661 [==============================] - 0s 619us/step - loss: 0.1561\n",
      "Epoch 23/25\n",
      "661/661 [==============================] - 0s 690us/step - loss: 0.1496\n",
      "Epoch 24/25\n",
      "661/661 [==============================] - 0s 644us/step - loss: 0.1550\n",
      "Epoch 25/25\n",
      "661/661 [==============================] - 0s 670us/step - loss: 0.1500\n"
     ]
    },
    {
     "data": {
      "text/plain": [
       "<keras.callbacks.History at 0x28f46edc0>"
      ]
     },
     "execution_count": 87,
     "metadata": {},
     "output_type": "execute_result"
    }
   ],
   "source": [
    "model_classification_2.fit(X_classification_train, y_classification_train, epochs=25)"
   ]
  },
  {
   "cell_type": "code",
   "execution_count": 88,
   "metadata": {},
   "outputs": [
    {
     "name": "stdout",
     "output_type": "stream",
     "text": [
      "              precision    recall  f1-score   support\n",
      "\n",
      "           0       0.99      0.97      0.98      2641\n",
      "           1       0.97      1.00      0.98      2642\n",
      "\n",
      "    accuracy                           0.98      5283\n",
      "   macro avg       0.98      0.98      0.98      5283\n",
      "weighted avg       0.98      0.98      0.98      5283\n",
      "\n",
      "[[2573   68]\n",
      " [  13 2629]]\n"
     ]
    }
   ],
   "source": [
    "pred_classification = np.around(model_classification_1.predict(X_classification_test, verbose=None))\n",
    "print(classification_report(y_classification_test, pred_classification))\n",
    "print(confusion_matrix(y_classification_test, pred_classification))"
   ]
  },
  {
   "cell_type": "code",
   "execution_count": 89,
   "metadata": {},
   "outputs": [
    {
     "name": "stderr",
     "output_type": "stream",
     "text": [
      "WARNING:absl:Found untraced functions such as _update_step_xla while saving (showing 1 of 1). These functions will not be directly callable after loading.\n"
     ]
    },
    {
     "name": "stdout",
     "output_type": "stream",
     "text": [
      "INFO:tensorflow:Assets written to: ../models/RegressionModel/assets\n"
     ]
    },
    {
     "name": "stderr",
     "output_type": "stream",
     "text": [
      "INFO:tensorflow:Assets written to: ../models/RegressionModel/assets\n",
      "WARNING:absl:Found untraced functions such as _update_step_xla while saving (showing 1 of 1). These functions will not be directly callable after loading.\n"
     ]
    },
    {
     "name": "stdout",
     "output_type": "stream",
     "text": [
      "INFO:tensorflow:Assets written to: ../models/ClassificationModel1/assets\n"
     ]
    },
    {
     "name": "stderr",
     "output_type": "stream",
     "text": [
      "INFO:tensorflow:Assets written to: ../models/ClassificationModel1/assets\n",
      "WARNING:absl:Found untraced functions such as _update_step_xla while saving (showing 1 of 1). These functions will not be directly callable after loading.\n"
     ]
    },
    {
     "name": "stdout",
     "output_type": "stream",
     "text": [
      "INFO:tensorflow:Assets written to: ../models/ClassificationModel2/assets\n"
     ]
    },
    {
     "name": "stderr",
     "output_type": "stream",
     "text": [
      "INFO:tensorflow:Assets written to: ../models/ClassificationModel2/assets\n"
     ]
    }
   ],
   "source": [
    "model_regression.save('../models/RegressionModel')\n",
    "model_classification_1.save('../models/ClassificationModel1')\n",
    "model_classification_2.save('../models/ClassificationModel2')"
   ]
  }
 ],
 "metadata": {
  "kernelspec": {
   "display_name": "venv",
   "language": "python",
   "name": "python3"
  },
  "language_info": {
   "codemirror_mode": {
    "name": "ipython",
    "version": 3
   },
   "file_extension": ".py",
   "mimetype": "text/x-python",
   "name": "python",
   "nbconvert_exporter": "python",
   "pygments_lexer": "ipython3",
   "version": "3.9.6"
  },
  "orig_nbformat": 4
 },
 "nbformat": 4,
 "nbformat_minor": 2
}
