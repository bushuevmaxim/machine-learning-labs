{
 "cells": [
  {
   "cell_type": "code",
   "execution_count": 2,
   "metadata": {},
   "outputs": [],
   "source": [
    "import pandas as pd\n",
    "from sklearn.ensemble import BaggingRegressor\n",
    "from sklearn.ensemble import BaggingClassifier\n",
    "from sklearn.model_selection import train_test_split\n",
    "from sklearn.metrics import classification_report,  mean_squared_error\n",
    "from sklearn.feature_selection import VarianceThreshold\n",
    "from sklearn.preprocessing import StandardScaler\n",
    "from sklearn.feature_selection import SelectKBest\n",
    "from sklearn.feature_selection import RFE\n",
    "from sklearn.tree import DecisionTreeClassifier\n",
    "from imblearn.under_sampling import RandomUnderSampler\n",
    "import matplotlib.pyplot as plt\n",
    "from sklearn.decomposition import PCA\n",
    "from sklearn.manifold import TSNE, Isomap\n",
    "import warnings\n",
    "warnings.filterwarnings('ignore')"
   ]
  },
  {
   "cell_type": "code",
   "execution_count": 4,
   "metadata": {},
   "outputs": [
    {
     "data": {
      "text/html": [
       "<div>\n",
       "<style scoped>\n",
       "    .dataframe tbody tr th:only-of-type {\n",
       "        vertical-align: middle;\n",
       "    }\n",
       "\n",
       "    .dataframe tbody tr th {\n",
       "        vertical-align: top;\n",
       "    }\n",
       "\n",
       "    .dataframe thead th {\n",
       "        text-align: right;\n",
       "    }\n",
       "</style>\n",
       "<table border=\"1\" class=\"dataframe\">\n",
       "  <thead>\n",
       "    <tr style=\"text-align: right;\">\n",
       "      <th></th>\n",
       "      <th>time_left</th>\n",
       "      <th>ct_score</th>\n",
       "      <th>t_score</th>\n",
       "      <th>bomb_planted</th>\n",
       "      <th>ct_health</th>\n",
       "      <th>t_health</th>\n",
       "      <th>ct_armor</th>\n",
       "      <th>t_armor</th>\n",
       "      <th>ct_money</th>\n",
       "      <th>t_money</th>\n",
       "      <th>...</th>\n",
       "      <th>ct_players_alive</th>\n",
       "      <th>t_players_alive</th>\n",
       "      <th>map_de_cache</th>\n",
       "      <th>map_de_dust2</th>\n",
       "      <th>map_de_inferno</th>\n",
       "      <th>map_de_mirage</th>\n",
       "      <th>map_de_nuke</th>\n",
       "      <th>map_de_overpass</th>\n",
       "      <th>map_de_train</th>\n",
       "      <th>map_de_vertigo</th>\n",
       "    </tr>\n",
       "  </thead>\n",
       "  <tbody>\n",
       "    <tr>\n",
       "      <th>0</th>\n",
       "      <td>175.00</td>\n",
       "      <td>0.0</td>\n",
       "      <td>0.0</td>\n",
       "      <td>1</td>\n",
       "      <td>500.0</td>\n",
       "      <td>500.0</td>\n",
       "      <td>0.0</td>\n",
       "      <td>0.0</td>\n",
       "      <td>4000.0</td>\n",
       "      <td>4000.0</td>\n",
       "      <td>...</td>\n",
       "      <td>5.0</td>\n",
       "      <td>5.0</td>\n",
       "      <td>False</td>\n",
       "      <td>True</td>\n",
       "      <td>False</td>\n",
       "      <td>False</td>\n",
       "      <td>False</td>\n",
       "      <td>False</td>\n",
       "      <td>False</td>\n",
       "      <td>False</td>\n",
       "    </tr>\n",
       "    <tr>\n",
       "      <th>1</th>\n",
       "      <td>156.03</td>\n",
       "      <td>0.0</td>\n",
       "      <td>0.0</td>\n",
       "      <td>1</td>\n",
       "      <td>500.0</td>\n",
       "      <td>500.0</td>\n",
       "      <td>400.0</td>\n",
       "      <td>300.0</td>\n",
       "      <td>600.0</td>\n",
       "      <td>650.0</td>\n",
       "      <td>...</td>\n",
       "      <td>5.0</td>\n",
       "      <td>5.0</td>\n",
       "      <td>False</td>\n",
       "      <td>True</td>\n",
       "      <td>False</td>\n",
       "      <td>False</td>\n",
       "      <td>False</td>\n",
       "      <td>False</td>\n",
       "      <td>False</td>\n",
       "      <td>False</td>\n",
       "    </tr>\n",
       "    <tr>\n",
       "      <th>2</th>\n",
       "      <td>96.03</td>\n",
       "      <td>0.0</td>\n",
       "      <td>0.0</td>\n",
       "      <td>1</td>\n",
       "      <td>391.0</td>\n",
       "      <td>400.0</td>\n",
       "      <td>294.0</td>\n",
       "      <td>200.0</td>\n",
       "      <td>750.0</td>\n",
       "      <td>500.0</td>\n",
       "      <td>...</td>\n",
       "      <td>4.0</td>\n",
       "      <td>4.0</td>\n",
       "      <td>False</td>\n",
       "      <td>True</td>\n",
       "      <td>False</td>\n",
       "      <td>False</td>\n",
       "      <td>False</td>\n",
       "      <td>False</td>\n",
       "      <td>False</td>\n",
       "      <td>False</td>\n",
       "    </tr>\n",
       "    <tr>\n",
       "      <th>3</th>\n",
       "      <td>76.03</td>\n",
       "      <td>0.0</td>\n",
       "      <td>0.0</td>\n",
       "      <td>1</td>\n",
       "      <td>391.0</td>\n",
       "      <td>400.0</td>\n",
       "      <td>294.0</td>\n",
       "      <td>200.0</td>\n",
       "      <td>750.0</td>\n",
       "      <td>500.0</td>\n",
       "      <td>...</td>\n",
       "      <td>4.0</td>\n",
       "      <td>4.0</td>\n",
       "      <td>False</td>\n",
       "      <td>True</td>\n",
       "      <td>False</td>\n",
       "      <td>False</td>\n",
       "      <td>False</td>\n",
       "      <td>False</td>\n",
       "      <td>False</td>\n",
       "      <td>False</td>\n",
       "    </tr>\n",
       "    <tr>\n",
       "      <th>4</th>\n",
       "      <td>174.97</td>\n",
       "      <td>1.0</td>\n",
       "      <td>0.0</td>\n",
       "      <td>1</td>\n",
       "      <td>500.0</td>\n",
       "      <td>500.0</td>\n",
       "      <td>192.0</td>\n",
       "      <td>0.0</td>\n",
       "      <td>18350.0</td>\n",
       "      <td>10750.0</td>\n",
       "      <td>...</td>\n",
       "      <td>5.0</td>\n",
       "      <td>5.0</td>\n",
       "      <td>False</td>\n",
       "      <td>True</td>\n",
       "      <td>False</td>\n",
       "      <td>False</td>\n",
       "      <td>False</td>\n",
       "      <td>False</td>\n",
       "      <td>False</td>\n",
       "      <td>False</td>\n",
       "    </tr>\n",
       "    <tr>\n",
       "      <th>...</th>\n",
       "      <td>...</td>\n",
       "      <td>...</td>\n",
       "      <td>...</td>\n",
       "      <td>...</td>\n",
       "      <td>...</td>\n",
       "      <td>...</td>\n",
       "      <td>...</td>\n",
       "      <td>...</td>\n",
       "      <td>...</td>\n",
       "      <td>...</td>\n",
       "      <td>...</td>\n",
       "      <td>...</td>\n",
       "      <td>...</td>\n",
       "      <td>...</td>\n",
       "      <td>...</td>\n",
       "      <td>...</td>\n",
       "      <td>...</td>\n",
       "      <td>...</td>\n",
       "      <td>...</td>\n",
       "      <td>...</td>\n",
       "      <td>...</td>\n",
       "    </tr>\n",
       "    <tr>\n",
       "      <th>122405</th>\n",
       "      <td>15.41</td>\n",
       "      <td>11.0</td>\n",
       "      <td>14.0</td>\n",
       "      <td>0</td>\n",
       "      <td>200.0</td>\n",
       "      <td>242.0</td>\n",
       "      <td>195.0</td>\n",
       "      <td>359.0</td>\n",
       "      <td>100.0</td>\n",
       "      <td>5950.0</td>\n",
       "      <td>...</td>\n",
       "      <td>2.0</td>\n",
       "      <td>4.0</td>\n",
       "      <td>False</td>\n",
       "      <td>False</td>\n",
       "      <td>False</td>\n",
       "      <td>False</td>\n",
       "      <td>False</td>\n",
       "      <td>False</td>\n",
       "      <td>True</td>\n",
       "      <td>False</td>\n",
       "    </tr>\n",
       "    <tr>\n",
       "      <th>122406</th>\n",
       "      <td>174.93</td>\n",
       "      <td>11.0</td>\n",
       "      <td>15.0</td>\n",
       "      <td>1</td>\n",
       "      <td>500.0</td>\n",
       "      <td>500.0</td>\n",
       "      <td>95.0</td>\n",
       "      <td>175.0</td>\n",
       "      <td>11500.0</td>\n",
       "      <td>23900.0</td>\n",
       "      <td>...</td>\n",
       "      <td>5.0</td>\n",
       "      <td>5.0</td>\n",
       "      <td>False</td>\n",
       "      <td>False</td>\n",
       "      <td>False</td>\n",
       "      <td>False</td>\n",
       "      <td>False</td>\n",
       "      <td>False</td>\n",
       "      <td>True</td>\n",
       "      <td>False</td>\n",
       "    </tr>\n",
       "    <tr>\n",
       "      <th>122407</th>\n",
       "      <td>114.93</td>\n",
       "      <td>11.0</td>\n",
       "      <td>15.0</td>\n",
       "      <td>1</td>\n",
       "      <td>500.0</td>\n",
       "      <td>500.0</td>\n",
       "      <td>495.0</td>\n",
       "      <td>475.0</td>\n",
       "      <td>1200.0</td>\n",
       "      <td>6700.0</td>\n",
       "      <td>...</td>\n",
       "      <td>5.0</td>\n",
       "      <td>5.0</td>\n",
       "      <td>False</td>\n",
       "      <td>False</td>\n",
       "      <td>False</td>\n",
       "      <td>False</td>\n",
       "      <td>False</td>\n",
       "      <td>False</td>\n",
       "      <td>True</td>\n",
       "      <td>False</td>\n",
       "    </tr>\n",
       "    <tr>\n",
       "      <th>122408</th>\n",
       "      <td>94.93</td>\n",
       "      <td>11.0</td>\n",
       "      <td>15.0</td>\n",
       "      <td>1</td>\n",
       "      <td>500.0</td>\n",
       "      <td>500.0</td>\n",
       "      <td>495.0</td>\n",
       "      <td>475.0</td>\n",
       "      <td>1200.0</td>\n",
       "      <td>6700.0</td>\n",
       "      <td>...</td>\n",
       "      <td>5.0</td>\n",
       "      <td>5.0</td>\n",
       "      <td>False</td>\n",
       "      <td>False</td>\n",
       "      <td>False</td>\n",
       "      <td>False</td>\n",
       "      <td>False</td>\n",
       "      <td>False</td>\n",
       "      <td>True</td>\n",
       "      <td>False</td>\n",
       "    </tr>\n",
       "    <tr>\n",
       "      <th>122409</th>\n",
       "      <td>74.93</td>\n",
       "      <td>11.0</td>\n",
       "      <td>15.0</td>\n",
       "      <td>1</td>\n",
       "      <td>375.0</td>\n",
       "      <td>479.0</td>\n",
       "      <td>395.0</td>\n",
       "      <td>466.0</td>\n",
       "      <td>1100.0</td>\n",
       "      <td>7000.0</td>\n",
       "      <td>...</td>\n",
       "      <td>4.0</td>\n",
       "      <td>5.0</td>\n",
       "      <td>False</td>\n",
       "      <td>False</td>\n",
       "      <td>False</td>\n",
       "      <td>False</td>\n",
       "      <td>False</td>\n",
       "      <td>False</td>\n",
       "      <td>True</td>\n",
       "      <td>False</td>\n",
       "    </tr>\n",
       "  </tbody>\n",
       "</table>\n",
       "<p>112471 rows × 23 columns</p>\n",
       "</div>"
      ],
      "text/plain": [
       "        time_left  ct_score  t_score  bomb_planted  ct_health  t_health   \n",
       "0          175.00       0.0      0.0             1      500.0     500.0  \\\n",
       "1          156.03       0.0      0.0             1      500.0     500.0   \n",
       "2           96.03       0.0      0.0             1      391.0     400.0   \n",
       "3           76.03       0.0      0.0             1      391.0     400.0   \n",
       "4          174.97       1.0      0.0             1      500.0     500.0   \n",
       "...           ...       ...      ...           ...        ...       ...   \n",
       "122405      15.41      11.0     14.0             0      200.0     242.0   \n",
       "122406     174.93      11.0     15.0             1      500.0     500.0   \n",
       "122407     114.93      11.0     15.0             1      500.0     500.0   \n",
       "122408      94.93      11.0     15.0             1      500.0     500.0   \n",
       "122409      74.93      11.0     15.0             1      375.0     479.0   \n",
       "\n",
       "        ct_armor  t_armor  ct_money  t_money  ...  ct_players_alive   \n",
       "0            0.0      0.0    4000.0   4000.0  ...               5.0  \\\n",
       "1          400.0    300.0     600.0    650.0  ...               5.0   \n",
       "2          294.0    200.0     750.0    500.0  ...               4.0   \n",
       "3          294.0    200.0     750.0    500.0  ...               4.0   \n",
       "4          192.0      0.0   18350.0  10750.0  ...               5.0   \n",
       "...          ...      ...       ...      ...  ...               ...   \n",
       "122405     195.0    359.0     100.0   5950.0  ...               2.0   \n",
       "122406      95.0    175.0   11500.0  23900.0  ...               5.0   \n",
       "122407     495.0    475.0    1200.0   6700.0  ...               5.0   \n",
       "122408     495.0    475.0    1200.0   6700.0  ...               5.0   \n",
       "122409     395.0    466.0    1100.0   7000.0  ...               4.0   \n",
       "\n",
       "        t_players_alive  map_de_cache  map_de_dust2  map_de_inferno   \n",
       "0                   5.0         False          True           False  \\\n",
       "1                   5.0         False          True           False   \n",
       "2                   4.0         False          True           False   \n",
       "3                   4.0         False          True           False   \n",
       "4                   5.0         False          True           False   \n",
       "...                 ...           ...           ...             ...   \n",
       "122405              4.0         False         False           False   \n",
       "122406              5.0         False         False           False   \n",
       "122407              5.0         False         False           False   \n",
       "122408              5.0         False         False           False   \n",
       "122409              5.0         False         False           False   \n",
       "\n",
       "        map_de_mirage  map_de_nuke  map_de_overpass  map_de_train   \n",
       "0               False        False            False         False  \\\n",
       "1               False        False            False         False   \n",
       "2               False        False            False         False   \n",
       "3               False        False            False         False   \n",
       "4               False        False            False         False   \n",
       "...               ...          ...              ...           ...   \n",
       "122405          False        False            False          True   \n",
       "122406          False        False            False          True   \n",
       "122407          False        False            False          True   \n",
       "122408          False        False            False          True   \n",
       "122409          False        False            False          True   \n",
       "\n",
       "        map_de_vertigo  \n",
       "0                False  \n",
       "1                False  \n",
       "2                False  \n",
       "3                False  \n",
       "4                False  \n",
       "...                ...  \n",
       "122405           False  \n",
       "122406           False  \n",
       "122407           False  \n",
       "122408           False  \n",
       "122409           False  \n",
       "\n",
       "[112471 rows x 23 columns]"
      ]
     },
     "execution_count": 4,
     "metadata": {},
     "output_type": "execute_result"
    }
   ],
   "source": [
    "import numpy as np\n",
    "\n",
    "\n",
    "data = pd.read_csv(\"/Users/max/projects/machine-learning-labs/data/csgo_task.csv\")\n",
    "data.drop_duplicates(inplace=True)\n",
    "data.dropna(inplace=True)\n",
    "data['bomb_planted'] = (~data['bomb_planted']).astype(np.byte)\n",
    "data_new = pd.get_dummies(data, columns=['map'])\n",
    "data_new"
   ]
  },
  {
   "cell_type": "code",
   "execution_count": 3,
   "metadata": {},
   "outputs": [
    {
     "data": {
      "text/html": [
       "<div>\n",
       "<style scoped>\n",
       "    .dataframe tbody tr th:only-of-type {\n",
       "        vertical-align: middle;\n",
       "    }\n",
       "\n",
       "    .dataframe tbody tr th {\n",
       "        vertical-align: top;\n",
       "    }\n",
       "\n",
       "    .dataframe thead th {\n",
       "        text-align: right;\n",
       "    }\n",
       "</style>\n",
       "<table border=\"1\" class=\"dataframe\">\n",
       "  <thead>\n",
       "    <tr style=\"text-align: right;\">\n",
       "      <th></th>\n",
       "      <th>pickup_longitude</th>\n",
       "      <th>pickup_latitude</th>\n",
       "      <th>dropoff_longitude</th>\n",
       "      <th>dropoff_latitude</th>\n",
       "      <th>trip_duration</th>\n",
       "    </tr>\n",
       "  </thead>\n",
       "  <tbody>\n",
       "    <tr>\n",
       "      <th>0</th>\n",
       "      <td>-73.953918</td>\n",
       "      <td>40.778873</td>\n",
       "      <td>-73.963875</td>\n",
       "      <td>40.771164</td>\n",
       "      <td>400</td>\n",
       "    </tr>\n",
       "    <tr>\n",
       "      <th>1</th>\n",
       "      <td>-73.988312</td>\n",
       "      <td>40.731743</td>\n",
       "      <td>-73.994751</td>\n",
       "      <td>40.694931</td>\n",
       "      <td>1100</td>\n",
       "    </tr>\n",
       "    <tr>\n",
       "      <th>2</th>\n",
       "      <td>-73.997314</td>\n",
       "      <td>40.721458</td>\n",
       "      <td>-73.948029</td>\n",
       "      <td>40.774918</td>\n",
       "      <td>1635</td>\n",
       "    </tr>\n",
       "    <tr>\n",
       "      <th>3</th>\n",
       "      <td>-73.961670</td>\n",
       "      <td>40.759720</td>\n",
       "      <td>-73.956779</td>\n",
       "      <td>40.780628</td>\n",
       "      <td>1141</td>\n",
       "    </tr>\n",
       "    <tr>\n",
       "      <th>4</th>\n",
       "      <td>-74.017120</td>\n",
       "      <td>40.708469</td>\n",
       "      <td>-73.988182</td>\n",
       "      <td>40.740631</td>\n",
       "      <td>848</td>\n",
       "    </tr>\n",
       "  </tbody>\n",
       "</table>\n",
       "</div>"
      ],
      "text/plain": [
       "   pickup_longitude  pickup_latitude  dropoff_longitude  dropoff_latitude   \n",
       "0        -73.953918        40.778873         -73.963875         40.771164  \\\n",
       "1        -73.988312        40.731743         -73.994751         40.694931   \n",
       "2        -73.997314        40.721458         -73.948029         40.774918   \n",
       "3        -73.961670        40.759720         -73.956779         40.780628   \n",
       "4        -74.017120        40.708469         -73.988182         40.740631   \n",
       "\n",
       "   trip_duration  \n",
       "0            400  \n",
       "1           1100  \n",
       "2           1635  \n",
       "3           1141  \n",
       "4            848  "
      ]
     },
     "execution_count": 3,
     "metadata": {},
     "output_type": "execute_result"
    }
   ],
   "source": [
    "data2 = pd.read_csv(\"/Users/max/projects/machine-learning-labs/data/trip_duration_task_m.csv\")\n",
    "\n",
    "data2.drop(['Unnamed: 0'], axis=1, inplace=True)\n",
    "data2.head()"
   ]
  },
  {
   "cell_type": "code",
   "execution_count": 6,
   "metadata": {},
   "outputs": [],
   "source": [
    "def testDataClassification(X, y):\n",
    "  X_train, X_test, y_train, y_test = train_test_split(X, y, test_size=0.15, shuffle=False)\n",
    "  bag = BaggingClassifier().fit(X_train, y_train)\n",
    "  print(classification_report(y_test, bag.predict(X_test)))"
   ]
  },
  {
   "cell_type": "code",
   "execution_count": 4,
   "metadata": {},
   "outputs": [],
   "source": [
    "def testDataRegression(X, y):\n",
    "  X_train, X_test, y_train, y_test = train_test_split(X, y, test_size=0.15, shuffle=False)\n",
    "  bag = BaggingRegressor().fit(X_train, y_train)\n",
    "  print(mean_squared_error(y_test, bag.predict(X_test)))"
   ]
  },
  {
   "cell_type": "code",
   "execution_count": 8,
   "metadata": {},
   "outputs": [],
   "source": [
    "X = data_new.drop(['bomb_planted'], axis=1)\n",
    "y = data_new['bomb_planted']"
   ]
  },
  {
   "cell_type": "code",
   "execution_count": 9,
   "metadata": {},
   "outputs": [
    {
     "name": "stdout",
     "output_type": "stream",
     "text": [
      "              precision    recall  f1-score   support\n",
      "\n",
      "           0       0.90      0.95      0.92      2019\n",
      "           1       0.99      0.99      0.99     14852\n",
      "\n",
      "    accuracy                           0.98     16871\n",
      "   macro avg       0.95      0.97      0.96     16871\n",
      "weighted avg       0.98      0.98      0.98     16871\n",
      "\n"
     ]
    }
   ],
   "source": [
    "testDataClassification(X,y)"
   ]
  },
  {
   "cell_type": "code",
   "execution_count": 299,
   "metadata": {},
   "outputs": [
    {
     "data": {
      "text/html": [
       "<div>\n",
       "<style scoped>\n",
       "    .dataframe tbody tr th:only-of-type {\n",
       "        vertical-align: middle;\n",
       "    }\n",
       "\n",
       "    .dataframe tbody tr th {\n",
       "        vertical-align: top;\n",
       "    }\n",
       "\n",
       "    .dataframe thead th {\n",
       "        text-align: right;\n",
       "    }\n",
       "</style>\n",
       "<table border=\"1\" class=\"dataframe\">\n",
       "  <thead>\n",
       "    <tr style=\"text-align: right;\">\n",
       "      <th></th>\n",
       "      <th>time_left</th>\n",
       "      <th>ct_score</th>\n",
       "      <th>t_score</th>\n",
       "      <th>ct_health</th>\n",
       "      <th>t_health</th>\n",
       "      <th>ct_armor</th>\n",
       "      <th>t_armor</th>\n",
       "      <th>ct_money</th>\n",
       "      <th>t_money</th>\n",
       "      <th>ct_helmets</th>\n",
       "      <th>t_helmets</th>\n",
       "      <th>ct_defuse_kits</th>\n",
       "      <th>ct_players_alive</th>\n",
       "      <th>t_players_alive</th>\n",
       "    </tr>\n",
       "  </thead>\n",
       "  <tbody>\n",
       "    <tr>\n",
       "      <th>count</th>\n",
       "      <td>112471.000000</td>\n",
       "      <td>112471.000000</td>\n",
       "      <td>112471.000000</td>\n",
       "      <td>112471.000000</td>\n",
       "      <td>112471.000000</td>\n",
       "      <td>112471.000000</td>\n",
       "      <td>112471.000000</td>\n",
       "      <td>112471.000000</td>\n",
       "      <td>112471.000000</td>\n",
       "      <td>112471.000000</td>\n",
       "      <td>112471.000000</td>\n",
       "      <td>112471.000000</td>\n",
       "      <td>112471.000000</td>\n",
       "      <td>112471.000000</td>\n",
       "    </tr>\n",
       "    <tr>\n",
       "      <th>mean</th>\n",
       "      <td>94.053707</td>\n",
       "      <td>6.779232</td>\n",
       "      <td>6.836820</td>\n",
       "      <td>407.871336</td>\n",
       "      <td>397.851153</td>\n",
       "      <td>319.696322</td>\n",
       "      <td>304.360235</td>\n",
       "      <td>10022.127926</td>\n",
       "      <td>11522.460012</td>\n",
       "      <td>2.135644</td>\n",
       "      <td>2.888531</td>\n",
       "      <td>1.661815</td>\n",
       "      <td>4.238915</td>\n",
       "      <td>4.229215</td>\n",
       "    </tr>\n",
       "    <tr>\n",
       "      <th>std</th>\n",
       "      <td>52.984146</td>\n",
       "      <td>4.802931</td>\n",
       "      <td>4.832594</td>\n",
       "      <td>134.024392</td>\n",
       "      <td>141.702350</td>\n",
       "      <td>169.121002</td>\n",
       "      <td>173.195358</td>\n",
       "      <td>11275.465347</td>\n",
       "      <td>12224.426788</td>\n",
       "      <td>1.829645</td>\n",
       "      <td>1.968444</td>\n",
       "      <td>1.614162</td>\n",
       "      <td>1.223794</td>\n",
       "      <td>1.248301</td>\n",
       "    </tr>\n",
       "    <tr>\n",
       "      <th>min</th>\n",
       "      <td>0.010000</td>\n",
       "      <td>0.000000</td>\n",
       "      <td>0.000000</td>\n",
       "      <td>0.000000</td>\n",
       "      <td>0.000000</td>\n",
       "      <td>0.000000</td>\n",
       "      <td>0.000000</td>\n",
       "      <td>0.000000</td>\n",
       "      <td>0.000000</td>\n",
       "      <td>0.000000</td>\n",
       "      <td>0.000000</td>\n",
       "      <td>0.000000</td>\n",
       "      <td>0.000000</td>\n",
       "      <td>0.000000</td>\n",
       "    </tr>\n",
       "    <tr>\n",
       "      <th>25%</th>\n",
       "      <td>54.900000</td>\n",
       "      <td>3.000000</td>\n",
       "      <td>3.000000</td>\n",
       "      <td>332.000000</td>\n",
       "      <td>306.000000</td>\n",
       "      <td>196.000000</td>\n",
       "      <td>181.000000</td>\n",
       "      <td>1300.000000</td>\n",
       "      <td>1650.000000</td>\n",
       "      <td>0.000000</td>\n",
       "      <td>1.000000</td>\n",
       "      <td>0.000000</td>\n",
       "      <td>4.000000</td>\n",
       "      <td>4.000000</td>\n",
       "    </tr>\n",
       "    <tr>\n",
       "      <th>50%</th>\n",
       "      <td>94.870000</td>\n",
       "      <td>6.000000</td>\n",
       "      <td>6.000000</td>\n",
       "      <td>500.000000</td>\n",
       "      <td>499.000000</td>\n",
       "      <td>384.000000</td>\n",
       "      <td>356.000000</td>\n",
       "      <td>6000.000000</td>\n",
       "      <td>7750.000000</td>\n",
       "      <td>2.000000</td>\n",
       "      <td>3.000000</td>\n",
       "      <td>1.000000</td>\n",
       "      <td>5.000000</td>\n",
       "      <td>5.000000</td>\n",
       "    </tr>\n",
       "    <tr>\n",
       "      <th>75%</th>\n",
       "      <td>114.960000</td>\n",
       "      <td>10.000000</td>\n",
       "      <td>11.000000</td>\n",
       "      <td>500.000000</td>\n",
       "      <td>500.000000</td>\n",
       "      <td>487.000000</td>\n",
       "      <td>471.000000</td>\n",
       "      <td>15100.000000</td>\n",
       "      <td>18400.000000</td>\n",
       "      <td>4.000000</td>\n",
       "      <td>5.000000</td>\n",
       "      <td>3.000000</td>\n",
       "      <td>5.000000</td>\n",
       "      <td>5.000000</td>\n",
       "    </tr>\n",
       "    <tr>\n",
       "      <th>max</th>\n",
       "      <td>175.000000</td>\n",
       "      <td>32.000000</td>\n",
       "      <td>33.000000</td>\n",
       "      <td>500.000000</td>\n",
       "      <td>600.000000</td>\n",
       "      <td>500.000000</td>\n",
       "      <td>500.000000</td>\n",
       "      <td>80000.000000</td>\n",
       "      <td>80000.000000</td>\n",
       "      <td>5.000000</td>\n",
       "      <td>5.000000</td>\n",
       "      <td>5.000000</td>\n",
       "      <td>5.000000</td>\n",
       "      <td>6.000000</td>\n",
       "    </tr>\n",
       "  </tbody>\n",
       "</table>\n",
       "</div>"
      ],
      "text/plain": [
       "           time_left       ct_score        t_score      ct_health   \n",
       "count  112471.000000  112471.000000  112471.000000  112471.000000  \\\n",
       "mean       94.053707       6.779232       6.836820     407.871336   \n",
       "std        52.984146       4.802931       4.832594     134.024392   \n",
       "min         0.010000       0.000000       0.000000       0.000000   \n",
       "25%        54.900000       3.000000       3.000000     332.000000   \n",
       "50%        94.870000       6.000000       6.000000     500.000000   \n",
       "75%       114.960000      10.000000      11.000000     500.000000   \n",
       "max       175.000000      32.000000      33.000000     500.000000   \n",
       "\n",
       "            t_health       ct_armor        t_armor       ct_money   \n",
       "count  112471.000000  112471.000000  112471.000000  112471.000000  \\\n",
       "mean      397.851153     319.696322     304.360235   10022.127926   \n",
       "std       141.702350     169.121002     173.195358   11275.465347   \n",
       "min         0.000000       0.000000       0.000000       0.000000   \n",
       "25%       306.000000     196.000000     181.000000    1300.000000   \n",
       "50%       499.000000     384.000000     356.000000    6000.000000   \n",
       "75%       500.000000     487.000000     471.000000   15100.000000   \n",
       "max       600.000000     500.000000     500.000000   80000.000000   \n",
       "\n",
       "             t_money     ct_helmets      t_helmets  ct_defuse_kits   \n",
       "count  112471.000000  112471.000000  112471.000000   112471.000000  \\\n",
       "mean    11522.460012       2.135644       2.888531        1.661815   \n",
       "std     12224.426788       1.829645       1.968444        1.614162   \n",
       "min         0.000000       0.000000       0.000000        0.000000   \n",
       "25%      1650.000000       0.000000       1.000000        0.000000   \n",
       "50%      7750.000000       2.000000       3.000000        1.000000   \n",
       "75%     18400.000000       4.000000       5.000000        3.000000   \n",
       "max     80000.000000       5.000000       5.000000        5.000000   \n",
       "\n",
       "       ct_players_alive  t_players_alive  \n",
       "count     112471.000000    112471.000000  \n",
       "mean           4.238915         4.229215  \n",
       "std            1.223794         1.248301  \n",
       "min            0.000000         0.000000  \n",
       "25%            4.000000         4.000000  \n",
       "50%            5.000000         5.000000  \n",
       "75%            5.000000         5.000000  \n",
       "max            5.000000         6.000000  "
      ]
     },
     "execution_count": 299,
     "metadata": {},
     "output_type": "execute_result"
    }
   ],
   "source": [
    "X.describe()"
   ]
  },
  {
   "cell_type": "code",
   "execution_count": 300,
   "metadata": {},
   "outputs": [
    {
     "data": {
      "text/plain": [
       "(112471, 22)"
      ]
     },
     "execution_count": 300,
     "metadata": {},
     "output_type": "execute_result"
    }
   ],
   "source": [
    "X.shape"
   ]
  },
  {
   "cell_type": "code",
   "execution_count": 301,
   "metadata": {},
   "outputs": [
    {
     "data": {
      "text/plain": [
       "(112471, 9)"
      ]
     },
     "execution_count": 301,
     "metadata": {},
     "output_type": "execute_result"
    }
   ],
   "source": [
    "vt = VarianceThreshold(20)\n",
    "X_vt = vt.fit_transform(X)\n",
    "X_vt.shape"
   ]
  },
  {
   "cell_type": "code",
   "execution_count": 302,
   "metadata": {},
   "outputs": [
    {
     "data": {
      "text/html": [
       "<div>\n",
       "<style scoped>\n",
       "    .dataframe tbody tr th:only-of-type {\n",
       "        vertical-align: middle;\n",
       "    }\n",
       "\n",
       "    .dataframe tbody tr th {\n",
       "        vertical-align: top;\n",
       "    }\n",
       "\n",
       "    .dataframe thead th {\n",
       "        text-align: right;\n",
       "    }\n",
       "</style>\n",
       "<table border=\"1\" class=\"dataframe\">\n",
       "  <thead>\n",
       "    <tr style=\"text-align: right;\">\n",
       "      <th></th>\n",
       "      <th>time_left</th>\n",
       "      <th>ct_score</th>\n",
       "      <th>t_score</th>\n",
       "      <th>ct_health</th>\n",
       "      <th>t_health</th>\n",
       "      <th>ct_armor</th>\n",
       "      <th>t_armor</th>\n",
       "      <th>ct_money</th>\n",
       "      <th>t_money</th>\n",
       "    </tr>\n",
       "  </thead>\n",
       "  <tbody>\n",
       "    <tr>\n",
       "      <th>0</th>\n",
       "      <td>175.00</td>\n",
       "      <td>0.0</td>\n",
       "      <td>0.0</td>\n",
       "      <td>500.0</td>\n",
       "      <td>500.0</td>\n",
       "      <td>0.0</td>\n",
       "      <td>0.0</td>\n",
       "      <td>4000.0</td>\n",
       "      <td>4000.0</td>\n",
       "    </tr>\n",
       "    <tr>\n",
       "      <th>1</th>\n",
       "      <td>156.03</td>\n",
       "      <td>0.0</td>\n",
       "      <td>0.0</td>\n",
       "      <td>500.0</td>\n",
       "      <td>500.0</td>\n",
       "      <td>400.0</td>\n",
       "      <td>300.0</td>\n",
       "      <td>600.0</td>\n",
       "      <td>650.0</td>\n",
       "    </tr>\n",
       "    <tr>\n",
       "      <th>2</th>\n",
       "      <td>96.03</td>\n",
       "      <td>0.0</td>\n",
       "      <td>0.0</td>\n",
       "      <td>391.0</td>\n",
       "      <td>400.0</td>\n",
       "      <td>294.0</td>\n",
       "      <td>200.0</td>\n",
       "      <td>750.0</td>\n",
       "      <td>500.0</td>\n",
       "    </tr>\n",
       "    <tr>\n",
       "      <th>3</th>\n",
       "      <td>76.03</td>\n",
       "      <td>0.0</td>\n",
       "      <td>0.0</td>\n",
       "      <td>391.0</td>\n",
       "      <td>400.0</td>\n",
       "      <td>294.0</td>\n",
       "      <td>200.0</td>\n",
       "      <td>750.0</td>\n",
       "      <td>500.0</td>\n",
       "    </tr>\n",
       "    <tr>\n",
       "      <th>4</th>\n",
       "      <td>174.97</td>\n",
       "      <td>1.0</td>\n",
       "      <td>0.0</td>\n",
       "      <td>500.0</td>\n",
       "      <td>500.0</td>\n",
       "      <td>192.0</td>\n",
       "      <td>0.0</td>\n",
       "      <td>18350.0</td>\n",
       "      <td>10750.0</td>\n",
       "    </tr>\n",
       "  </tbody>\n",
       "</table>\n",
       "</div>"
      ],
      "text/plain": [
       "   time_left  ct_score  t_score  ct_health  t_health  ct_armor  t_armor   \n",
       "0     175.00       0.0      0.0      500.0     500.0       0.0      0.0  \\\n",
       "1     156.03       0.0      0.0      500.0     500.0     400.0    300.0   \n",
       "2      96.03       0.0      0.0      391.0     400.0     294.0    200.0   \n",
       "3      76.03       0.0      0.0      391.0     400.0     294.0    200.0   \n",
       "4     174.97       1.0      0.0      500.0     500.0     192.0      0.0   \n",
       "\n",
       "   ct_money  t_money  \n",
       "0    4000.0   4000.0  \n",
       "1     600.0    650.0  \n",
       "2     750.0    500.0  \n",
       "3     750.0    500.0  \n",
       "4   18350.0  10750.0  "
      ]
     },
     "execution_count": 302,
     "metadata": {},
     "output_type": "execute_result"
    }
   ],
   "source": [
    "X_vt = pd.DataFrame(X_vt, columns=vt.get_feature_names_out())\n",
    "X_vt.head()"
   ]
  },
  {
   "cell_type": "code",
   "execution_count": 303,
   "metadata": {},
   "outputs": [
    {
     "name": "stdout",
     "output_type": "stream",
     "text": [
      "              precision    recall  f1-score   support\n",
      "\n",
      "           0       0.90      0.95      0.92      2019\n",
      "           1       0.99      0.99      0.99     14852\n",
      "\n",
      "    accuracy                           0.98     16871\n",
      "   macro avg       0.95      0.97      0.96     16871\n",
      "weighted avg       0.98      0.98      0.98     16871\n",
      "\n"
     ]
    }
   ],
   "source": [
    "testDataClassification(X_vt,y)"
   ]
  },
  {
   "cell_type": "code",
   "execution_count": 10,
   "metadata": {},
   "outputs": [
    {
     "data": {
      "text/html": [
       "<div>\n",
       "<style scoped>\n",
       "    .dataframe tbody tr th:only-of-type {\n",
       "        vertical-align: middle;\n",
       "    }\n",
       "\n",
       "    .dataframe tbody tr th {\n",
       "        vertical-align: top;\n",
       "    }\n",
       "\n",
       "    .dataframe thead th {\n",
       "        text-align: right;\n",
       "    }\n",
       "</style>\n",
       "<table border=\"1\" class=\"dataframe\">\n",
       "  <thead>\n",
       "    <tr style=\"text-align: right;\">\n",
       "      <th></th>\n",
       "      <th>time_left</th>\n",
       "      <th>ct_score</th>\n",
       "      <th>t_score</th>\n",
       "      <th>ct_health</th>\n",
       "      <th>t_health</th>\n",
       "      <th>ct_armor</th>\n",
       "      <th>t_armor</th>\n",
       "      <th>ct_money</th>\n",
       "      <th>t_money</th>\n",
       "      <th>ct_helmets</th>\n",
       "      <th>...</th>\n",
       "      <th>ct_players_alive</th>\n",
       "      <th>t_players_alive</th>\n",
       "      <th>map_de_cache</th>\n",
       "      <th>map_de_dust2</th>\n",
       "      <th>map_de_inferno</th>\n",
       "      <th>map_de_mirage</th>\n",
       "      <th>map_de_nuke</th>\n",
       "      <th>map_de_overpass</th>\n",
       "      <th>map_de_train</th>\n",
       "      <th>map_de_vertigo</th>\n",
       "    </tr>\n",
       "  </thead>\n",
       "  <tbody>\n",
       "    <tr>\n",
       "      <th>0</th>\n",
       "      <td>1.527752</td>\n",
       "      <td>-1.411484</td>\n",
       "      <td>-1.414737</td>\n",
       "      <td>0.687405</td>\n",
       "      <td>0.720872</td>\n",
       "      <td>-1.890349</td>\n",
       "      <td>-1.757331</td>\n",
       "      <td>-0.534094</td>\n",
       "      <td>-0.615366</td>\n",
       "      <td>-1.16725</td>\n",
       "      <td>...</td>\n",
       "      <td>0.621909</td>\n",
       "      <td>0.617471</td>\n",
       "      <td>-0.03505</td>\n",
       "      <td>2.127061</td>\n",
       "      <td>-0.493765</td>\n",
       "      <td>-0.422255</td>\n",
       "      <td>-0.42513</td>\n",
       "      <td>-0.360616</td>\n",
       "      <td>-0.351421</td>\n",
       "      <td>-0.318982</td>\n",
       "    </tr>\n",
       "    <tr>\n",
       "      <th>1</th>\n",
       "      <td>1.169719</td>\n",
       "      <td>-1.411484</td>\n",
       "      <td>-1.414737</td>\n",
       "      <td>0.687405</td>\n",
       "      <td>0.720872</td>\n",
       "      <td>0.474832</td>\n",
       "      <td>-0.025175</td>\n",
       "      <td>-0.835635</td>\n",
       "      <td>-0.889408</td>\n",
       "      <td>-1.16725</td>\n",
       "      <td>...</td>\n",
       "      <td>0.621909</td>\n",
       "      <td>0.617471</td>\n",
       "      <td>-0.03505</td>\n",
       "      <td>2.127061</td>\n",
       "      <td>-0.493765</td>\n",
       "      <td>-0.422255</td>\n",
       "      <td>-0.42513</td>\n",
       "      <td>-0.360616</td>\n",
       "      <td>-0.351421</td>\n",
       "      <td>-0.318982</td>\n",
       "    </tr>\n",
       "    <tr>\n",
       "      <th>2</th>\n",
       "      <td>0.037300</td>\n",
       "      <td>-1.411484</td>\n",
       "      <td>-1.414737</td>\n",
       "      <td>-0.125883</td>\n",
       "      <td>0.015165</td>\n",
       "      <td>-0.151941</td>\n",
       "      <td>-0.602561</td>\n",
       "      <td>-0.822331</td>\n",
       "      <td>-0.901679</td>\n",
       "      <td>-1.16725</td>\n",
       "      <td>...</td>\n",
       "      <td>-0.195226</td>\n",
       "      <td>-0.183622</td>\n",
       "      <td>-0.03505</td>\n",
       "      <td>2.127061</td>\n",
       "      <td>-0.493765</td>\n",
       "      <td>-0.422255</td>\n",
       "      <td>-0.42513</td>\n",
       "      <td>-0.360616</td>\n",
       "      <td>-0.351421</td>\n",
       "      <td>-0.318982</td>\n",
       "    </tr>\n",
       "    <tr>\n",
       "      <th>3</th>\n",
       "      <td>-0.340173</td>\n",
       "      <td>-1.411484</td>\n",
       "      <td>-1.414737</td>\n",
       "      <td>-0.125883</td>\n",
       "      <td>0.015165</td>\n",
       "      <td>-0.151941</td>\n",
       "      <td>-0.602561</td>\n",
       "      <td>-0.822331</td>\n",
       "      <td>-0.901679</td>\n",
       "      <td>-1.16725</td>\n",
       "      <td>...</td>\n",
       "      <td>-0.195226</td>\n",
       "      <td>-0.183622</td>\n",
       "      <td>-0.03505</td>\n",
       "      <td>2.127061</td>\n",
       "      <td>-0.493765</td>\n",
       "      <td>-0.422255</td>\n",
       "      <td>-0.42513</td>\n",
       "      <td>-0.360616</td>\n",
       "      <td>-0.351421</td>\n",
       "      <td>-0.318982</td>\n",
       "    </tr>\n",
       "    <tr>\n",
       "      <th>4</th>\n",
       "      <td>1.527186</td>\n",
       "      <td>-1.203277</td>\n",
       "      <td>-1.414737</td>\n",
       "      <td>0.687405</td>\n",
       "      <td>0.720872</td>\n",
       "      <td>-0.755062</td>\n",
       "      <td>-1.757331</td>\n",
       "      <td>0.738587</td>\n",
       "      <td>-0.063190</td>\n",
       "      <td>-1.16725</td>\n",
       "      <td>...</td>\n",
       "      <td>0.621909</td>\n",
       "      <td>0.617471</td>\n",
       "      <td>-0.03505</td>\n",
       "      <td>2.127061</td>\n",
       "      <td>-0.493765</td>\n",
       "      <td>-0.422255</td>\n",
       "      <td>-0.42513</td>\n",
       "      <td>-0.360616</td>\n",
       "      <td>-0.351421</td>\n",
       "      <td>-0.318982</td>\n",
       "    </tr>\n",
       "  </tbody>\n",
       "</table>\n",
       "<p>5 rows × 22 columns</p>\n",
       "</div>"
      ],
      "text/plain": [
       "   time_left  ct_score   t_score  ct_health  t_health  ct_armor   t_armor   \n",
       "0   1.527752 -1.411484 -1.414737   0.687405  0.720872 -1.890349 -1.757331  \\\n",
       "1   1.169719 -1.411484 -1.414737   0.687405  0.720872  0.474832 -0.025175   \n",
       "2   0.037300 -1.411484 -1.414737  -0.125883  0.015165 -0.151941 -0.602561   \n",
       "3  -0.340173 -1.411484 -1.414737  -0.125883  0.015165 -0.151941 -0.602561   \n",
       "4   1.527186 -1.203277 -1.414737   0.687405  0.720872 -0.755062 -1.757331   \n",
       "\n",
       "   ct_money   t_money  ct_helmets  ...  ct_players_alive  t_players_alive   \n",
       "0 -0.534094 -0.615366    -1.16725  ...          0.621909         0.617471  \\\n",
       "1 -0.835635 -0.889408    -1.16725  ...          0.621909         0.617471   \n",
       "2 -0.822331 -0.901679    -1.16725  ...         -0.195226        -0.183622   \n",
       "3 -0.822331 -0.901679    -1.16725  ...         -0.195226        -0.183622   \n",
       "4  0.738587 -0.063190    -1.16725  ...          0.621909         0.617471   \n",
       "\n",
       "   map_de_cache  map_de_dust2  map_de_inferno  map_de_mirage  map_de_nuke   \n",
       "0      -0.03505      2.127061       -0.493765      -0.422255     -0.42513  \\\n",
       "1      -0.03505      2.127061       -0.493765      -0.422255     -0.42513   \n",
       "2      -0.03505      2.127061       -0.493765      -0.422255     -0.42513   \n",
       "3      -0.03505      2.127061       -0.493765      -0.422255     -0.42513   \n",
       "4      -0.03505      2.127061       -0.493765      -0.422255     -0.42513   \n",
       "\n",
       "   map_de_overpass  map_de_train  map_de_vertigo  \n",
       "0        -0.360616     -0.351421       -0.318982  \n",
       "1        -0.360616     -0.351421       -0.318982  \n",
       "2        -0.360616     -0.351421       -0.318982  \n",
       "3        -0.360616     -0.351421       -0.318982  \n",
       "4        -0.360616     -0.351421       -0.318982  \n",
       "\n",
       "[5 rows x 22 columns]"
      ]
     },
     "execution_count": 10,
     "metadata": {},
     "output_type": "execute_result"
    }
   ],
   "source": [
    "scaler = StandardScaler()\n",
    "X_scaled = scaler.fit_transform(X)\n",
    "X_scaled = pd.DataFrame(X_scaled, columns=X.columns)\n",
    "X_scaled.head()"
   ]
  },
  {
   "cell_type": "code",
   "execution_count": 305,
   "metadata": {},
   "outputs": [
    {
     "name": "stdout",
     "output_type": "stream",
     "text": [
      "(112471, 8)\n",
      "              precision    recall  f1-score   support\n",
      "\n",
      "           0       0.89      0.94      0.91      2019\n",
      "           1       0.99      0.98      0.99     14852\n",
      "\n",
      "    accuracy                           0.98     16871\n",
      "   macro avg       0.94      0.96      0.95     16871\n",
      "weighted avg       0.98      0.98      0.98     16871\n",
      "\n"
     ]
    }
   ],
   "source": [
    "vt = VarianceThreshold(1)\n",
    "X_vt = vt.fit_transform(X_scaled)\n",
    "print(X_vt.shape)\n",
    "testDataClassification(X_vt, y)"
   ]
  },
  {
   "cell_type": "code",
   "execution_count": 306,
   "metadata": {},
   "outputs": [
    {
     "data": {
      "text/html": [
       "<div>\n",
       "<style scoped>\n",
       "    .dataframe tbody tr th:only-of-type {\n",
       "        vertical-align: middle;\n",
       "    }\n",
       "\n",
       "    .dataframe tbody tr th {\n",
       "        vertical-align: top;\n",
       "    }\n",
       "\n",
       "    .dataframe thead th {\n",
       "        text-align: right;\n",
       "    }\n",
       "</style>\n",
       "<table border=\"1\" class=\"dataframe\">\n",
       "  <thead>\n",
       "    <tr style=\"text-align: right;\">\n",
       "      <th></th>\n",
       "      <th>time_left</th>\n",
       "      <th>ct_score</th>\n",
       "      <th>t_score</th>\n",
       "      <th>ct_health</th>\n",
       "      <th>ct_money</th>\n",
       "      <th>ct_helmets</th>\n",
       "      <th>map_de_inferno</th>\n",
       "      <th>map_de_train</th>\n",
       "    </tr>\n",
       "  </thead>\n",
       "  <tbody>\n",
       "    <tr>\n",
       "      <th>0</th>\n",
       "      <td>1.527752</td>\n",
       "      <td>-1.411484</td>\n",
       "      <td>-1.414737</td>\n",
       "      <td>0.687405</td>\n",
       "      <td>-0.534094</td>\n",
       "      <td>-1.16725</td>\n",
       "      <td>-0.493765</td>\n",
       "      <td>-0.351421</td>\n",
       "    </tr>\n",
       "    <tr>\n",
       "      <th>1</th>\n",
       "      <td>1.169719</td>\n",
       "      <td>-1.411484</td>\n",
       "      <td>-1.414737</td>\n",
       "      <td>0.687405</td>\n",
       "      <td>-0.835635</td>\n",
       "      <td>-1.16725</td>\n",
       "      <td>-0.493765</td>\n",
       "      <td>-0.351421</td>\n",
       "    </tr>\n",
       "    <tr>\n",
       "      <th>2</th>\n",
       "      <td>0.037300</td>\n",
       "      <td>-1.411484</td>\n",
       "      <td>-1.414737</td>\n",
       "      <td>-0.125883</td>\n",
       "      <td>-0.822331</td>\n",
       "      <td>-1.16725</td>\n",
       "      <td>-0.493765</td>\n",
       "      <td>-0.351421</td>\n",
       "    </tr>\n",
       "    <tr>\n",
       "      <th>3</th>\n",
       "      <td>-0.340173</td>\n",
       "      <td>-1.411484</td>\n",
       "      <td>-1.414737</td>\n",
       "      <td>-0.125883</td>\n",
       "      <td>-0.822331</td>\n",
       "      <td>-1.16725</td>\n",
       "      <td>-0.493765</td>\n",
       "      <td>-0.351421</td>\n",
       "    </tr>\n",
       "    <tr>\n",
       "      <th>4</th>\n",
       "      <td>1.527186</td>\n",
       "      <td>-1.203277</td>\n",
       "      <td>-1.414737</td>\n",
       "      <td>0.687405</td>\n",
       "      <td>0.738587</td>\n",
       "      <td>-1.16725</td>\n",
       "      <td>-0.493765</td>\n",
       "      <td>-0.351421</td>\n",
       "    </tr>\n",
       "  </tbody>\n",
       "</table>\n",
       "</div>"
      ],
      "text/plain": [
       "   time_left  ct_score   t_score  ct_health  ct_money  ct_helmets   \n",
       "0   1.527752 -1.411484 -1.414737   0.687405 -0.534094    -1.16725  \\\n",
       "1   1.169719 -1.411484 -1.414737   0.687405 -0.835635    -1.16725   \n",
       "2   0.037300 -1.411484 -1.414737  -0.125883 -0.822331    -1.16725   \n",
       "3  -0.340173 -1.411484 -1.414737  -0.125883 -0.822331    -1.16725   \n",
       "4   1.527186 -1.203277 -1.414737   0.687405  0.738587    -1.16725   \n",
       "\n",
       "   map_de_inferno  map_de_train  \n",
       "0       -0.493765     -0.351421  \n",
       "1       -0.493765     -0.351421  \n",
       "2       -0.493765     -0.351421  \n",
       "3       -0.493765     -0.351421  \n",
       "4       -0.493765     -0.351421  "
      ]
     },
     "execution_count": 306,
     "metadata": {},
     "output_type": "execute_result"
    }
   ],
   "source": [
    "X_vt = pd.DataFrame(X_vt, columns=vt.get_feature_names_out())\n",
    "X_vt.head()"
   ]
  },
  {
   "cell_type": "code",
   "execution_count": 307,
   "metadata": {},
   "outputs": [
    {
     "name": "stdout",
     "output_type": "stream",
     "text": [
      "              precision    recall  f1-score   support\n",
      "\n",
      "           0       0.89      0.91      0.90      2019\n",
      "           1       0.99      0.98      0.99     14852\n",
      "\n",
      "    accuracy                           0.98     16871\n",
      "   macro avg       0.94      0.95      0.94     16871\n",
      "weighted avg       0.98      0.98      0.98     16871\n",
      "\n"
     ]
    }
   ],
   "source": [
    "skb = SelectKBest(k=3)\n",
    "X_skb = skb.fit_transform(X_scaled, y)\n",
    "testDataClassification(X_skb, y)"
   ]
  },
  {
   "cell_type": "code",
   "execution_count": 308,
   "metadata": {},
   "outputs": [
    {
     "data": {
      "text/html": [
       "<div>\n",
       "<style scoped>\n",
       "    .dataframe tbody tr th:only-of-type {\n",
       "        vertical-align: middle;\n",
       "    }\n",
       "\n",
       "    .dataframe tbody tr th {\n",
       "        vertical-align: top;\n",
       "    }\n",
       "\n",
       "    .dataframe thead th {\n",
       "        text-align: right;\n",
       "    }\n",
       "</style>\n",
       "<table border=\"1\" class=\"dataframe\">\n",
       "  <thead>\n",
       "    <tr style=\"text-align: right;\">\n",
       "      <th></th>\n",
       "      <th>time_left</th>\n",
       "      <th>ct_health</th>\n",
       "      <th>ct_players_alive</th>\n",
       "    </tr>\n",
       "  </thead>\n",
       "  <tbody>\n",
       "    <tr>\n",
       "      <th>0</th>\n",
       "      <td>1.527752</td>\n",
       "      <td>0.687405</td>\n",
       "      <td>0.621909</td>\n",
       "    </tr>\n",
       "    <tr>\n",
       "      <th>1</th>\n",
       "      <td>1.169719</td>\n",
       "      <td>0.687405</td>\n",
       "      <td>0.621909</td>\n",
       "    </tr>\n",
       "    <tr>\n",
       "      <th>2</th>\n",
       "      <td>0.037300</td>\n",
       "      <td>-0.125883</td>\n",
       "      <td>-0.195226</td>\n",
       "    </tr>\n",
       "    <tr>\n",
       "      <th>3</th>\n",
       "      <td>-0.340173</td>\n",
       "      <td>-0.125883</td>\n",
       "      <td>-0.195226</td>\n",
       "    </tr>\n",
       "    <tr>\n",
       "      <th>4</th>\n",
       "      <td>1.527186</td>\n",
       "      <td>0.687405</td>\n",
       "      <td>0.621909</td>\n",
       "    </tr>\n",
       "    <tr>\n",
       "      <th>...</th>\n",
       "      <td>...</td>\n",
       "      <td>...</td>\n",
       "      <td>...</td>\n",
       "    </tr>\n",
       "    <tr>\n",
       "      <th>112466</th>\n",
       "      <td>-1.484294</td>\n",
       "      <td>-1.551003</td>\n",
       "      <td>-1.829495</td>\n",
       "    </tr>\n",
       "    <tr>\n",
       "      <th>112467</th>\n",
       "      <td>1.526431</td>\n",
       "      <td>0.687405</td>\n",
       "      <td>0.621909</td>\n",
       "    </tr>\n",
       "    <tr>\n",
       "      <th>112468</th>\n",
       "      <td>0.394012</td>\n",
       "      <td>0.687405</td>\n",
       "      <td>0.621909</td>\n",
       "    </tr>\n",
       "    <tr>\n",
       "      <th>112469</th>\n",
       "      <td>0.016539</td>\n",
       "      <td>0.687405</td>\n",
       "      <td>0.621909</td>\n",
       "    </tr>\n",
       "    <tr>\n",
       "      <th>112470</th>\n",
       "      <td>-0.360934</td>\n",
       "      <td>-0.245265</td>\n",
       "      <td>-0.195226</td>\n",
       "    </tr>\n",
       "  </tbody>\n",
       "</table>\n",
       "<p>112471 rows × 3 columns</p>\n",
       "</div>"
      ],
      "text/plain": [
       "        time_left  ct_health  ct_players_alive\n",
       "0        1.527752   0.687405          0.621909\n",
       "1        1.169719   0.687405          0.621909\n",
       "2        0.037300  -0.125883         -0.195226\n",
       "3       -0.340173  -0.125883         -0.195226\n",
       "4        1.527186   0.687405          0.621909\n",
       "...           ...        ...               ...\n",
       "112466  -1.484294  -1.551003         -1.829495\n",
       "112467   1.526431   0.687405          0.621909\n",
       "112468   0.394012   0.687405          0.621909\n",
       "112469   0.016539   0.687405          0.621909\n",
       "112470  -0.360934  -0.245265         -0.195226\n",
       "\n",
       "[112471 rows x 3 columns]"
      ]
     },
     "execution_count": 308,
     "metadata": {},
     "output_type": "execute_result"
    }
   ],
   "source": [
    "X_skb = pd.DataFrame(X_skb, columns=skb.get_feature_names_out())\n",
    "X_skb"
   ]
  },
  {
   "cell_type": "code",
   "execution_count": 309,
   "metadata": {},
   "outputs": [
    {
     "data": {
      "text/html": [
       "<div>\n",
       "<style scoped>\n",
       "    .dataframe tbody tr th:only-of-type {\n",
       "        vertical-align: middle;\n",
       "    }\n",
       "\n",
       "    .dataframe tbody tr th {\n",
       "        vertical-align: top;\n",
       "    }\n",
       "\n",
       "    .dataframe thead th {\n",
       "        text-align: right;\n",
       "    }\n",
       "</style>\n",
       "<table border=\"1\" class=\"dataframe\">\n",
       "  <thead>\n",
       "    <tr style=\"text-align: right;\">\n",
       "      <th></th>\n",
       "      <th>time_left</th>\n",
       "      <th>ct_armor</th>\n",
       "    </tr>\n",
       "  </thead>\n",
       "  <tbody>\n",
       "    <tr>\n",
       "      <th>0</th>\n",
       "      <td>1.527752</td>\n",
       "      <td>-1.890349</td>\n",
       "    </tr>\n",
       "    <tr>\n",
       "      <th>1</th>\n",
       "      <td>1.169719</td>\n",
       "      <td>0.474832</td>\n",
       "    </tr>\n",
       "    <tr>\n",
       "      <th>2</th>\n",
       "      <td>0.037300</td>\n",
       "      <td>-0.151941</td>\n",
       "    </tr>\n",
       "    <tr>\n",
       "      <th>3</th>\n",
       "      <td>-0.340173</td>\n",
       "      <td>-0.151941</td>\n",
       "    </tr>\n",
       "    <tr>\n",
       "      <th>4</th>\n",
       "      <td>1.527186</td>\n",
       "      <td>-0.755062</td>\n",
       "    </tr>\n",
       "    <tr>\n",
       "      <th>...</th>\n",
       "      <td>...</td>\n",
       "      <td>...</td>\n",
       "    </tr>\n",
       "    <tr>\n",
       "      <th>112466</th>\n",
       "      <td>-1.484294</td>\n",
       "      <td>-0.737323</td>\n",
       "    </tr>\n",
       "    <tr>\n",
       "      <th>112467</th>\n",
       "      <td>1.526431</td>\n",
       "      <td>-1.328619</td>\n",
       "    </tr>\n",
       "    <tr>\n",
       "      <th>112468</th>\n",
       "      <td>0.394012</td>\n",
       "      <td>1.036562</td>\n",
       "    </tr>\n",
       "    <tr>\n",
       "      <th>112469</th>\n",
       "      <td>0.016539</td>\n",
       "      <td>1.036562</td>\n",
       "    </tr>\n",
       "    <tr>\n",
       "      <th>112470</th>\n",
       "      <td>-0.360934</td>\n",
       "      <td>0.445267</td>\n",
       "    </tr>\n",
       "  </tbody>\n",
       "</table>\n",
       "<p>112471 rows × 2 columns</p>\n",
       "</div>"
      ],
      "text/plain": [
       "        time_left  ct_armor\n",
       "0        1.527752 -1.890349\n",
       "1        1.169719  0.474832\n",
       "2        0.037300 -0.151941\n",
       "3       -0.340173 -0.151941\n",
       "4        1.527186 -0.755062\n",
       "...           ...       ...\n",
       "112466  -1.484294 -0.737323\n",
       "112467   1.526431 -1.328619\n",
       "112468   0.394012  1.036562\n",
       "112469   0.016539  1.036562\n",
       "112470  -0.360934  0.445267\n",
       "\n",
       "[112471 rows x 2 columns]"
      ]
     },
     "execution_count": 309,
     "metadata": {},
     "output_type": "execute_result"
    }
   ],
   "source": [
    "tree = DecisionTreeClassifier().fit(X_scaled, y)\n",
    "rfe = RFE(estimator=tree, n_features_to_select=2, step=1).fit(X_scaled, y)\n",
    "X_rfe = pd.DataFrame(rfe.transform(X_scaled), columns=rfe.get_feature_names_out())\n",
    "X_rfe"
   ]
  },
  {
   "cell_type": "code",
   "execution_count": 310,
   "metadata": {},
   "outputs": [
    {
     "name": "stdout",
     "output_type": "stream",
     "text": [
      "              precision    recall  f1-score   support\n",
      "\n",
      "           0       0.90      0.91      0.90      2019\n",
      "           1       0.99      0.99      0.99     14852\n",
      "\n",
      "    accuracy                           0.98     16871\n",
      "   macro avg       0.94      0.95      0.94     16871\n",
      "weighted avg       0.98      0.98      0.98     16871\n",
      "\n"
     ]
    }
   ],
   "source": [
    "testDataClassification(X_rfe, y)"
   ]
  },
  {
   "cell_type": "code",
   "execution_count": 311,
   "metadata": {},
   "outputs": [
    {
     "data": {
      "image/png": "[encoded data removed]",
      "text/plain": [
       "<Figure size 640x480 with 1 Axes>"
      ]
     },
     "metadata": {},
     "output_type": "display_data"
    }
   ],
   "source": [
    "plt.barh(width=tree.feature_importances_, y=X.columns);"
   ]
  },
  {
   "cell_type": "code",
   "execution_count": 312,
   "metadata": {},
   "outputs": [
    {
     "data": {
      "text/plain": [
       "(112471, 2)"
      ]
     },
     "execution_count": 312,
     "metadata": {},
     "output_type": "execute_result"
    }
   ],
   "source": [
    "pca = PCA(n_components=2)\n",
    "X_pca = pca.fit_transform(X_scaled, y)\n",
    "X_pca.shape"
   ]
  },
  {
   "cell_type": "code",
   "execution_count": 313,
   "metadata": {},
   "outputs": [
    {
     "data": {
      "image/png": "[encoded data removed]",
      "text/plain": [
       "<Figure size 640x480 with 1 Axes>"
      ]
     },
     "metadata": {},
     "output_type": "display_data"
    }
   ],
   "source": [
    "plt.scatter(X_pca[:,0], X_pca[:,1], c=y);"
   ]
  },
  {
   "cell_type": "code",
   "execution_count": 314,
   "metadata": {},
   "outputs": [
    {
     "data": {
      "text/plain": [
       "0.32420892518031924"
      ]
     },
     "execution_count": 314,
     "metadata": {},
     "output_type": "execute_result"
    }
   ],
   "source": [
    "sum(pca.explained_variance_ratio_)"
   ]
  },
  {
   "cell_type": "code",
   "execution_count": 315,
   "metadata": {},
   "outputs": [
    {
     "name": "stdout",
     "output_type": "stream",
     "text": [
      "              precision    recall  f1-score   support\n",
      "\n",
      "           0       0.51      0.49      0.50      2019\n",
      "           1       0.93      0.94      0.93     14852\n",
      "\n",
      "    accuracy                           0.88     16871\n",
      "   macro avg       0.72      0.71      0.72     16871\n",
      "weighted avg       0.88      0.88      0.88     16871\n",
      "\n"
     ]
    }
   ],
   "source": [
    "testDataClassification(X_pca, y)"
   ]
  },
  {
   "cell_type": "code",
   "execution_count": 316,
   "metadata": {},
   "outputs": [],
   "source": [
    "tsne = TSNE(n_components=2)\n",
    "X_tsne = tsne.fit_transform(X_scaled)"
   ]
  },
  {
   "cell_type": "code",
   "execution_count": 317,
   "metadata": {},
   "outputs": [
    {
     "data": {
      "image/png": "[encoded data removed]",
      "text/plain": [
       "<Figure size 640x480 with 1 Axes>"
      ]
     },
     "metadata": {},
     "output_type": "display_data"
    }
   ],
   "source": [
    "plt.scatter(X_tsne[:,0], X_tsne[:,1], c=y);"
   ]
  },
  {
   "cell_type": "code",
   "execution_count": 318,
   "metadata": {},
   "outputs": [
    {
     "name": "stdout",
     "output_type": "stream",
     "text": [
      "              precision    recall  f1-score   support\n",
      "\n",
      "           0       0.60      0.61      0.60      2019\n",
      "           1       0.95      0.95      0.95     14852\n",
      "\n",
      "    accuracy                           0.91     16871\n",
      "   macro avg       0.77      0.78      0.78     16871\n",
      "weighted avg       0.91      0.91      0.91     16871\n",
      "\n"
     ]
    }
   ],
   "source": [
    "testDataClassification(X_tsne, y)"
   ]
  },
  {
   "cell_type": "code",
   "execution_count": 1,
   "metadata": {},
   "outputs": [
    {
     "ename": "NameError",
     "evalue": "name 'Isomap' is not defined",
     "output_type": "error",
     "traceback": [
      "\u001b[0;31m---------------------------------------------------------------------------\u001b[0m",
      "\u001b[0;31mNameError\u001b[0m                                 Traceback (most recent call last)",
      "Cell \u001b[0;32mIn[1], line 1\u001b[0m\n\u001b[0;32m----> 1\u001b[0m isomap \u001b[39m=\u001b[39m Isomap(n_components\u001b[39m=\u001b[39m\u001b[39m6\u001b[39m)\n\u001b[1;32m      2\u001b[0m X_isomap \u001b[39m=\u001b[39m isomap\u001b[39m.\u001b[39mfit_transform(X_scaled)\n",
      "\u001b[0;31mNameError\u001b[0m: name 'Isomap' is not defined"
     ]
    }
   ],
   "source": [
    "isomap = Isomap(n_components=6)\n",
    "X_isomap = isomap.fit_transform(X_scaled)"
   ]
  },
  {
   "cell_type": "code",
   "execution_count": null,
   "metadata": {},
   "outputs": [],
   "source": [
    "plt.scatter(X_isomap[:,0], X_isomap[:,1], c=y)"
   ]
  },
  {
   "cell_type": "code",
   "execution_count": 5,
   "metadata": {},
   "outputs": [],
   "source": [
    "X = data2.drop(['trip_duration'], axis=1)\n",
    "y = data2['trip_duration']"
   ]
  },
  {
   "cell_type": "code",
   "execution_count": 6,
   "metadata": {},
   "outputs": [
    {
     "data": {
      "text/html": [
       "<div>\n",
       "<style scoped>\n",
       "    .dataframe tbody tr th:only-of-type {\n",
       "        vertical-align: middle;\n",
       "    }\n",
       "\n",
       "    .dataframe tbody tr th {\n",
       "        vertical-align: top;\n",
       "    }\n",
       "\n",
       "    .dataframe thead th {\n",
       "        text-align: right;\n",
       "    }\n",
       "</style>\n",
       "<table border=\"1\" class=\"dataframe\">\n",
       "  <thead>\n",
       "    <tr style=\"text-align: right;\">\n",
       "      <th></th>\n",
       "      <th>pickup_longitude</th>\n",
       "      <th>pickup_latitude</th>\n",
       "      <th>dropoff_longitude</th>\n",
       "      <th>dropoff_latitude</th>\n",
       "    </tr>\n",
       "  </thead>\n",
       "  <tbody>\n",
       "    <tr>\n",
       "      <th>count</th>\n",
       "      <td>199494.000000</td>\n",
       "      <td>199494.000000</td>\n",
       "      <td>199494.000000</td>\n",
       "      <td>199494.000000</td>\n",
       "    </tr>\n",
       "    <tr>\n",
       "      <th>mean</th>\n",
       "      <td>-73.973343</td>\n",
       "      <td>40.750954</td>\n",
       "      <td>-73.973407</td>\n",
       "      <td>40.751784</td>\n",
       "    </tr>\n",
       "    <tr>\n",
       "      <th>std</th>\n",
       "      <td>0.039282</td>\n",
       "      <td>0.028488</td>\n",
       "      <td>0.037392</td>\n",
       "      <td>0.032760</td>\n",
       "    </tr>\n",
       "    <tr>\n",
       "      <th>min</th>\n",
       "      <td>-74.398643</td>\n",
       "      <td>40.298828</td>\n",
       "      <td>-74.647537</td>\n",
       "      <td>40.293289</td>\n",
       "    </tr>\n",
       "    <tr>\n",
       "      <th>25%</th>\n",
       "      <td>-73.991837</td>\n",
       "      <td>40.737411</td>\n",
       "      <td>-73.991333</td>\n",
       "      <td>40.735817</td>\n",
       "    </tr>\n",
       "    <tr>\n",
       "      <th>50%</th>\n",
       "      <td>-73.981773</td>\n",
       "      <td>40.754093</td>\n",
       "      <td>-73.979805</td>\n",
       "      <td>40.754436</td>\n",
       "    </tr>\n",
       "    <tr>\n",
       "      <th>75%</th>\n",
       "      <td>-73.967377</td>\n",
       "      <td>40.768360</td>\n",
       "      <td>-73.963181</td>\n",
       "      <td>40.769764</td>\n",
       "    </tr>\n",
       "    <tr>\n",
       "      <th>max</th>\n",
       "      <td>-70.511902</td>\n",
       "      <td>42.458942</td>\n",
       "      <td>-70.511902</td>\n",
       "      <td>42.458942</td>\n",
       "    </tr>\n",
       "  </tbody>\n",
       "</table>\n",
       "</div>"
      ],
      "text/plain": [
       "       pickup_longitude  pickup_latitude  dropoff_longitude  dropoff_latitude\n",
       "count     199494.000000    199494.000000      199494.000000     199494.000000\n",
       "mean         -73.973343        40.750954         -73.973407         40.751784\n",
       "std            0.039282         0.028488           0.037392          0.032760\n",
       "min          -74.398643        40.298828         -74.647537         40.293289\n",
       "25%          -73.991837        40.737411         -73.991333         40.735817\n",
       "50%          -73.981773        40.754093         -73.979805         40.754436\n",
       "75%          -73.967377        40.768360         -73.963181         40.769764\n",
       "max          -70.511902        42.458942         -70.511902         42.458942"
      ]
     },
     "execution_count": 6,
     "metadata": {},
     "output_type": "execute_result"
    }
   ],
   "source": [
    "X.describe()"
   ]
  },
  {
   "cell_type": "code",
   "execution_count": 8,
   "metadata": {},
   "outputs": [],
   "source": [
    "scaler = StandardScaler()\n",
    "X_scaled = scaler.fit_transform(X)\n",
    "X_scaled = pd.DataFrame(X_scaled, columns=X.columns)"
   ]
  },
  {
   "cell_type": "code",
   "execution_count": 11,
   "metadata": {},
   "outputs": [
    {
     "data": {
      "text/html": [
       "<div>\n",
       "<style scoped>\n",
       "    .dataframe tbody tr th:only-of-type {\n",
       "        vertical-align: middle;\n",
       "    }\n",
       "\n",
       "    .dataframe tbody tr th {\n",
       "        vertical-align: top;\n",
       "    }\n",
       "\n",
       "    .dataframe thead th {\n",
       "        text-align: right;\n",
       "    }\n",
       "</style>\n",
       "<table border=\"1\" class=\"dataframe\">\n",
       "  <thead>\n",
       "    <tr style=\"text-align: right;\">\n",
       "      <th></th>\n",
       "      <th>pickup_longitude</th>\n",
       "      <th>pickup_latitude</th>\n",
       "      <th>dropoff_longitude</th>\n",
       "      <th>dropoff_latitude</th>\n",
       "    </tr>\n",
       "  </thead>\n",
       "  <tbody>\n",
       "    <tr>\n",
       "      <th>count</th>\n",
       "      <td>1.994940e+05</td>\n",
       "      <td>1.994940e+05</td>\n",
       "      <td>1.994940e+05</td>\n",
       "      <td>1.994940e+05</td>\n",
       "    </tr>\n",
       "    <tr>\n",
       "      <th>mean</th>\n",
       "      <td>6.867476e-14</td>\n",
       "      <td>8.908533e-14</td>\n",
       "      <td>6.419977e-14</td>\n",
       "      <td>-2.166259e-14</td>\n",
       "    </tr>\n",
       "    <tr>\n",
       "      <th>std</th>\n",
       "      <td>1.000003e+00</td>\n",
       "      <td>1.000003e+00</td>\n",
       "      <td>1.000003e+00</td>\n",
       "      <td>1.000003e+00</td>\n",
       "    </tr>\n",
       "    <tr>\n",
       "      <th>min</th>\n",
       "      <td>-1.082692e+01</td>\n",
       "      <td>-1.587072e+01</td>\n",
       "      <td>-1.802894e+01</td>\n",
       "      <td>-1.399567e+01</td>\n",
       "    </tr>\n",
       "    <tr>\n",
       "      <th>25%</th>\n",
       "      <td>-4.708015e-01</td>\n",
       "      <td>-4.753691e-01</td>\n",
       "      <td>-4.794174e-01</td>\n",
       "      <td>-4.873898e-01</td>\n",
       "    </tr>\n",
       "    <tr>\n",
       "      <th>50%</th>\n",
       "      <td>-2.146226e-01</td>\n",
       "      <td>1.101984e-01</td>\n",
       "      <td>-1.711123e-01</td>\n",
       "      <td>8.097656e-02</td>\n",
       "    </tr>\n",
       "    <tr>\n",
       "      <th>75%</th>\n",
       "      <td>1.518744e-01</td>\n",
       "      <td>6.110039e-01</td>\n",
       "      <td>2.734919e-01</td>\n",
       "      <td>5.488511e-01</td>\n",
       "    </tr>\n",
       "    <tr>\n",
       "      <th>max</th>\n",
       "      <td>8.811815e+01</td>\n",
       "      <td>5.995458e+01</td>\n",
       "      <td>9.257447e+01</td>\n",
       "      <td>5.211147e+01</td>\n",
       "    </tr>\n",
       "  </tbody>\n",
       "</table>\n",
       "</div>"
      ],
      "text/plain": [
       "       pickup_longitude  pickup_latitude  dropoff_longitude  dropoff_latitude\n",
       "count      1.994940e+05     1.994940e+05       1.994940e+05      1.994940e+05\n",
       "mean       6.867476e-14     8.908533e-14       6.419977e-14     -2.166259e-14\n",
       "std        1.000003e+00     1.000003e+00       1.000003e+00      1.000003e+00\n",
       "min       -1.082692e+01    -1.587072e+01      -1.802894e+01     -1.399567e+01\n",
       "25%       -4.708015e-01    -4.753691e-01      -4.794174e-01     -4.873898e-01\n",
       "50%       -2.146226e-01     1.101984e-01      -1.711123e-01      8.097656e-02\n",
       "75%        1.518744e-01     6.110039e-01       2.734919e-01      5.488511e-01\n",
       "max        8.811815e+01     5.995458e+01       9.257447e+01      5.211147e+01"
      ]
     },
     "execution_count": 11,
     "metadata": {},
     "output_type": "execute_result"
    }
   ],
   "source": [
    "X_scaled.describe()"
   ]
  },
  {
   "cell_type": "code",
   "execution_count": 19,
   "metadata": {},
   "outputs": [
    {
     "data": {
      "text/plain": [
       "(199494, 1)"
      ]
     },
     "execution_count": 19,
     "metadata": {},
     "output_type": "execute_result"
    }
   ],
   "source": [
    "vt = VarianceThreshold(1)\n",
    "X_vt = vt.fit_transform(X_scaled)\n",
    "X_vt.shape"
   ]
  },
  {
   "cell_type": "code",
   "execution_count": 20,
   "metadata": {},
   "outputs": [
    {
     "name": "stdout",
     "output_type": "stream",
     "text": [
      "10780974.848518915\n"
     ]
    }
   ],
   "source": [
    "testDataRegression(X_vt,y)"
   ]
  },
  {
   "cell_type": "code",
   "execution_count": 22,
   "metadata": {},
   "outputs": [
    {
     "name": "stdout",
     "output_type": "stream",
     "text": [
      "10998922.757016374\n"
     ]
    }
   ],
   "source": [
    "skb = SelectKBest(k=3)\n",
    "X_skb = skb.fit_transform(X_scaled, y)\n",
    "testDataRegression(X_skb, y)"
   ]
  },
  {
   "cell_type": "code",
   "execution_count": 23,
   "metadata": {},
   "outputs": [
    {
     "data": {
      "text/html": [
       "<div>\n",
       "<style scoped>\n",
       "    .dataframe tbody tr th:only-of-type {\n",
       "        vertical-align: middle;\n",
       "    }\n",
       "\n",
       "    .dataframe tbody tr th {\n",
       "        vertical-align: top;\n",
       "    }\n",
       "\n",
       "    .dataframe thead th {\n",
       "        text-align: right;\n",
       "    }\n",
       "</style>\n",
       "<table border=\"1\" class=\"dataframe\">\n",
       "  <thead>\n",
       "    <tr style=\"text-align: right;\">\n",
       "      <th></th>\n",
       "      <th>dropoff_longitude</th>\n",
       "      <th>dropoff_latitude</th>\n",
       "    </tr>\n",
       "  </thead>\n",
       "  <tbody>\n",
       "    <tr>\n",
       "      <th>0</th>\n",
       "      <td>0.254924</td>\n",
       "      <td>0.591586</td>\n",
       "    </tr>\n",
       "    <tr>\n",
       "      <th>1</th>\n",
       "      <td>-0.570828</td>\n",
       "      <td>-1.735443</td>\n",
       "    </tr>\n",
       "    <tr>\n",
       "      <th>2</th>\n",
       "      <td>0.678716</td>\n",
       "      <td>0.706168</td>\n",
       "    </tr>\n",
       "    <tr>\n",
       "      <th>3</th>\n",
       "      <td>0.444682</td>\n",
       "      <td>0.880486</td>\n",
       "    </tr>\n",
       "    <tr>\n",
       "      <th>4</th>\n",
       "      <td>-0.395149</td>\n",
       "      <td>-0.340437</td>\n",
       "    </tr>\n",
       "    <tr>\n",
       "      <th>...</th>\n",
       "      <td>...</td>\n",
       "      <td>...</td>\n",
       "    </tr>\n",
       "    <tr>\n",
       "      <th>199489</th>\n",
       "      <td>0.240437</td>\n",
       "      <td>0.386644</td>\n",
       "    </tr>\n",
       "    <tr>\n",
       "      <th>199490</th>\n",
       "      <td>-0.673868</td>\n",
       "      <td>-1.792734</td>\n",
       "    </tr>\n",
       "    <tr>\n",
       "      <th>199491</th>\n",
       "      <td>0.052312</td>\n",
       "      <td>0.275206</td>\n",
       "    </tr>\n",
       "    <tr>\n",
       "      <th>199492</th>\n",
       "      <td>-0.405555</td>\n",
       "      <td>-0.928366</td>\n",
       "    </tr>\n",
       "    <tr>\n",
       "      <th>199493</th>\n",
       "      <td>0.790531</td>\n",
       "      <td>-1.702490</td>\n",
       "    </tr>\n",
       "  </tbody>\n",
       "</table>\n",
       "<p>199494 rows × 2 columns</p>\n",
       "</div>"
      ],
      "text/plain": [
       "        dropoff_longitude  dropoff_latitude\n",
       "0                0.254924          0.591586\n",
       "1               -0.570828         -1.735443\n",
       "2                0.678716          0.706168\n",
       "3                0.444682          0.880486\n",
       "4               -0.395149         -0.340437\n",
       "...                   ...               ...\n",
       "199489           0.240437          0.386644\n",
       "199490          -0.673868         -1.792734\n",
       "199491           0.052312          0.275206\n",
       "199492          -0.405555         -0.928366\n",
       "199493           0.790531         -1.702490\n",
       "\n",
       "[199494 rows x 2 columns]"
      ]
     },
     "execution_count": 23,
     "metadata": {},
     "output_type": "execute_result"
    }
   ],
   "source": [
    "from sklearn.tree import DecisionTreeRegressor\n",
    "tree = DecisionTreeRegressor().fit(X_scaled, y)\n",
    "rfe = RFE(estimator=tree, n_features_to_select=2, step=1).fit(X_scaled, y)\n",
    "X_rfe = pd.DataFrame(rfe.transform(X_scaled), columns=rfe.get_feature_names_out())\n",
    "X_rfe"
   ]
  },
  {
   "cell_type": "code",
   "execution_count": 24,
   "metadata": {},
   "outputs": [
    {
     "name": "stdout",
     "output_type": "stream",
     "text": [
      "12899326.2858892\n"
     ]
    }
   ],
   "source": [
    "testDataRegression(X_rfe,y)"
   ]
  },
  {
   "cell_type": "code",
   "execution_count": 25,
   "metadata": {},
   "outputs": [
    {
     "data": {
      "image/png": "[encoded data removed]",
      "text/plain": [
       "<Figure size 640x480 with 1 Axes>"
      ]
     },
     "metadata": {},
     "output_type": "display_data"
    }
   ],
   "source": [
    "plt.barh(width=tree.feature_importances_, y=X.columns);"
   ]
  },
  {
   "cell_type": "code",
   "execution_count": 30,
   "metadata": {},
   "outputs": [
    {
     "data": {
      "text/plain": [
       "(199494, 3)"
      ]
     },
     "execution_count": 30,
     "metadata": {},
     "output_type": "execute_result"
    }
   ],
   "source": [
    "pca = PCA(n_components=3)\n",
    "X_pca = pca.fit_transform(X_scaled, y)\n",
    "X_pca.shape"
   ]
  },
  {
   "cell_type": "code",
   "execution_count": 31,
   "metadata": {},
   "outputs": [
    {
     "name": "stdout",
     "output_type": "stream",
     "text": [
      "31206854.54263048\n"
     ]
    }
   ],
   "source": [
    "testDataRegression(X_pca,y)"
   ]
  },
  {
   "cell_type": "code",
   "execution_count": 32,
   "metadata": {},
   "outputs": [
    {
     "data": {
      "text/plain": [
       "0.8693387888315525"
      ]
     },
     "execution_count": 32,
     "metadata": {},
     "output_type": "execute_result"
    }
   ],
   "source": [
    "sum(pca.explained_variance_ratio_)"
   ]
  },
  {
   "cell_type": "code",
   "execution_count": 33,
   "metadata": {},
   "outputs": [
    {
     "data": {
      "image/png": "[encoded data removed]",
      "text/plain": [
       "<Figure size 640x480 with 1 Axes>"
      ]
     },
     "metadata": {},
     "output_type": "display_data"
    }
   ],
   "source": [
    "fig = plt.figure()\n",
    "ax = fig.add_subplot(projection='3d')\n",
    "ax.scatter(X_pca[:,0], X_pca[:,1], X_pca[:,2], c=y)"
   ]
  },
  {
   "cell_type": "code",
   "execution_count": 34,
   "metadata": {},
   "outputs": [],
   "source": [
    "tsne = TSNE(n_components=2)\n",
    "X_tsne = tsne.fit_transform(X_scaled)"
   ]
  },
  {
   "cell_type": "code",
   "execution_count": 35,
   "metadata": {},
   "outputs": [
    {
     "data": {
      "text/plain": [
       "<matplotlib.collections.PathCollection at 0x282ec6340>"
      ]
     },
     "execution_count": 35,
     "metadata": {},
     "output_type": "execute_result"
    },
    {
     "data": {
      "image/png": "[encoded data removed]",
      "text/plain": [
       "<Figure size 640x480 with 1 Axes>"
      ]
     },
     "metadata": {},
     "output_type": "display_data"
    }
   ],
   "source": [
    "plt.scatter(X_tsne[:,0], X_tsne[:,1], c=y)"
   ]
  },
  {
   "cell_type": "code",
   "execution_count": 36,
   "metadata": {},
   "outputs": [
    {
     "name": "stdout",
     "output_type": "stream",
     "text": [
      "12465999.735204715\n"
     ]
    }
   ],
   "source": [
    "testDataRegression(X_tsne,y)"
   ]
  },
  {
   "cell_type": "code",
   "execution_count": 37,
   "metadata": {},
   "outputs": [
    {
     "ename": "",
     "evalue": "",
     "output_type": "error",
     "traceback": [
      "\u001b[1;31mCanceled future for execute_request message before replies were done"
     ]
    },
    {
     "ename": "",
     "evalue": "",
     "output_type": "error",
     "traceback": [
      "\u001b[1;31mПри выполнении кода в текущей ячейке или предыдущей ячейке ядро аварийно завершило работу. Проверьте код в ячейках, чтобы определить возможную причину сбоя. Щелкните <a href=\"https://aka.ms/vscodeJupyterKernelCrash\">здесь</a> для получения дополнительных сведений. Подробнее см. в <a href='command:jupyter.viewOutput'>журнале Jupyter</a>."
     ]
    }
   ],
   "source": [
    "isomap = Isomap(n_components=3)\n",
    "X_isomap = isomap.fit_transform(X_scaled)"
   ]
  },
  {
   "cell_type": "code",
   "execution_count": null,
   "metadata": {},
   "outputs": [],
   "source": [
    "plt.scatter(X_isomap[:,0], X_isomap[:,1], c=y);"
   ]
  },
  {
   "cell_type": "code",
   "execution_count": null,
   "metadata": {},
   "outputs": [],
   "source": [
    "testDataRegression(X_isomap,y)"
   ]
  }
 ],
 "metadata": {
  "kernelspec": {
   "display_name": ".venv",
   "language": "python",
   "name": "python3"
  },
  "language_info": {
   "codemirror_mode": {
    "name": "ipython",
    "version": 3
   },
   "file_extension": ".py",
   "mimetype": "text/x-python",
   "name": "python",
   "nbconvert_exporter": "python",
   "pygments_lexer": "ipython3",
   "version": "3.9.6"
  },
  "orig_nbformat": 4
 },
 "nbformat": 4,
 "nbformat_minor": 2
}
