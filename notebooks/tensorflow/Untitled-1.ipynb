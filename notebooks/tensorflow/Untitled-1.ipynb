{
 "cells": [
  {
   "cell_type": "code",
   "execution_count": 3,
   "metadata": {},
   "outputs": [],
   "source": [
    "from neuro_network import Network\n",
    "from fully_connected_layer import FCLayer\n",
    "from loss_functions import *\n",
    "from relu import Relu\n",
    "from sigmoid import Sigmoid\n",
    "from tangh import TangH"
   ]
  },
  {
   "cell_type": "code",
   "execution_count": 28,
   "metadata": {},
   "outputs": [
    {
     "ename": "TypeError",
     "evalue": "compile() got an unexpected keyword argument 'loss_function'",
     "output_type": "error",
     "traceback": [
      "\u001b[0;31m---------------------------------------------------------------------------\u001b[0m",
      "\u001b[0;31mTypeError\u001b[0m                                 Traceback (most recent call last)",
      "Cell \u001b[0;32mIn[28], line 7\u001b[0m\n\u001b[1;32m      5\u001b[0m net\u001b[39m.\u001b[39madd(FCLayer(\u001b[39m2\u001b[39m, \u001b[39m3\u001b[39m, TangH()))\n\u001b[1;32m      6\u001b[0m net\u001b[39m.\u001b[39madd(FCLayer(\u001b[39m3\u001b[39m, \u001b[39m1\u001b[39m, TangH()))\n\u001b[0;32m----> 7\u001b[0m net\u001b[39m.\u001b[39;49mcompile(loss_function \u001b[39m=\u001b[39;49m mse, loss_derivative\u001b[39m=\u001b[39;49m mse_derivative, learning_rate\u001b[39m=\u001b[39;49m\u001b[39m0.00001\u001b[39;49m)\n\u001b[1;32m      8\u001b[0m net\u001b[39m.\u001b[39mfit(x_train, y_train, epochs\u001b[39m=\u001b[39m\u001b[39m1000\u001b[39m, learning_rate\u001b[39m=\u001b[39m\u001b[39m0.00001\u001b[39m)\n",
      "\u001b[0;31mTypeError\u001b[0m: compile() got an unexpected keyword argument 'loss_function'"
     ]
    }
   ],
   "source": [
    "x_train = np.array([[[0,0]], [[0,1]], [[1,0]], [[1,1]]])\n",
    "y_train = np.array([[[0]], [[1]], [[1]], [[0]]])\n",
    "\n",
    "net = Network()\n",
    "net.add(FCLayer(2, 3, TangH()))\n",
    "net.add(FCLayer(3, 1, TangH()))\n",
    "net.compile(loss_function = mse, loss_derivative= mse_derivative, learning_rate=0.00001)\n",
    "net.fit(x_train, y_train, epochs=1000, learning_rate=0.00001)"
   ]
  },
  {
   "cell_type": "code",
   "execution_count": null,
   "metadata": {},
   "outputs": [],
   "source": []
  }
 ],
 "metadata": {
  "kernelspec": {
   "display_name": "venv",
   "language": "python",
   "name": "python3"
  },
  "language_info": {
   "codemirror_mode": {
    "name": "ipython",
    "version": 3
   },
   "file_extension": ".py",
   "mimetype": "text/x-python",
   "name": "python",
   "nbconvert_exporter": "python",
   "pygments_lexer": "ipython3",
   "version": "3.9.6"
  },
  "orig_nbformat": 4
 },
 "nbformat": 4,
 "nbformat_minor": 2
}
