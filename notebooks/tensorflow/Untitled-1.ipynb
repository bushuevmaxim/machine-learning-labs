{
 "cells": [
  {
   "cell_type": "code",
   "execution_count": 10,
   "metadata": {},
   "outputs": [],
   "source": [
    "from neuro_network import Network\n",
    "from fully_connected_layer import FCLayer\n",
    "from loss_functions import *\n",
    "from relu import Relu\n",
    "from sigmoid import Sigmoid\n",
    "from tangh import TangH"
   ]
  },
  {
   "cell_type": "code",
   "execution_count": 11,
   "metadata": {},
   "outputs": [],
   "source": [
    "x_train = np.array([[[0,0]], [[0,1]], [[1,0]], [[1,1]]])\n",
    "y_train = np.array([[[0]], [[1]], [[1]], [[0]]])\n",
    "\n",
    "net = Network()\n",
    "net.add(FCLayer(2, 3, TangH.callFunction, TangH.callDerivative))\n",
    "net.add(FCLayer(3, 1, TangH.callFunction, TangH.callDerivative))\n",
    "net.compile(loss_function = mse, loss_derivative= mse_derivative, learning_rate=0.00001)\n",
    "net.fit(x_train, y_train, epochs=1000)"
   ]
  },
  {
   "cell_type": "code",
   "execution_count": 12,
   "metadata": {},
   "outputs": [
    {
     "name": "stdout",
     "output_type": "stream",
     "text": [
      "[array([[0.46507998]]), array([[0.43515323]]), array([[0.50742948]]), array([[0.47982471]])]\n"
     ]
    }
   ],
   "source": [
    "out = net.predict(x_train)\n",
    "print(out)"
   ]
  }
 ],
 "metadata": {
  "kernelspec": {
   "display_name": "venv",
   "language": "python",
   "name": "python3"
  },
  "language_info": {
   "codemirror_mode": {
    "name": "ipython",
    "version": 3
   },
   "file_extension": ".py",
   "mimetype": "text/x-python",
   "name": "python",
   "nbconvert_exporter": "python",
   "pygments_lexer": "ipython3",
   "version": "3.9.6"
  },
  "orig_nbformat": 4
 },
 "nbformat": 4,
 "nbformat_minor": 2
}
