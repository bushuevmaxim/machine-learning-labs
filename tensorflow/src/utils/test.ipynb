{
 "cells": [
  {
   "cell_type": "code",
   "execution_count": 54,
   "metadata": {},
   "outputs": [],
   "source": [
    "import numpy as np\n",
    "def corelation2d(in1: np.ndarray, in2 = np.ndarray, mode = \"valid\", stride = 1):\n",
    "    y = []\n",
    "    if(mode == \"full\"):\n",
    "        in1 = np.pad(in1, 1, 'constant', constant_values=0)\n",
    "    n = len(in1)\n",
    "    m = len(in2)\n",
    "    index1 = index3 =  0\n",
    "    index2 = index4 =  m\n",
    "    shape = n - m + 1\n",
    "    while(index2 <= n):\n",
    "        while(index4 <= n):\n",
    "            submatrix = in1[index1:index2, index3:index4]\n",
    "            y.append( np.sum(np.multiply(submatrix, in2)))\n",
    "            index3 +=stride\n",
    "            index4 +=stride\n",
    "        index1 += stride\n",
    "        index2 += stride\n",
    "        index3 = 0\n",
    "        index4  = m\n",
    "    \n",
    "    return np.array(y).reshape((shape, shape))\n",
    "        \n",
    "       \n",
    "\n",
    "def main():\n",
    "    in1 = np.array([[1,6,2],\n",
    "           [5,3,1],\n",
    "           [7,0,4]])\n",
    "    in2 = np.array([[1,2],\n",
    "           [-1,0]])\n",
    "    print(corelation2d(in1, in2))\n",
    "\n",
    "\n",
    "\n"
   ]
  },
  {
   "cell_type": "code",
   "execution_count": 55,
   "metadata": {},
   "outputs": [
    {
     "name": "stdout",
     "output_type": "stream",
     "text": [
      "[[8 7]\n",
      " [4 5]]\n"
     ]
    }
   ],
   "source": [
    "main()"
   ]
  }
 ],
 "metadata": {
  "kernelspec": {
   "display_name": "Python 3",
   "language": "python",
   "name": "python3"
  },
  "language_info": {
   "codemirror_mode": {
    "name": "ipython",
    "version": 3
   },
   "file_extension": ".py",
   "mimetype": "text/x-python",
   "name": "python",
   "nbconvert_exporter": "python",
   "pygments_lexer": "ipython3",
   "version": "3.10.6"
  },
  "orig_nbformat": 4
 },
 "nbformat": 4,
 "nbformat_minor": 2
}
