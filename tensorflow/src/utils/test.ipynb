{
 "cells": [
  {
   "cell_type": "code",
   "execution_count": 112,
   "metadata": {},
   "outputs": [],
   "source": [
    "from cross_corelation import *\n",
    "from scipy import signal\n",
    "def main():\n",
    "    in1 = np.array([[1, 2], [4, 5],])\n",
    "    kernel = np.array([[1, 0], [1, 0]])\n",
    "\n",
    "\n",
    "    \n",
    "    print(correlate2d(in1, kernel, \"full\"))\n",
    "\n",
    "    print(\"------\")\n",
    "    print(signal.correlate2d(in1, kernel, \"full\"))\n",
    "\n",
    "    print(correlate2d(in1, kernel, \"valid\"))\n",
    "\n",
    "    print(\"------\")\n",
    "    print(signal.correlate2d(in1, kernel, \"valid\"))\n",
    "\n",
    "    print(correlate2d(in1, kernel, \"same\"))\n",
    "\n",
    "    print(\"------\")\n",
    "    print(signal.correlate2d(in1, kernel, \"same\"))\n",
    "\n",
    "\n",
    "# def correlate2d(signal, kernel):\n",
    "#     signal_height, signal_width = signal.shape\n",
    "#     kernel_height, kernel_width = kernel.shape\n",
    "\n",
    "#     # Calculate padding sizes\n",
    "#     pad_height = kernel_height - 1\n",
    "#     pad_width = kernel_width - 1\n",
    "\n",
    "#     # Pad the signal\n",
    "#     padded_signal = np.pad(signal, ((pad_height, pad_height), (pad_width, pad_width)), mode='constant')\n",
    "\n",
    "#     # Initialize the output array\n",
    "#     output_height = signal_height + 2 * pad_height\n",
    "#     output_width = signal_width + 2 * pad_width\n",
    "#     output = np.zeros((output_height, output_width))\n",
    "\n",
    "#     # Perform cross-correlation\n",
    "#     for i in range(output_height):\n",
    "#         for j in range(output_width):\n",
    "#             output[i, j] = np.sum(padded_signal[i:i+kernel_height, j:j+kernel_width] * kernel)\n",
    "\n",
    "#     return output\n",
    "\n",
    "# Example usage"
   ]
  },
  {
   "cell_type": "code",
   "execution_count": 113,
   "metadata": {},
   "outputs": [],
   "source": [
    "def correlate2d(in1: np.ndarray, in2: np.ndarray, mode=\"valid\", stride=1):\n",
    "    n = len(in1)\n",
    "    m = len(in2)\n",
    "    result = []\n",
    "    result_shape = 0\n",
    "    if (mode == \"full\"):\n",
    "        result_shape = len(in1) + 1\n",
    "        in1 = np.pad(in1, (m - 1, m - 1), mode='constant')\n",
    "        \n",
    "    if(mode == \"valid\"):\n",
    "        result_shape = n - m + 1\n",
    "        # for k in range(result_shape):\n",
    "        #     slider = in1[k:k+m]\n",
    "        #     result.append(np.sum(slider * in2))\n",
    "    for row in range(result_shape):\n",
    "            for col in range(result_shape):\n",
    "                slider = in1[ row:row+m,col:col+m,]\n",
    "                result.append(np.sum(slider * in2))\n",
    "    \n",
    "    return np.array(result).reshape(result_shape, result_shape).astype(int)"
   ]
  },
  {
   "cell_type": "code",
   "execution_count": 114,
   "metadata": {},
   "outputs": [
    {
     "name": "stdout",
     "output_type": "stream",
     "text": [
      "[[0 1 2]\n",
      " [0 5 7]\n",
      " [0 4 5]]\n",
      "------\n",
      "[[0 1 2]\n",
      " [0 5 7]\n",
      " [0 4 5]]\n",
      "[[5]]\n",
      "------\n",
      "[[5]]\n",
      "[]\n",
      "------\n",
      "[[5 7]\n",
      " [4 5]]\n"
     ]
    }
   ],
   "source": [
    "main()"
   ]
  }
 ],
 "metadata": {
  "kernelspec": {
   "display_name": "Python 3",
   "language": "python",
   "name": "python3"
  },
  "language_info": {
   "codemirror_mode": {
    "name": "ipython",
    "version": 3
   },
   "file_extension": ".py",
   "mimetype": "text/x-python",
   "name": "python",
   "nbconvert_exporter": "python",
   "pygments_lexer": "ipython3",
   "version": "3.9.6"
  },
  "orig_nbformat": 4
 },
 "nbformat": 4,
 "nbformat_minor": 2
}
