{
 "cells": [
  {
   "cell_type": "code",
   "execution_count": 160,
   "metadata": {},
   "outputs": [],
   "source": [
    "from cross_corelation import *\n",
    "from scipy import signal\n",
    "def main():\n",
    "    in1 = np.random.randint(1,10, (200, 200))\n",
    "    kernel = np.random.randint(1,10, (200, 200))\n",
    "\n",
    "\n",
    "    \n",
    "    # print(correlate2d(in1, kernel, \"full\"))\n",
    "\n",
    "    # print(\"------\")\n",
    "    # print(signal.correlate2d(in1, kernel, \"full\"))\n",
    "\n",
    "    # print(correlate2d(in1, kernel, \"valid\"))\n",
    "\n",
    "    # print(\"------\")\n",
    "    # print(signal.correlate2d(in1, kernel, \"valid\"))\n",
    "\n",
    "    print(correlate2d(in1, np.rot90(kernel,2), \"full\").shape)\n",
    "\n",
    "    print(\"------\")\n",
    "    print(signal.convolve2d(in1, kernel, \"full\").shape)\n",
    "\n",
    "\n",
    "# def correlate2d(signal, kernel):\n",
    "#     signal_height, signal_width = signal.shape\n",
    "#     kernel_height, kernel_width = kernel.shape\n",
    "\n",
    "#     # Calculate padding sizes\n",
    "#     pad_height = kernel_height - 1\n",
    "#     pad_width = kernel_width - 1\n",
    "\n",
    "#     # Pad the signal\n",
    "#     padded_signal = np.pad(signal, ((pad_height, pad_height), (pad_width, pad_width)), mode='constant')\n",
    "\n",
    "#     # Initialize the output array\n",
    "#     output_height = signal_height + 2 * pad_height\n",
    "#     output_width = signal_width + 2 * pad_width\n",
    "#     output = np.zeros((output_height, output_width))\n",
    "\n",
    "#     # Perform cross-correlation\n",
    "#     for i in range(output_height):\n",
    "#         for j in range(output_width):\n",
    "#             output[i, j] = np.sum(padded_signal[i:i+kernel_height, j:j+kernel_width] * kernel)\n",
    "\n",
    "#     return output\n",
    "\n",
    "# Example usage"
   ]
  },
  {
   "cell_type": "code",
   "execution_count": 161,
   "metadata": {},
   "outputs": [],
   "source": [
    "def correlate2d(in1: np.ndarray, in2: np.ndarray, mode=\"valid\", stride=1):\n",
    "    n = len(in1)\n",
    "    m = len(in2)\n",
    "    result = []\n",
    "    result_shape = 0\n",
    "    print(in2.shape)\n",
    "    if (mode == \"full\"):\n",
    "        result_shape = len(in1) + m - 1\n",
    "        in1 = np.pad(in1, (m - 1, m - 1), mode='constant')\n",
    "    elif(mode == \"same\"):\n",
    "        result_shape = len(in1) \n",
    "        in1 = np.pad(in1, (1, 1), mode='constant')\n",
    "    else:\n",
    "        result_shape = n - m + 1\n",
    "    for row in range(result_shape):\n",
    "            for col in range(result_shape):\n",
    "\n",
    "                slider = in1[ row:row+m,col:col+m,]\n",
    "                result.append(np.sum(slider * in2))\n",
    "    \n",
    "    return np.array(result).reshape(result_shape, result_shape).astype(int)"
   ]
  },
  {
   "cell_type": "code",
   "execution_count": 162,
   "metadata": {},
   "outputs": [
    {
     "name": "stdout",
     "output_type": "stream",
     "text": [
      "(200, 200)\n",
      "(399, 399)\n",
      "------\n",
      "(399, 399)\n"
     ]
    }
   ],
   "source": [
    "main()"
   ]
  }
 ],
 "metadata": {
  "kernelspec": {
   "display_name": "Python 3",
   "language": "python",
   "name": "python3"
  },
  "language_info": {
   "codemirror_mode": {
    "name": "ipython",
    "version": 3
   },
   "file_extension": ".py",
   "mimetype": "text/x-python",
   "name": "python",
   "nbconvert_exporter": "python",
   "pygments_lexer": "ipython3",
   "version": "3.9.6"
  },
  "orig_nbformat": 4
 },
 "nbformat": 4,
 "nbformat_minor": 2
}
